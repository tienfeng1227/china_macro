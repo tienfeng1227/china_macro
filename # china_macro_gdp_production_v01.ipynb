{
 "cells": [
  {
   "cell_type": "code",
   "execution_count": 48,
   "metadata": {},
   "outputs": [],
   "source": [
    "import pandas as pd\n",
    "import datetime\n",
    "import numpy as np\n",
    "import matplotlib.pyplot as plt\n",
    "import seaborn as sns\n",
    "import plotly.express as px\n",
    "import plotly.graph_objects as go\n",
    "from plotly.subplots import make_subplots"
   ]
  },
  {
   "cell_type": "code",
   "execution_count": null,
   "metadata": {},
   "outputs": [],
   "source": [
    "# for offline ploting\n",
    "#from plotly.offline import plot, iplot, init_notebook_mode\n",
    "#init_notebook_mode(connected=True)\n",
    "#import plotly.io as pio\n",
    "#pio.renderers.default = \"notebook_connected\""
   ]
  },
  {
   "cell_type": "code",
   "execution_count": 99,
   "metadata": {},
   "outputs": [],
   "source": [
    "df_gdp_pro = pd.read_excel('# 중국 매크로 데이터.xlsx', sheet_name = 'GDP생산')"
   ]
  },
  {
   "cell_type": "code",
   "execution_count": 100,
   "metadata": {},
   "outputs": [
    {
     "data": {
      "text/html": [
       "<div>\n",
       "<style scoped>\n",
       "    .dataframe tbody tr th:only-of-type {\n",
       "        vertical-align: middle;\n",
       "    }\n",
       "\n",
       "    .dataframe tbody tr th {\n",
       "        vertical-align: top;\n",
       "    }\n",
       "\n",
       "    .dataframe thead th {\n",
       "        text-align: right;\n",
       "    }\n",
       "</style>\n",
       "<table border=\"1\" class=\"dataframe\">\n",
       "  <thead>\n",
       "    <tr style=\"text-align: right;\">\n",
       "      <th></th>\n",
       "      <th>데이터를 업데이트하고 계열을 추가하거나 지우려면 이 링크를 선택하시고 다운로드 새로고침/편집을 클릭하세요</th>\n",
       "      <th>CN: GDP Index: YoY</th>\n",
       "      <th>CN: GDP Index: YoY: Primary Industry</th>\n",
       "      <th>CN: GDP Index: YoY: Secondary Industry(SI)</th>\n",
       "      <th>CN: GDP Index: YoY: SI: Industry: Manufacturing</th>\n",
       "      <th>CN: GDP Index: YoY: SI: Construction</th>\n",
       "      <th>CN: GDP Index: YoY: Tertiary Industry(TI)</th>\n",
       "    </tr>\n",
       "  </thead>\n",
       "  <tbody>\n",
       "    <tr>\n",
       "      <th>24</th>\n",
       "      <td>1992-03-01 00:00:00</td>\n",
       "      <td>113.6</td>\n",
       "      <td>108.8</td>\n",
       "      <td>118.3</td>\n",
       "      <td>NaN</td>\n",
       "      <td>118.1</td>\n",
       "      <td>109.7</td>\n",
       "    </tr>\n",
       "    <tr>\n",
       "      <th>25</th>\n",
       "      <td>1992-06-01 00:00:00</td>\n",
       "      <td>114.1</td>\n",
       "      <td>106.1</td>\n",
       "      <td>120.1</td>\n",
       "      <td>NaN</td>\n",
       "      <td>120.6</td>\n",
       "      <td>112</td>\n",
       "    </tr>\n",
       "    <tr>\n",
       "      <th>26</th>\n",
       "      <td>1992-09-01 00:00:00</td>\n",
       "      <td>114.6</td>\n",
       "      <td>103.4</td>\n",
       "      <td>121.1</td>\n",
       "      <td>NaN</td>\n",
       "      <td>122.1</td>\n",
       "      <td>115.6</td>\n",
       "    </tr>\n",
       "    <tr>\n",
       "      <th>27</th>\n",
       "      <td>1992-12-01 00:00:00</td>\n",
       "      <td>114.6</td>\n",
       "      <td>103.5</td>\n",
       "      <td>124.3</td>\n",
       "      <td>NaN</td>\n",
       "      <td>121.6</td>\n",
       "      <td>113.3</td>\n",
       "    </tr>\n",
       "    <tr>\n",
       "      <th>28</th>\n",
       "      <td>1993-03-01 00:00:00</td>\n",
       "      <td>115.3</td>\n",
       "      <td>105</td>\n",
       "      <td>120.9</td>\n",
       "      <td>NaN</td>\n",
       "      <td>122.9</td>\n",
       "      <td>111.9</td>\n",
       "    </tr>\n",
       "    <tr>\n",
       "      <th>...</th>\n",
       "      <td>...</td>\n",
       "      <td>...</td>\n",
       "      <td>...</td>\n",
       "      <td>...</td>\n",
       "      <td>...</td>\n",
       "      <td>...</td>\n",
       "      <td>...</td>\n",
       "    </tr>\n",
       "    <tr>\n",
       "      <th>139</th>\n",
       "      <td>2020-12-01 00:00:00</td>\n",
       "      <td>106.4</td>\n",
       "      <td>104.3</td>\n",
       "      <td>106.7</td>\n",
       "      <td>107.4</td>\n",
       "      <td>105.8</td>\n",
       "      <td>106.6</td>\n",
       "    </tr>\n",
       "    <tr>\n",
       "      <th>140</th>\n",
       "      <td>2021-03-01 00:00:00</td>\n",
       "      <td>118.3</td>\n",
       "      <td>108.1</td>\n",
       "      <td>124.4</td>\n",
       "      <td>126.8</td>\n",
       "      <td>122.8</td>\n",
       "      <td>115.6</td>\n",
       "    </tr>\n",
       "    <tr>\n",
       "      <th>141</th>\n",
       "      <td>2021-06-01 00:00:00</td>\n",
       "      <td>107.9</td>\n",
       "      <td>107.6</td>\n",
       "      <td>107.5</td>\n",
       "      <td>109.2</td>\n",
       "      <td>101.8</td>\n",
       "      <td>108.3</td>\n",
       "    </tr>\n",
       "    <tr>\n",
       "      <th>142</th>\n",
       "      <td>2021-09-01 00:00:00</td>\n",
       "      <td>104.9</td>\n",
       "      <td>107.1</td>\n",
       "      <td>103.6</td>\n",
       "      <td>104.6</td>\n",
       "      <td>98.2</td>\n",
       "      <td>105.4</td>\n",
       "    </tr>\n",
       "    <tr>\n",
       "      <th>143</th>\n",
       "      <td>2021-12-01 00:00:00</td>\n",
       "      <td>104</td>\n",
       "      <td>106.4</td>\n",
       "      <td>102.5</td>\n",
       "      <td>103.1</td>\n",
       "      <td>97.9</td>\n",
       "      <td>104.6</td>\n",
       "    </tr>\n",
       "  </tbody>\n",
       "</table>\n",
       "<p>120 rows × 7 columns</p>\n",
       "</div>"
      ],
      "text/plain": [
       "    데이터를 업데이트하고 계열을 추가하거나 지우려면 이 링크를 선택하시고 다운로드 새로고침/편집을 클릭하세요  \\\n",
       "24                                 1992-03-01 00:00:00           \n",
       "25                                 1992-06-01 00:00:00           \n",
       "26                                 1992-09-01 00:00:00           \n",
       "27                                 1992-12-01 00:00:00           \n",
       "28                                 1993-03-01 00:00:00           \n",
       "..                                                 ...           \n",
       "139                                2020-12-01 00:00:00           \n",
       "140                                2021-03-01 00:00:00           \n",
       "141                                2021-06-01 00:00:00           \n",
       "142                                2021-09-01 00:00:00           \n",
       "143                                2021-12-01 00:00:00           \n",
       "\n",
       "    CN: GDP Index: YoY CN: GDP Index: YoY: Primary Industry  \\\n",
       "24               113.6                                108.8   \n",
       "25               114.1                                106.1   \n",
       "26               114.6                                103.4   \n",
       "27               114.6                                103.5   \n",
       "28               115.3                                  105   \n",
       "..                 ...                                  ...   \n",
       "139              106.4                                104.3   \n",
       "140              118.3                                108.1   \n",
       "141              107.9                                107.6   \n",
       "142              104.9                                107.1   \n",
       "143                104                                106.4   \n",
       "\n",
       "    CN: GDP Index: YoY: Secondary Industry(SI)  \\\n",
       "24                                       118.3   \n",
       "25                                       120.1   \n",
       "26                                       121.1   \n",
       "27                                       124.3   \n",
       "28                                       120.9   \n",
       "..                                         ...   \n",
       "139                                      106.7   \n",
       "140                                      124.4   \n",
       "141                                      107.5   \n",
       "142                                      103.6   \n",
       "143                                      102.5   \n",
       "\n",
       "    CN: GDP Index: YoY: SI: Industry: Manufacturing  \\\n",
       "24                                              NaN   \n",
       "25                                              NaN   \n",
       "26                                              NaN   \n",
       "27                                              NaN   \n",
       "28                                              NaN   \n",
       "..                                              ...   \n",
       "139                                           107.4   \n",
       "140                                           126.8   \n",
       "141                                           109.2   \n",
       "142                                           104.6   \n",
       "143                                           103.1   \n",
       "\n",
       "    CN: GDP Index: YoY: SI: Construction  \\\n",
       "24                                 118.1   \n",
       "25                                 120.6   \n",
       "26                                 122.1   \n",
       "27                                 121.6   \n",
       "28                                 122.9   \n",
       "..                                   ...   \n",
       "139                                105.8   \n",
       "140                                122.8   \n",
       "141                                101.8   \n",
       "142                                 98.2   \n",
       "143                                 97.9   \n",
       "\n",
       "    CN: GDP Index: YoY: Tertiary Industry(TI)  \n",
       "24                                      109.7  \n",
       "25                                        112  \n",
       "26                                      115.6  \n",
       "27                                      113.3  \n",
       "28                                      111.9  \n",
       "..                                        ...  \n",
       "139                                     106.6  \n",
       "140                                     115.6  \n",
       "141                                     108.3  \n",
       "142                                     105.4  \n",
       "143                                     104.6  \n",
       "\n",
       "[120 rows x 7 columns]"
      ]
     },
     "metadata": {},
     "output_type": "display_data"
    }
   ],
   "source": [
    "df_gdp_pro = df_gdp_pro.iloc[24:]\n",
    "df_gdp_pro = df_gdp_pro.iloc[:, 0:7]\n",
    "display(df_gdp_pro)"
   ]
  },
  {
   "cell_type": "code",
   "execution_count": 101,
   "metadata": {},
   "outputs": [
    {
     "data": {
      "text/html": [
       "<div>\n",
       "<style scoped>\n",
       "    .dataframe tbody tr th:only-of-type {\n",
       "        vertical-align: middle;\n",
       "    }\n",
       "\n",
       "    .dataframe tbody tr th {\n",
       "        vertical-align: top;\n",
       "    }\n",
       "\n",
       "    .dataframe thead th {\n",
       "        text-align: right;\n",
       "    }\n",
       "</style>\n",
       "<table border=\"1\" class=\"dataframe\">\n",
       "  <thead>\n",
       "    <tr style=\"text-align: right;\">\n",
       "      <th></th>\n",
       "      <th>DATE</th>\n",
       "      <th>GDP_YoY</th>\n",
       "      <th>GDP_PI_YoY</th>\n",
       "      <th>GDP_SI_YoY</th>\n",
       "      <th>GDP_SI_MN_YoY</th>\n",
       "      <th>GDP_SI_CS_YoY</th>\n",
       "      <th>GDP_TI_YoY</th>\n",
       "    </tr>\n",
       "  </thead>\n",
       "  <tbody>\n",
       "    <tr>\n",
       "      <th>24</th>\n",
       "      <td>1992-03-01 00:00:00</td>\n",
       "      <td>113.6</td>\n",
       "      <td>108.8</td>\n",
       "      <td>118.3</td>\n",
       "      <td>NaN</td>\n",
       "      <td>118.1</td>\n",
       "      <td>109.7</td>\n",
       "    </tr>\n",
       "    <tr>\n",
       "      <th>25</th>\n",
       "      <td>1992-06-01 00:00:00</td>\n",
       "      <td>114.1</td>\n",
       "      <td>106.1</td>\n",
       "      <td>120.1</td>\n",
       "      <td>NaN</td>\n",
       "      <td>120.6</td>\n",
       "      <td>112</td>\n",
       "    </tr>\n",
       "    <tr>\n",
       "      <th>26</th>\n",
       "      <td>1992-09-01 00:00:00</td>\n",
       "      <td>114.6</td>\n",
       "      <td>103.4</td>\n",
       "      <td>121.1</td>\n",
       "      <td>NaN</td>\n",
       "      <td>122.1</td>\n",
       "      <td>115.6</td>\n",
       "    </tr>\n",
       "    <tr>\n",
       "      <th>27</th>\n",
       "      <td>1992-12-01 00:00:00</td>\n",
       "      <td>114.6</td>\n",
       "      <td>103.5</td>\n",
       "      <td>124.3</td>\n",
       "      <td>NaN</td>\n",
       "      <td>121.6</td>\n",
       "      <td>113.3</td>\n",
       "    </tr>\n",
       "    <tr>\n",
       "      <th>28</th>\n",
       "      <td>1993-03-01 00:00:00</td>\n",
       "      <td>115.3</td>\n",
       "      <td>105</td>\n",
       "      <td>120.9</td>\n",
       "      <td>NaN</td>\n",
       "      <td>122.9</td>\n",
       "      <td>111.9</td>\n",
       "    </tr>\n",
       "    <tr>\n",
       "      <th>29</th>\n",
       "      <td>1993-06-01 00:00:00</td>\n",
       "      <td>113.5</td>\n",
       "      <td>104</td>\n",
       "      <td>120</td>\n",
       "      <td>NaN</td>\n",
       "      <td>121.4</td>\n",
       "      <td>110.5</td>\n",
       "    </tr>\n",
       "    <tr>\n",
       "      <th>30</th>\n",
       "      <td>1993-09-01 00:00:00</td>\n",
       "      <td>112.9</td>\n",
       "      <td>104.2</td>\n",
       "      <td>118.4</td>\n",
       "      <td>NaN</td>\n",
       "      <td>118.1</td>\n",
       "      <td>111.9</td>\n",
       "    </tr>\n",
       "    <tr>\n",
       "      <th>31</th>\n",
       "      <td>1993-12-01 00:00:00</td>\n",
       "      <td>114.1</td>\n",
       "      <td>105.3</td>\n",
       "      <td>120</td>\n",
       "      <td>NaN</td>\n",
       "      <td>113.8</td>\n",
       "      <td>114.3</td>\n",
       "    </tr>\n",
       "    <tr>\n",
       "      <th>32</th>\n",
       "      <td>1994-03-01 00:00:00</td>\n",
       "      <td>114.1</td>\n",
       "      <td>105.1</td>\n",
       "      <td>118.1</td>\n",
       "      <td>NaN</td>\n",
       "      <td>116.7</td>\n",
       "      <td>111.7</td>\n",
       "    </tr>\n",
       "    <tr>\n",
       "      <th>33</th>\n",
       "      <td>1994-06-01 00:00:00</td>\n",
       "      <td>113.3</td>\n",
       "      <td>104</td>\n",
       "      <td>118.6</td>\n",
       "      <td>NaN</td>\n",
       "      <td>116.4</td>\n",
       "      <td>110.9</td>\n",
       "    </tr>\n",
       "    <tr>\n",
       "      <th>34</th>\n",
       "      <td>1994-09-01 00:00:00</td>\n",
       "      <td>113.1</td>\n",
       "      <td>103.8</td>\n",
       "      <td>118.5</td>\n",
       "      <td>NaN</td>\n",
       "      <td>113.6</td>\n",
       "      <td>111.6</td>\n",
       "    </tr>\n",
       "    <tr>\n",
       "      <th>35</th>\n",
       "      <td>1994-12-01 00:00:00</td>\n",
       "      <td>112</td>\n",
       "      <td>103.6</td>\n",
       "      <td>117.4</td>\n",
       "      <td>NaN</td>\n",
       "      <td>110.6</td>\n",
       "      <td>111.3</td>\n",
       "    </tr>\n",
       "    <tr>\n",
       "      <th>36</th>\n",
       "      <td>1995-03-01 00:00:00</td>\n",
       "      <td>111.9</td>\n",
       "      <td>105.4</td>\n",
       "      <td>114.3</td>\n",
       "      <td>NaN</td>\n",
       "      <td>112</td>\n",
       "      <td>110.5</td>\n",
       "    </tr>\n",
       "  </tbody>\n",
       "</table>\n",
       "</div>"
      ],
      "text/plain": [
       "                   DATE GDP_YoY GDP_PI_YoY GDP_SI_YoY GDP_SI_MN_YoY  \\\n",
       "24  1992-03-01 00:00:00   113.6      108.8      118.3           NaN   \n",
       "25  1992-06-01 00:00:00   114.1      106.1      120.1           NaN   \n",
       "26  1992-09-01 00:00:00   114.6      103.4      121.1           NaN   \n",
       "27  1992-12-01 00:00:00   114.6      103.5      124.3           NaN   \n",
       "28  1993-03-01 00:00:00   115.3        105      120.9           NaN   \n",
       "29  1993-06-01 00:00:00   113.5        104        120           NaN   \n",
       "30  1993-09-01 00:00:00   112.9      104.2      118.4           NaN   \n",
       "31  1993-12-01 00:00:00   114.1      105.3        120           NaN   \n",
       "32  1994-03-01 00:00:00   114.1      105.1      118.1           NaN   \n",
       "33  1994-06-01 00:00:00   113.3        104      118.6           NaN   \n",
       "34  1994-09-01 00:00:00   113.1      103.8      118.5           NaN   \n",
       "35  1994-12-01 00:00:00     112      103.6      117.4           NaN   \n",
       "36  1995-03-01 00:00:00   111.9      105.4      114.3           NaN   \n",
       "\n",
       "   GDP_SI_CS_YoY GDP_TI_YoY  \n",
       "24         118.1      109.7  \n",
       "25         120.6        112  \n",
       "26         122.1      115.6  \n",
       "27         121.6      113.3  \n",
       "28         122.9      111.9  \n",
       "29         121.4      110.5  \n",
       "30         118.1      111.9  \n",
       "31         113.8      114.3  \n",
       "32         116.7      111.7  \n",
       "33         116.4      110.9  \n",
       "34         113.6      111.6  \n",
       "35         110.6      111.3  \n",
       "36           112      110.5  "
      ]
     },
     "execution_count": 101,
     "metadata": {},
     "output_type": "execute_result"
    }
   ],
   "source": [
    "df_gdp_pro = df_gdp_pro.rename(columns = {'데이터를 업데이트하고 계열을 추가하거나 지우려면 이 링크를 선택하시고 다운로드 새로고침/편집을 클릭하세요': 'DATE'})\n",
    "df_gdp_pro = df_gdp_pro.rename(columns = {'CN: GDP Index: YoY': 'GDP_YoY'})\n",
    "df_gdp_pro = df_gdp_pro.rename(columns = {'CN: GDP Index: YoY: Primary Industry': 'GDP_PI_YoY'})\n",
    "df_gdp_pro = df_gdp_pro.rename(columns = {'CN: GDP Index: YoY: Secondary Industry(SI)': 'GDP_SI_YoY'})\n",
    "df_gdp_pro = df_gdp_pro.rename(columns = {'CN: GDP Index: YoY: SI: Industry: Manufacturing': 'GDP_SI_MN_YoY'})\n",
    "df_gdp_pro = df_gdp_pro.rename(columns = {'CN: GDP Index: YoY: SI: Construction': 'GDP_SI_CS_YoY'})\n",
    "df_gdp_pro = df_gdp_pro.rename(columns = {'CN: GDP Index: YoY: Tertiary Industry(TI)': 'GDP_TI_YoY'})\n",
    "df_gdp_pro.head(13)"
   ]
  },
  {
   "cell_type": "code",
   "execution_count": 102,
   "metadata": {},
   "outputs": [],
   "source": [
    "df_gdp_pro = df_gdp_pro.dropna()"
   ]
  },
  {
   "cell_type": "code",
   "execution_count": 103,
   "metadata": {},
   "outputs": [
    {
     "data": {
      "text/html": [
       "<div>\n",
       "<style scoped>\n",
       "    .dataframe tbody tr th:only-of-type {\n",
       "        vertical-align: middle;\n",
       "    }\n",
       "\n",
       "    .dataframe tbody tr th {\n",
       "        vertical-align: top;\n",
       "    }\n",
       "\n",
       "    .dataframe thead th {\n",
       "        text-align: right;\n",
       "    }\n",
       "</style>\n",
       "<table border=\"1\" class=\"dataframe\">\n",
       "  <thead>\n",
       "    <tr style=\"text-align: right;\">\n",
       "      <th></th>\n",
       "      <th>DATE</th>\n",
       "      <th>GDP_YoY</th>\n",
       "      <th>GDP_PI_YoY</th>\n",
       "      <th>GDP_SI_YoY</th>\n",
       "      <th>GDP_SI_MN_YoY</th>\n",
       "      <th>GDP_SI_CS_YoY</th>\n",
       "      <th>GDP_TI_YoY</th>\n",
       "    </tr>\n",
       "  </thead>\n",
       "  <tbody>\n",
       "    <tr>\n",
       "      <th>116</th>\n",
       "      <td>2015-03-01 00:00:00</td>\n",
       "      <td>107.1</td>\n",
       "      <td>103.1</td>\n",
       "      <td>106.2</td>\n",
       "      <td>106.3</td>\n",
       "      <td>109.2</td>\n",
       "      <td>108.4</td>\n",
       "    </tr>\n",
       "    <tr>\n",
       "      <th>117</th>\n",
       "      <td>2015-06-01 00:00:00</td>\n",
       "      <td>107.1</td>\n",
       "      <td>103.7</td>\n",
       "      <td>105.9</td>\n",
       "      <td>106.3</td>\n",
       "      <td>106.4</td>\n",
       "      <td>109</td>\n",
       "    </tr>\n",
       "    <tr>\n",
       "      <th>118</th>\n",
       "      <td>2015-09-01 00:00:00</td>\n",
       "      <td>107</td>\n",
       "      <td>104.1</td>\n",
       "      <td>105.7</td>\n",
       "      <td>106</td>\n",
       "      <td>106.4</td>\n",
       "      <td>109</td>\n",
       "    </tr>\n",
       "    <tr>\n",
       "      <th>119</th>\n",
       "      <td>2015-12-01 00:00:00</td>\n",
       "      <td>106.9</td>\n",
       "      <td>104.1</td>\n",
       "      <td>106</td>\n",
       "      <td>106.3</td>\n",
       "      <td>107.9</td>\n",
       "      <td>108.8</td>\n",
       "    </tr>\n",
       "    <tr>\n",
       "      <th>120</th>\n",
       "      <td>2016-03-01 00:00:00</td>\n",
       "      <td>106.9</td>\n",
       "      <td>102.9</td>\n",
       "      <td>105.8</td>\n",
       "      <td>105.5</td>\n",
       "      <td>108.9</td>\n",
       "      <td>108</td>\n",
       "    </tr>\n",
       "  </tbody>\n",
       "</table>\n",
       "</div>"
      ],
      "text/plain": [
       "                    DATE GDP_YoY GDP_PI_YoY GDP_SI_YoY GDP_SI_MN_YoY  \\\n",
       "116  2015-03-01 00:00:00   107.1      103.1      106.2         106.3   \n",
       "117  2015-06-01 00:00:00   107.1      103.7      105.9         106.3   \n",
       "118  2015-09-01 00:00:00     107      104.1      105.7           106   \n",
       "119  2015-12-01 00:00:00   106.9      104.1        106         106.3   \n",
       "120  2016-03-01 00:00:00   106.9      102.9      105.8         105.5   \n",
       "\n",
       "    GDP_SI_CS_YoY GDP_TI_YoY  \n",
       "116         109.2      108.4  \n",
       "117         106.4        109  \n",
       "118         106.4        109  \n",
       "119         107.9      108.8  \n",
       "120         108.9        108  "
      ]
     },
     "execution_count": 103,
     "metadata": {},
     "output_type": "execute_result"
    }
   ],
   "source": [
    "df_gdp_pro.head()"
   ]
  },
  {
   "cell_type": "code",
   "execution_count": 104,
   "metadata": {},
   "outputs": [],
   "source": [
    "df_gdp_pro['GDP_YoY_New'] = df_gdp_pro['GDP_YoY'] - 100\n",
    "df_gdp_pro['GDP_PI_YoY_New'] = df_gdp_pro['GDP_PI_YoY'] - 100\n",
    "df_gdp_pro['GDP_SI_YoY_New'] = df_gdp_pro['GDP_SI_YoY'] - 100\n",
    "df_gdp_pro['GDP_SI_MN_YoY_New'] = df_gdp_pro['GDP_SI_MN_YoY'] - 100\n",
    "df_gdp_pro['GDP_SI_CS_YoY_New'] = df_gdp_pro['GDP_SI_CS_YoY'] - 100\n",
    "df_gdp_pro['GDP_TI_YoY_New'] = df_gdp_pro['GDP_TI_YoY'] - 100"
   ]
  },
  {
   "cell_type": "code",
   "execution_count": 86,
   "metadata": {},
   "outputs": [],
   "source": [
    "df_gdp_exp = pd.read_excel('# 중국 매크로 데이터.xlsx', sheet_name = 'GDP기여')"
   ]
  },
  {
   "cell_type": "code",
   "execution_count": 87,
   "metadata": {},
   "outputs": [
    {
     "data": {
      "text/html": [
       "<div>\n",
       "<style scoped>\n",
       "    .dataframe tbody tr th:only-of-type {\n",
       "        vertical-align: middle;\n",
       "    }\n",
       "\n",
       "    .dataframe tbody tr th {\n",
       "        vertical-align: top;\n",
       "    }\n",
       "\n",
       "    .dataframe thead th {\n",
       "        text-align: right;\n",
       "    }\n",
       "</style>\n",
       "<table border=\"1\" class=\"dataframe\">\n",
       "  <thead>\n",
       "    <tr style=\"text-align: right;\">\n",
       "      <th></th>\n",
       "      <th>데이터를 업데이트하고 계열을 추가하거나 지우려면 이 링크를 선택하시고 다운로드 새로고침/편집을 클릭하세요</th>\n",
       "      <th>CN: Share to GDP Growth: Final Consumption Expenditure</th>\n",
       "      <th>CN: Share to GDP Growth: Gross Capital Formation</th>\n",
       "      <th>CN: Share to GDP Growth: Net Export of Goods and Service</th>\n",
       "      <th>CN: Contribution to GDP Growth: Final Consumption Expenditure</th>\n",
       "      <th>CN: Contribution to GDP Growth: Gross Capital Formation</th>\n",
       "      <th>CN: Contribution to GDP Growth: Net Export of Goods and Service</th>\n",
       "    </tr>\n",
       "  </thead>\n",
       "  <tbody>\n",
       "    <tr>\n",
       "      <th>23</th>\n",
       "      <td>2015-03-01 00:00:00</td>\n",
       "      <td>64.1</td>\n",
       "      <td>16.7</td>\n",
       "      <td>19.2</td>\n",
       "      <td>4.487</td>\n",
       "      <td>1.169</td>\n",
       "      <td>1.344</td>\n",
       "    </tr>\n",
       "    <tr>\n",
       "      <th>24</th>\n",
       "      <td>2015-06-01 00:00:00</td>\n",
       "      <td>60.6</td>\n",
       "      <td>47</td>\n",
       "      <td>-7.6</td>\n",
       "      <td>4.242</td>\n",
       "      <td>3.29</td>\n",
       "      <td>-0.532</td>\n",
       "    </tr>\n",
       "    <tr>\n",
       "      <th>25</th>\n",
       "      <td>2015-09-01 00:00:00</td>\n",
       "      <td>51.3</td>\n",
       "      <td>59.1</td>\n",
       "      <td>-10.4</td>\n",
       "      <td>3.5397</td>\n",
       "      <td>4.0779</td>\n",
       "      <td>-0.7176</td>\n",
       "    </tr>\n",
       "    <tr>\n",
       "      <th>26</th>\n",
       "      <td>2015-12-01 00:00:00</td>\n",
       "      <td>63.5</td>\n",
       "      <td>39</td>\n",
       "      <td>-2.5</td>\n",
       "      <td>4.318</td>\n",
       "      <td>2.652</td>\n",
       "      <td>-0.17</td>\n",
       "    </tr>\n",
       "    <tr>\n",
       "      <th>27</th>\n",
       "      <td>2016-03-01 00:00:00</td>\n",
       "      <td>78.1</td>\n",
       "      <td>38.3</td>\n",
       "      <td>-16.4</td>\n",
       "      <td>5.3889</td>\n",
       "      <td>2.6427</td>\n",
       "      <td>-1.1316</td>\n",
       "    </tr>\n",
       "    <tr>\n",
       "      <th>28</th>\n",
       "      <td>2016-06-01 00:00:00</td>\n",
       "      <td>55.9</td>\n",
       "      <td>49.1</td>\n",
       "      <td>-5</td>\n",
       "      <td>3.8012</td>\n",
       "      <td>3.3388</td>\n",
       "      <td>-0.34</td>\n",
       "    </tr>\n",
       "    <tr>\n",
       "      <th>29</th>\n",
       "      <td>2016-09-01 00:00:00</td>\n",
       "      <td>58.4</td>\n",
       "      <td>52.4</td>\n",
       "      <td>-10.7</td>\n",
       "      <td>3.9712</td>\n",
       "      <td>3.5632</td>\n",
       "      <td>-0.7276</td>\n",
       "    </tr>\n",
       "    <tr>\n",
       "      <th>30</th>\n",
       "      <td>2016-12-01 00:00:00</td>\n",
       "      <td>72</td>\n",
       "      <td>42.5</td>\n",
       "      <td>-14.5</td>\n",
       "      <td>4.968</td>\n",
       "      <td>2.9325</td>\n",
       "      <td>-1.0005</td>\n",
       "    </tr>\n",
       "    <tr>\n",
       "      <th>31</th>\n",
       "      <td>2017-03-01 00:00:00</td>\n",
       "      <td>76.2</td>\n",
       "      <td>28.4</td>\n",
       "      <td>-4.5</td>\n",
       "      <td>5.334</td>\n",
       "      <td>1.988</td>\n",
       "      <td>-0.315</td>\n",
       "    </tr>\n",
       "    <tr>\n",
       "      <th>32</th>\n",
       "      <td>2017-06-01 00:00:00</td>\n",
       "      <td>49.7</td>\n",
       "      <td>49.8</td>\n",
       "      <td>0.5</td>\n",
       "      <td>3.479</td>\n",
       "      <td>3.486</td>\n",
       "      <td>0.035</td>\n",
       "    </tr>\n",
       "    <tr>\n",
       "      <th>33</th>\n",
       "      <td>2017-09-01 00:00:00</td>\n",
       "      <td>60.1</td>\n",
       "      <td>38.4</td>\n",
       "      <td>1.5</td>\n",
       "      <td>4.1469</td>\n",
       "      <td>2.6496</td>\n",
       "      <td>0.1035</td>\n",
       "    </tr>\n",
       "    <tr>\n",
       "      <th>34</th>\n",
       "      <td>2017-12-01 00:00:00</td>\n",
       "      <td>42.4</td>\n",
       "      <td>40.1</td>\n",
       "      <td>17.4</td>\n",
       "      <td>2.8832</td>\n",
       "      <td>2.7268</td>\n",
       "      <td>1.1832</td>\n",
       "    </tr>\n",
       "    <tr>\n",
       "      <th>35</th>\n",
       "      <td>2018-03-01 00:00:00</td>\n",
       "      <td>68.5</td>\n",
       "      <td>47.8</td>\n",
       "      <td>-16.3</td>\n",
       "      <td>4.7265</td>\n",
       "      <td>3.2982</td>\n",
       "      <td>-1.1247</td>\n",
       "    </tr>\n",
       "    <tr>\n",
       "      <th>36</th>\n",
       "      <td>2018-06-01 00:00:00</td>\n",
       "      <td>68.3</td>\n",
       "      <td>40.3</td>\n",
       "      <td>-8.5</td>\n",
       "      <td>4.7127</td>\n",
       "      <td>2.7807</td>\n",
       "      <td>-0.5865</td>\n",
       "    </tr>\n",
       "    <tr>\n",
       "      <th>37</th>\n",
       "      <td>2018-09-01 00:00:00</td>\n",
       "      <td>62.9</td>\n",
       "      <td>44.7</td>\n",
       "      <td>-7.7</td>\n",
       "      <td>4.2143</td>\n",
       "      <td>2.9949</td>\n",
       "      <td>-0.5159</td>\n",
       "    </tr>\n",
       "    <tr>\n",
       "      <th>38</th>\n",
       "      <td>2018-12-01 00:00:00</td>\n",
       "      <td>57.5</td>\n",
       "      <td>40.7</td>\n",
       "      <td>1.9</td>\n",
       "      <td>3.7375</td>\n",
       "      <td>2.6455</td>\n",
       "      <td>0.1235</td>\n",
       "    </tr>\n",
       "    <tr>\n",
       "      <th>39</th>\n",
       "      <td>2019-03-01 00:00:00</td>\n",
       "      <td>66.1</td>\n",
       "      <td>13.4</td>\n",
       "      <td>20.5</td>\n",
       "      <td>4.1643</td>\n",
       "      <td>0.8442</td>\n",
       "      <td>1.2915</td>\n",
       "    </tr>\n",
       "    <tr>\n",
       "      <th>40</th>\n",
       "      <td>2019-06-01 00:00:00</td>\n",
       "      <td>52.3</td>\n",
       "      <td>33.7</td>\n",
       "      <td>14</td>\n",
       "      <td>3.138</td>\n",
       "      <td>2.022</td>\n",
       "      <td>0.84</td>\n",
       "    </tr>\n",
       "    <tr>\n",
       "      <th>41</th>\n",
       "      <td>2019-09-01 00:00:00</td>\n",
       "      <td>59.2</td>\n",
       "      <td>23.3</td>\n",
       "      <td>17.5</td>\n",
       "      <td>3.4928</td>\n",
       "      <td>1.3747</td>\n",
       "      <td>1.0325</td>\n",
       "    </tr>\n",
       "    <tr>\n",
       "      <th>42</th>\n",
       "      <td>2019-12-01 00:00:00</td>\n",
       "      <td>57.2</td>\n",
       "      <td>43</td>\n",
       "      <td>-0.2</td>\n",
       "      <td>3.3176</td>\n",
       "      <td>2.494</td>\n",
       "      <td>-0.0116</td>\n",
       "    </tr>\n",
       "    <tr>\n",
       "      <th>43</th>\n",
       "      <td>2020-03-01 00:00:00</td>\n",
       "      <td>58.4</td>\n",
       "      <td>24</td>\n",
       "      <td>17.5</td>\n",
       "      <td>-4.0296</td>\n",
       "      <td>-1.656</td>\n",
       "      <td>-1.2075</td>\n",
       "    </tr>\n",
       "    <tr>\n",
       "      <th>44</th>\n",
       "      <td>2020-06-01 00:00:00</td>\n",
       "      <td>-68.4</td>\n",
       "      <td>154.4</td>\n",
       "      <td>14</td>\n",
       "      <td>-2.1204</td>\n",
       "      <td>4.7864</td>\n",
       "      <td>0.434</td>\n",
       "    </tr>\n",
       "    <tr>\n",
       "      <th>45</th>\n",
       "      <td>2020-09-01 00:00:00</td>\n",
       "      <td>35.5</td>\n",
       "      <td>40.5</td>\n",
       "      <td>24</td>\n",
       "      <td>1.704</td>\n",
       "      <td>1.944</td>\n",
       "      <td>1.152</td>\n",
       "    </tr>\n",
       "    <tr>\n",
       "      <th>46</th>\n",
       "      <td>2020-12-01 00:00:00</td>\n",
       "      <td>44.8</td>\n",
       "      <td>31.5</td>\n",
       "      <td>23.7</td>\n",
       "      <td>2.8672</td>\n",
       "      <td>2.016</td>\n",
       "      <td>1.5168</td>\n",
       "    </tr>\n",
       "    <tr>\n",
       "      <th>47</th>\n",
       "      <td>2021-03-01 00:00:00</td>\n",
       "      <td>50.7</td>\n",
       "      <td>24</td>\n",
       "      <td>25.3</td>\n",
       "      <td>9.2781</td>\n",
       "      <td>4.392</td>\n",
       "      <td>4.6299</td>\n",
       "    </tr>\n",
       "    <tr>\n",
       "      <th>48</th>\n",
       "      <td>2021-06-01 00:00:00</td>\n",
       "      <td>74.1</td>\n",
       "      <td>12.8</td>\n",
       "      <td>13.1</td>\n",
       "      <td>5.8539</td>\n",
       "      <td>1.0112</td>\n",
       "      <td>1.0349</td>\n",
       "    </tr>\n",
       "    <tr>\n",
       "      <th>49</th>\n",
       "      <td>2021-09-01 00:00:00</td>\n",
       "      <td>77.5</td>\n",
       "      <td>7.8</td>\n",
       "      <td>14.7</td>\n",
       "      <td>3.7975</td>\n",
       "      <td>0.3822</td>\n",
       "      <td>0.7203</td>\n",
       "    </tr>\n",
       "    <tr>\n",
       "      <th>50</th>\n",
       "      <td>2021-12-01 00:00:00</td>\n",
       "      <td>85.3</td>\n",
       "      <td>-11.6</td>\n",
       "      <td>26.4</td>\n",
       "      <td>3.412</td>\n",
       "      <td>-0.464</td>\n",
       "      <td>1.056</td>\n",
       "    </tr>\n",
       "  </tbody>\n",
       "</table>\n",
       "</div>"
      ],
      "text/plain": [
       "   데이터를 업데이트하고 계열을 추가하거나 지우려면 이 링크를 선택하시고 다운로드 새로고침/편집을 클릭하세요  \\\n",
       "23                                2015-03-01 00:00:00           \n",
       "24                                2015-06-01 00:00:00           \n",
       "25                                2015-09-01 00:00:00           \n",
       "26                                2015-12-01 00:00:00           \n",
       "27                                2016-03-01 00:00:00           \n",
       "28                                2016-06-01 00:00:00           \n",
       "29                                2016-09-01 00:00:00           \n",
       "30                                2016-12-01 00:00:00           \n",
       "31                                2017-03-01 00:00:00           \n",
       "32                                2017-06-01 00:00:00           \n",
       "33                                2017-09-01 00:00:00           \n",
       "34                                2017-12-01 00:00:00           \n",
       "35                                2018-03-01 00:00:00           \n",
       "36                                2018-06-01 00:00:00           \n",
       "37                                2018-09-01 00:00:00           \n",
       "38                                2018-12-01 00:00:00           \n",
       "39                                2019-03-01 00:00:00           \n",
       "40                                2019-06-01 00:00:00           \n",
       "41                                2019-09-01 00:00:00           \n",
       "42                                2019-12-01 00:00:00           \n",
       "43                                2020-03-01 00:00:00           \n",
       "44                                2020-06-01 00:00:00           \n",
       "45                                2020-09-01 00:00:00           \n",
       "46                                2020-12-01 00:00:00           \n",
       "47                                2021-03-01 00:00:00           \n",
       "48                                2021-06-01 00:00:00           \n",
       "49                                2021-09-01 00:00:00           \n",
       "50                                2021-12-01 00:00:00           \n",
       "\n",
       "   CN: Share to GDP Growth: Final Consumption Expenditure  \\\n",
       "23                                               64.1       \n",
       "24                                               60.6       \n",
       "25                                               51.3       \n",
       "26                                               63.5       \n",
       "27                                               78.1       \n",
       "28                                               55.9       \n",
       "29                                               58.4       \n",
       "30                                                 72       \n",
       "31                                               76.2       \n",
       "32                                               49.7       \n",
       "33                                               60.1       \n",
       "34                                               42.4       \n",
       "35                                               68.5       \n",
       "36                                               68.3       \n",
       "37                                               62.9       \n",
       "38                                               57.5       \n",
       "39                                               66.1       \n",
       "40                                               52.3       \n",
       "41                                               59.2       \n",
       "42                                               57.2       \n",
       "43                                               58.4       \n",
       "44                                              -68.4       \n",
       "45                                               35.5       \n",
       "46                                               44.8       \n",
       "47                                               50.7       \n",
       "48                                               74.1       \n",
       "49                                               77.5       \n",
       "50                                               85.3       \n",
       "\n",
       "   CN: Share to GDP Growth: Gross Capital Formation  \\\n",
       "23                                             16.7   \n",
       "24                                               47   \n",
       "25                                             59.1   \n",
       "26                                               39   \n",
       "27                                             38.3   \n",
       "28                                             49.1   \n",
       "29                                             52.4   \n",
       "30                                             42.5   \n",
       "31                                             28.4   \n",
       "32                                             49.8   \n",
       "33                                             38.4   \n",
       "34                                             40.1   \n",
       "35                                             47.8   \n",
       "36                                             40.3   \n",
       "37                                             44.7   \n",
       "38                                             40.7   \n",
       "39                                             13.4   \n",
       "40                                             33.7   \n",
       "41                                             23.3   \n",
       "42                                               43   \n",
       "43                                               24   \n",
       "44                                            154.4   \n",
       "45                                             40.5   \n",
       "46                                             31.5   \n",
       "47                                               24   \n",
       "48                                             12.8   \n",
       "49                                              7.8   \n",
       "50                                            -11.6   \n",
       "\n",
       "   CN: Share to GDP Growth: Net Export of Goods and Service  \\\n",
       "23                                               19.2         \n",
       "24                                               -7.6         \n",
       "25                                              -10.4         \n",
       "26                                               -2.5         \n",
       "27                                              -16.4         \n",
       "28                                                 -5         \n",
       "29                                              -10.7         \n",
       "30                                              -14.5         \n",
       "31                                               -4.5         \n",
       "32                                                0.5         \n",
       "33                                                1.5         \n",
       "34                                               17.4         \n",
       "35                                              -16.3         \n",
       "36                                               -8.5         \n",
       "37                                               -7.7         \n",
       "38                                                1.9         \n",
       "39                                               20.5         \n",
       "40                                                 14         \n",
       "41                                               17.5         \n",
       "42                                               -0.2         \n",
       "43                                               17.5         \n",
       "44                                                 14         \n",
       "45                                                 24         \n",
       "46                                               23.7         \n",
       "47                                               25.3         \n",
       "48                                               13.1         \n",
       "49                                               14.7         \n",
       "50                                               26.4         \n",
       "\n",
       "   CN: Contribution to GDP Growth: Final Consumption Expenditure  \\\n",
       "23                                              4.487              \n",
       "24                                              4.242              \n",
       "25                                             3.5397              \n",
       "26                                              4.318              \n",
       "27                                             5.3889              \n",
       "28                                             3.8012              \n",
       "29                                             3.9712              \n",
       "30                                              4.968              \n",
       "31                                              5.334              \n",
       "32                                              3.479              \n",
       "33                                             4.1469              \n",
       "34                                             2.8832              \n",
       "35                                             4.7265              \n",
       "36                                             4.7127              \n",
       "37                                             4.2143              \n",
       "38                                             3.7375              \n",
       "39                                             4.1643              \n",
       "40                                              3.138              \n",
       "41                                             3.4928              \n",
       "42                                             3.3176              \n",
       "43                                            -4.0296              \n",
       "44                                            -2.1204              \n",
       "45                                              1.704              \n",
       "46                                             2.8672              \n",
       "47                                             9.2781              \n",
       "48                                             5.8539              \n",
       "49                                             3.7975              \n",
       "50                                              3.412              \n",
       "\n",
       "   CN: Contribution to GDP Growth: Gross Capital Formation  \\\n",
       "23                                              1.169        \n",
       "24                                               3.29        \n",
       "25                                             4.0779        \n",
       "26                                              2.652        \n",
       "27                                             2.6427        \n",
       "28                                             3.3388        \n",
       "29                                             3.5632        \n",
       "30                                             2.9325        \n",
       "31                                              1.988        \n",
       "32                                              3.486        \n",
       "33                                             2.6496        \n",
       "34                                             2.7268        \n",
       "35                                             3.2982        \n",
       "36                                             2.7807        \n",
       "37                                             2.9949        \n",
       "38                                             2.6455        \n",
       "39                                             0.8442        \n",
       "40                                              2.022        \n",
       "41                                             1.3747        \n",
       "42                                              2.494        \n",
       "43                                             -1.656        \n",
       "44                                             4.7864        \n",
       "45                                              1.944        \n",
       "46                                              2.016        \n",
       "47                                              4.392        \n",
       "48                                             1.0112        \n",
       "49                                             0.3822        \n",
       "50                                             -0.464        \n",
       "\n",
       "   CN: Contribution to GDP Growth: Net Export of Goods and Service  \n",
       "23                                              1.344               \n",
       "24                                             -0.532               \n",
       "25                                            -0.7176               \n",
       "26                                              -0.17               \n",
       "27                                            -1.1316               \n",
       "28                                              -0.34               \n",
       "29                                            -0.7276               \n",
       "30                                            -1.0005               \n",
       "31                                             -0.315               \n",
       "32                                              0.035               \n",
       "33                                             0.1035               \n",
       "34                                             1.1832               \n",
       "35                                            -1.1247               \n",
       "36                                            -0.5865               \n",
       "37                                            -0.5159               \n",
       "38                                             0.1235               \n",
       "39                                             1.2915               \n",
       "40                                               0.84               \n",
       "41                                             1.0325               \n",
       "42                                            -0.0116               \n",
       "43                                            -1.2075               \n",
       "44                                              0.434               \n",
       "45                                              1.152               \n",
       "46                                             1.5168               \n",
       "47                                             4.6299               \n",
       "48                                             1.0349               \n",
       "49                                             0.7203               \n",
       "50                                              1.056               "
      ]
     },
     "metadata": {},
     "output_type": "display_data"
    }
   ],
   "source": [
    "df_gdp_exp = df_gdp_exp.iloc[23:]\n",
    "df_gdp_exp = df_gdp_exp.iloc[:, 0:7]\n",
    "display(df_gdp_exp)"
   ]
  },
  {
   "cell_type": "code",
   "execution_count": 88,
   "metadata": {},
   "outputs": [
    {
     "data": {
      "text/html": [
       "<div>\n",
       "<style scoped>\n",
       "    .dataframe tbody tr th:only-of-type {\n",
       "        vertical-align: middle;\n",
       "    }\n",
       "\n",
       "    .dataframe tbody tr th {\n",
       "        vertical-align: top;\n",
       "    }\n",
       "\n",
       "    .dataframe thead th {\n",
       "        text-align: right;\n",
       "    }\n",
       "</style>\n",
       "<table border=\"1\" class=\"dataframe\">\n",
       "  <thead>\n",
       "    <tr style=\"text-align: right;\">\n",
       "      <th></th>\n",
       "      <th>DATE</th>\n",
       "      <th>GDP_SH_FCE</th>\n",
       "      <th>GDP_SH_GCF</th>\n",
       "      <th>GDP_SH_NEX</th>\n",
       "      <th>GDP_CO_FCE</th>\n",
       "      <th>GDP_CO_GCF</th>\n",
       "      <th>GDP_CO_NEX</th>\n",
       "    </tr>\n",
       "  </thead>\n",
       "  <tbody>\n",
       "    <tr>\n",
       "      <th>23</th>\n",
       "      <td>2015-03-01 00:00:00</td>\n",
       "      <td>64.1</td>\n",
       "      <td>16.7</td>\n",
       "      <td>19.2</td>\n",
       "      <td>4.487</td>\n",
       "      <td>1.169</td>\n",
       "      <td>1.344</td>\n",
       "    </tr>\n",
       "    <tr>\n",
       "      <th>24</th>\n",
       "      <td>2015-06-01 00:00:00</td>\n",
       "      <td>60.6</td>\n",
       "      <td>47</td>\n",
       "      <td>-7.6</td>\n",
       "      <td>4.242</td>\n",
       "      <td>3.29</td>\n",
       "      <td>-0.532</td>\n",
       "    </tr>\n",
       "    <tr>\n",
       "      <th>25</th>\n",
       "      <td>2015-09-01 00:00:00</td>\n",
       "      <td>51.3</td>\n",
       "      <td>59.1</td>\n",
       "      <td>-10.4</td>\n",
       "      <td>3.5397</td>\n",
       "      <td>4.0779</td>\n",
       "      <td>-0.7176</td>\n",
       "    </tr>\n",
       "    <tr>\n",
       "      <th>26</th>\n",
       "      <td>2015-12-01 00:00:00</td>\n",
       "      <td>63.5</td>\n",
       "      <td>39</td>\n",
       "      <td>-2.5</td>\n",
       "      <td>4.318</td>\n",
       "      <td>2.652</td>\n",
       "      <td>-0.17</td>\n",
       "    </tr>\n",
       "    <tr>\n",
       "      <th>27</th>\n",
       "      <td>2016-03-01 00:00:00</td>\n",
       "      <td>78.1</td>\n",
       "      <td>38.3</td>\n",
       "      <td>-16.4</td>\n",
       "      <td>5.3889</td>\n",
       "      <td>2.6427</td>\n",
       "      <td>-1.1316</td>\n",
       "    </tr>\n",
       "    <tr>\n",
       "      <th>28</th>\n",
       "      <td>2016-06-01 00:00:00</td>\n",
       "      <td>55.9</td>\n",
       "      <td>49.1</td>\n",
       "      <td>-5</td>\n",
       "      <td>3.8012</td>\n",
       "      <td>3.3388</td>\n",
       "      <td>-0.34</td>\n",
       "    </tr>\n",
       "    <tr>\n",
       "      <th>29</th>\n",
       "      <td>2016-09-01 00:00:00</td>\n",
       "      <td>58.4</td>\n",
       "      <td>52.4</td>\n",
       "      <td>-10.7</td>\n",
       "      <td>3.9712</td>\n",
       "      <td>3.5632</td>\n",
       "      <td>-0.7276</td>\n",
       "    </tr>\n",
       "    <tr>\n",
       "      <th>30</th>\n",
       "      <td>2016-12-01 00:00:00</td>\n",
       "      <td>72</td>\n",
       "      <td>42.5</td>\n",
       "      <td>-14.5</td>\n",
       "      <td>4.968</td>\n",
       "      <td>2.9325</td>\n",
       "      <td>-1.0005</td>\n",
       "    </tr>\n",
       "    <tr>\n",
       "      <th>31</th>\n",
       "      <td>2017-03-01 00:00:00</td>\n",
       "      <td>76.2</td>\n",
       "      <td>28.4</td>\n",
       "      <td>-4.5</td>\n",
       "      <td>5.334</td>\n",
       "      <td>1.988</td>\n",
       "      <td>-0.315</td>\n",
       "    </tr>\n",
       "    <tr>\n",
       "      <th>32</th>\n",
       "      <td>2017-06-01 00:00:00</td>\n",
       "      <td>49.7</td>\n",
       "      <td>49.8</td>\n",
       "      <td>0.5</td>\n",
       "      <td>3.479</td>\n",
       "      <td>3.486</td>\n",
       "      <td>0.035</td>\n",
       "    </tr>\n",
       "    <tr>\n",
       "      <th>33</th>\n",
       "      <td>2017-09-01 00:00:00</td>\n",
       "      <td>60.1</td>\n",
       "      <td>38.4</td>\n",
       "      <td>1.5</td>\n",
       "      <td>4.1469</td>\n",
       "      <td>2.6496</td>\n",
       "      <td>0.1035</td>\n",
       "    </tr>\n",
       "    <tr>\n",
       "      <th>34</th>\n",
       "      <td>2017-12-01 00:00:00</td>\n",
       "      <td>42.4</td>\n",
       "      <td>40.1</td>\n",
       "      <td>17.4</td>\n",
       "      <td>2.8832</td>\n",
       "      <td>2.7268</td>\n",
       "      <td>1.1832</td>\n",
       "    </tr>\n",
       "    <tr>\n",
       "      <th>35</th>\n",
       "      <td>2018-03-01 00:00:00</td>\n",
       "      <td>68.5</td>\n",
       "      <td>47.8</td>\n",
       "      <td>-16.3</td>\n",
       "      <td>4.7265</td>\n",
       "      <td>3.2982</td>\n",
       "      <td>-1.1247</td>\n",
       "    </tr>\n",
       "  </tbody>\n",
       "</table>\n",
       "</div>"
      ],
      "text/plain": [
       "                   DATE GDP_SH_FCE GDP_SH_GCF GDP_SH_NEX GDP_CO_FCE  \\\n",
       "23  2015-03-01 00:00:00       64.1       16.7       19.2      4.487   \n",
       "24  2015-06-01 00:00:00       60.6         47       -7.6      4.242   \n",
       "25  2015-09-01 00:00:00       51.3       59.1      -10.4     3.5397   \n",
       "26  2015-12-01 00:00:00       63.5         39       -2.5      4.318   \n",
       "27  2016-03-01 00:00:00       78.1       38.3      -16.4     5.3889   \n",
       "28  2016-06-01 00:00:00       55.9       49.1         -5     3.8012   \n",
       "29  2016-09-01 00:00:00       58.4       52.4      -10.7     3.9712   \n",
       "30  2016-12-01 00:00:00         72       42.5      -14.5      4.968   \n",
       "31  2017-03-01 00:00:00       76.2       28.4       -4.5      5.334   \n",
       "32  2017-06-01 00:00:00       49.7       49.8        0.5      3.479   \n",
       "33  2017-09-01 00:00:00       60.1       38.4        1.5     4.1469   \n",
       "34  2017-12-01 00:00:00       42.4       40.1       17.4     2.8832   \n",
       "35  2018-03-01 00:00:00       68.5       47.8      -16.3     4.7265   \n",
       "\n",
       "   GDP_CO_GCF GDP_CO_NEX  \n",
       "23      1.169      1.344  \n",
       "24       3.29     -0.532  \n",
       "25     4.0779    -0.7176  \n",
       "26      2.652      -0.17  \n",
       "27     2.6427    -1.1316  \n",
       "28     3.3388      -0.34  \n",
       "29     3.5632    -0.7276  \n",
       "30     2.9325    -1.0005  \n",
       "31      1.988     -0.315  \n",
       "32      3.486      0.035  \n",
       "33     2.6496     0.1035  \n",
       "34     2.7268     1.1832  \n",
       "35     3.2982    -1.1247  "
      ]
     },
     "execution_count": 88,
     "metadata": {},
     "output_type": "execute_result"
    }
   ],
   "source": [
    "df_gdp_exp = df_gdp_exp.rename(columns = {'데이터를 업데이트하고 계열을 추가하거나 지우려면 이 링크를 선택하시고 다운로드 새로고침/편집을 클릭하세요': 'DATE'})\n",
    "df_gdp_exp = df_gdp_exp.rename(columns = {'CN: Share to GDP Growth: Final Consumption Expenditure': 'GDP_SH_FCE'})\n",
    "df_gdp_exp = df_gdp_exp.rename(columns = {'CN: Share to GDP Growth: Gross Capital Formation': 'GDP_SH_GCF'})\n",
    "df_gdp_exp = df_gdp_exp.rename(columns = {'CN: Share to GDP Growth: Net Export of Goods and Service': 'GDP_SH_NEX'})\n",
    "df_gdp_exp = df_gdp_exp.rename(columns = {'CN: Contribution to GDP Growth: Final Consumption Expenditure': 'GDP_CO_FCE'})\n",
    "df_gdp_exp = df_gdp_exp.rename(columns = {'CN: Contribution to GDP Growth: Gross Capital Formation': 'GDP_CO_GCF'})\n",
    "df_gdp_exp = df_gdp_exp.rename(columns = {'CN: Contribution to GDP Growth: Net Export of Goods and Service': 'GDP_CO_NEX'})\n",
    "df_gdp_exp.head(13)"
   ]
  },
  {
   "cell_type": "code",
   "execution_count": 115,
   "metadata": {},
   "outputs": [
    {
     "data": {
      "application/vnd.plotly.v1+json": {
       "config": {
        "plotlyServerURL": "https://plot.ly"
       },
       "data": [
        {
         "name": "GDP YoY",
         "type": "bar",
         "x": [
          "2015-03-01T00:00:00",
          "2015-06-01T00:00:00",
          "2015-09-01T00:00:00",
          "2015-12-01T00:00:00",
          "2016-03-01T00:00:00",
          "2016-06-01T00:00:00",
          "2016-09-01T00:00:00",
          "2016-12-01T00:00:00",
          "2017-03-01T00:00:00",
          "2017-06-01T00:00:00",
          "2017-09-01T00:00:00",
          "2017-12-01T00:00:00",
          "2018-03-01T00:00:00",
          "2018-06-01T00:00:00",
          "2018-09-01T00:00:00",
          "2018-12-01T00:00:00",
          "2019-03-01T00:00:00",
          "2019-06-01T00:00:00",
          "2019-09-01T00:00:00",
          "2019-12-01T00:00:00",
          "2020-03-01T00:00:00",
          "2020-06-01T00:00:00",
          "2020-09-01T00:00:00",
          "2020-12-01T00:00:00",
          "2021-03-01T00:00:00",
          "2021-06-01T00:00:00",
          "2021-09-01T00:00:00",
          "2021-12-01T00:00:00"
         ],
         "xaxis": "x",
         "y": [
          7.099999999999994,
          7.099999999999994,
          7,
          6.900000000000006,
          6.900000000000006,
          6.799999999999997,
          6.799999999999997,
          6.900000000000006,
          7,
          7,
          6.900000000000006,
          6.799999999999997,
          6.900000000000006,
          6.900000000000006,
          6.700000000000003,
          6.5,
          6.299999999999997,
          6,
          5.900000000000006,
          5.799999999999997,
          -6.900000000000006,
          3.0999999999999943,
          4.799999999999997,
          6.400000000000006,
          18.299999999999997,
          7.900000000000006,
          4.900000000000006,
          4
         ],
         "yaxis": "y"
        },
        {
         "name": "PI GDP YoY",
         "type": "bar",
         "x": [
          "2015-03-01T00:00:00",
          "2015-06-01T00:00:00",
          "2015-09-01T00:00:00",
          "2015-12-01T00:00:00",
          "2016-03-01T00:00:00",
          "2016-06-01T00:00:00",
          "2016-09-01T00:00:00",
          "2016-12-01T00:00:00",
          "2017-03-01T00:00:00",
          "2017-06-01T00:00:00",
          "2017-09-01T00:00:00",
          "2017-12-01T00:00:00",
          "2018-03-01T00:00:00",
          "2018-06-01T00:00:00",
          "2018-09-01T00:00:00",
          "2018-12-01T00:00:00",
          "2019-03-01T00:00:00",
          "2019-06-01T00:00:00",
          "2019-09-01T00:00:00",
          "2019-12-01T00:00:00",
          "2020-03-01T00:00:00",
          "2020-06-01T00:00:00",
          "2020-09-01T00:00:00",
          "2020-12-01T00:00:00",
          "2021-03-01T00:00:00",
          "2021-06-01T00:00:00",
          "2021-09-01T00:00:00",
          "2021-12-01T00:00:00"
         ],
         "xaxis": "x2",
         "y": [
          3.0999999999999943,
          3.700000000000003,
          4.099999999999994,
          4.099999999999994,
          2.9000000000000057,
          3.0999999999999943,
          4,
          2.9000000000000057,
          3,
          3.799999999999997,
          3.9000000000000057,
          4.400000000000006,
          3.200000000000003,
          3.4000000000000057,
          3.5999999999999943,
          3.5,
          2.700000000000003,
          3.299999999999997,
          2.700000000000003,
          3.4000000000000057,
          -3.0999999999999943,
          3.5,
          4.099999999999994,
          4.299999999999997,
          8.099999999999994,
          7.599999999999994,
          7.099999999999994,
          6.400000000000006
         ],
         "yaxis": "y2"
        },
        {
         "name": "SI GDP YoY",
         "type": "bar",
         "x": [
          "2015-03-01T00:00:00",
          "2015-06-01T00:00:00",
          "2015-09-01T00:00:00",
          "2015-12-01T00:00:00",
          "2016-03-01T00:00:00",
          "2016-06-01T00:00:00",
          "2016-09-01T00:00:00",
          "2016-12-01T00:00:00",
          "2017-03-01T00:00:00",
          "2017-06-01T00:00:00",
          "2017-09-01T00:00:00",
          "2017-12-01T00:00:00",
          "2018-03-01T00:00:00",
          "2018-06-01T00:00:00",
          "2018-09-01T00:00:00",
          "2018-12-01T00:00:00",
          "2019-03-01T00:00:00",
          "2019-06-01T00:00:00",
          "2019-09-01T00:00:00",
          "2019-12-01T00:00:00",
          "2020-03-01T00:00:00",
          "2020-06-01T00:00:00",
          "2020-09-01T00:00:00",
          "2020-12-01T00:00:00",
          "2021-03-01T00:00:00",
          "2021-06-01T00:00:00",
          "2021-09-01T00:00:00",
          "2021-12-01T00:00:00"
         ],
         "xaxis": "x3",
         "y": [
          6.200000000000003,
          5.900000000000006,
          5.700000000000003,
          6,
          5.799999999999997,
          6.200000000000003,
          6.099999999999994,
          6,
          6.099999999999994,
          6.200000000000003,
          5.799999999999997,
          5.400000000000006,
          6.200000000000003,
          5.900000000000006,
          5.299999999999997,
          5.799999999999997,
          5.299999999999997,
          4.700000000000003,
          4.5,
          5,
          -9.700000000000003,
          4.599999999999994,
          5.900000000000006,
          6.700000000000003,
          24.400000000000006,
          7.5,
          3.5999999999999943,
          2.5
         ],
         "yaxis": "y3"
        },
        {
         "name": "SI MN GDP YoY",
         "type": "bar",
         "x": [
          "2015-03-01T00:00:00",
          "2015-06-01T00:00:00",
          "2015-09-01T00:00:00",
          "2015-12-01T00:00:00",
          "2016-03-01T00:00:00",
          "2016-06-01T00:00:00",
          "2016-09-01T00:00:00",
          "2016-12-01T00:00:00",
          "2017-03-01T00:00:00",
          "2017-06-01T00:00:00",
          "2017-09-01T00:00:00",
          "2017-12-01T00:00:00",
          "2018-03-01T00:00:00",
          "2018-06-01T00:00:00",
          "2018-09-01T00:00:00",
          "2018-12-01T00:00:00",
          "2019-03-01T00:00:00",
          "2019-06-01T00:00:00",
          "2019-09-01T00:00:00",
          "2019-12-01T00:00:00",
          "2020-03-01T00:00:00",
          "2020-06-01T00:00:00",
          "2020-09-01T00:00:00",
          "2020-12-01T00:00:00",
          "2021-03-01T00:00:00",
          "2021-06-01T00:00:00",
          "2021-09-01T00:00:00",
          "2021-12-01T00:00:00"
         ],
         "xaxis": "x4",
         "y": [
          6.299999999999997,
          6.299999999999997,
          6,
          6.299999999999997,
          5.5,
          6.099999999999994,
          5.900000000000006,
          5.799999999999997,
          6.5,
          6.700000000000003,
          6.5,
          6.400000000000006,
          6.5,
          6.5,
          5.900000000000006,
          5.599999999999994,
          5.299999999999997,
          4.400000000000006,
          3.799999999999997,
          4.799999999999997,
          -10.099999999999994,
          4.599999999999994,
          6.299999999999997,
          7.400000000000006,
          26.799999999999997,
          9.200000000000003,
          4.599999999999994,
          3.0999999999999943
         ],
         "yaxis": "y4"
        },
        {
         "name": "SI CS GDP YoY",
         "type": "bar",
         "x": [
          "2015-03-01T00:00:00",
          "2015-06-01T00:00:00",
          "2015-09-01T00:00:00",
          "2015-12-01T00:00:00",
          "2016-03-01T00:00:00",
          "2016-06-01T00:00:00",
          "2016-09-01T00:00:00",
          "2016-12-01T00:00:00",
          "2017-03-01T00:00:00",
          "2017-06-01T00:00:00",
          "2017-09-01T00:00:00",
          "2017-12-01T00:00:00",
          "2018-03-01T00:00:00",
          "2018-06-01T00:00:00",
          "2018-09-01T00:00:00",
          "2018-12-01T00:00:00",
          "2019-03-01T00:00:00",
          "2019-06-01T00:00:00",
          "2019-09-01T00:00:00",
          "2019-12-01T00:00:00",
          "2020-03-01T00:00:00",
          "2020-06-01T00:00:00",
          "2020-09-01T00:00:00",
          "2020-12-01T00:00:00",
          "2021-03-01T00:00:00",
          "2021-06-01T00:00:00",
          "2021-09-01T00:00:00",
          "2021-12-01T00:00:00"
         ],
         "xaxis": "x5",
         "y": [
          9.200000000000003,
          6.400000000000006,
          6.400000000000006,
          7.900000000000006,
          8.900000000000006,
          8.5,
          7.200000000000003,
          7,
          4.799999999999997,
          5,
          3.700000000000003,
          2.9000000000000057,
          5.599999999999994,
          4.400000000000006,
          2.9000000000000057,
          6.400000000000006,
          5.799999999999997,
          4.700000000000003,
          5.799999999999997,
          4.900000000000006,
          -18.200000000000003,
          7,
          7.299999999999997,
          5.799999999999997,
          22.799999999999997,
          1.7999999999999972,
          -1.7999999999999972,
          -2.0999999999999943
         ],
         "yaxis": "y5"
        },
        {
         "name": "TI GDP YoY",
         "type": "bar",
         "x": [
          "2015-03-01T00:00:00",
          "2015-06-01T00:00:00",
          "2015-09-01T00:00:00",
          "2015-12-01T00:00:00",
          "2016-03-01T00:00:00",
          "2016-06-01T00:00:00",
          "2016-09-01T00:00:00",
          "2016-12-01T00:00:00",
          "2017-03-01T00:00:00",
          "2017-06-01T00:00:00",
          "2017-09-01T00:00:00",
          "2017-12-01T00:00:00",
          "2018-03-01T00:00:00",
          "2018-06-01T00:00:00",
          "2018-09-01T00:00:00",
          "2018-12-01T00:00:00",
          "2019-03-01T00:00:00",
          "2019-06-01T00:00:00",
          "2019-09-01T00:00:00",
          "2019-12-01T00:00:00",
          "2020-03-01T00:00:00",
          "2020-06-01T00:00:00",
          "2020-09-01T00:00:00",
          "2020-12-01T00:00:00",
          "2021-03-01T00:00:00",
          "2021-06-01T00:00:00",
          "2021-09-01T00:00:00",
          "2021-12-01T00:00:00"
         ],
         "xaxis": "x6",
         "y": [
          8.400000000000006,
          9,
          9,
          8.799999999999997,
          8,
          7.900000000000006,
          8,
          8.5,
          8,
          8.099999999999994,
          8.400000000000006,
          8.599999999999994,
          7.799999999999997,
          8.099999999999994,
          8.299999999999997,
          7.799999999999997,
          7.200000000000003,
          7.200000000000003,
          7.400000000000006,
          6.900000000000006,
          -5.400000000000006,
          1.7999999999999972,
          4.200000000000003,
          6.599999999999994,
          15.599999999999994,
          8.299999999999997,
          5.400000000000006,
          4.599999999999994
         ],
         "yaxis": "y6"
        }
       ],
       "layout": {
        "annotations": [
         {
          "font": {
           "size": 16
          },
          "showarrow": false,
          "text": "GDP",
          "x": 0.225,
          "xanchor": "center",
          "xref": "paper",
          "y": 1,
          "yanchor": "bottom",
          "yref": "paper"
         },
         {
          "font": {
           "size": 16
          },
          "showarrow": false,
          "text": "Primary Industry",
          "x": 0.775,
          "xanchor": "center",
          "xref": "paper",
          "y": 1,
          "yanchor": "bottom",
          "yref": "paper"
         },
         {
          "font": {
           "size": 16
          },
          "showarrow": false,
          "text": "Secondary Industry",
          "x": 0.225,
          "xanchor": "center",
          "xref": "paper",
          "y": 0.6111111111111112,
          "yanchor": "bottom",
          "yref": "paper"
         },
         {
          "font": {
           "size": 16
          },
          "showarrow": false,
          "text": "SI: Manufacturing",
          "x": 0.775,
          "xanchor": "center",
          "xref": "paper",
          "y": 0.6111111111111112,
          "yanchor": "bottom",
          "yref": "paper"
         },
         {
          "font": {
           "size": 16
          },
          "showarrow": false,
          "text": "SI: Construction",
          "x": 0.225,
          "xanchor": "center",
          "xref": "paper",
          "y": 0.22222222222222224,
          "yanchor": "bottom",
          "yref": "paper"
         },
         {
          "font": {
           "size": 16
          },
          "showarrow": false,
          "text": "Tertiary Industry",
          "x": 0.775,
          "xanchor": "center",
          "xref": "paper",
          "y": 0.22222222222222224,
          "yanchor": "bottom",
          "yref": "paper"
         }
        ],
        "height": 1500,
        "template": {
         "data": {
          "bar": [
           {
            "error_x": {
             "color": "#2a3f5f"
            },
            "error_y": {
             "color": "#2a3f5f"
            },
            "marker": {
             "line": {
              "color": "#E5ECF6",
              "width": 0.5
             },
             "pattern": {
              "fillmode": "overlay",
              "size": 10,
              "solidity": 0.2
             }
            },
            "type": "bar"
           }
          ],
          "barpolar": [
           {
            "marker": {
             "line": {
              "color": "#E5ECF6",
              "width": 0.5
             },
             "pattern": {
              "fillmode": "overlay",
              "size": 10,
              "solidity": 0.2
             }
            },
            "type": "barpolar"
           }
          ],
          "carpet": [
           {
            "aaxis": {
             "endlinecolor": "#2a3f5f",
             "gridcolor": "white",
             "linecolor": "white",
             "minorgridcolor": "white",
             "startlinecolor": "#2a3f5f"
            },
            "baxis": {
             "endlinecolor": "#2a3f5f",
             "gridcolor": "white",
             "linecolor": "white",
             "minorgridcolor": "white",
             "startlinecolor": "#2a3f5f"
            },
            "type": "carpet"
           }
          ],
          "choropleth": [
           {
            "colorbar": {
             "outlinewidth": 0,
             "ticks": ""
            },
            "type": "choropleth"
           }
          ],
          "contour": [
           {
            "colorbar": {
             "outlinewidth": 0,
             "ticks": ""
            },
            "colorscale": [
             [
              0,
              "#0d0887"
             ],
             [
              0.1111111111111111,
              "#46039f"
             ],
             [
              0.2222222222222222,
              "#7201a8"
             ],
             [
              0.3333333333333333,
              "#9c179e"
             ],
             [
              0.4444444444444444,
              "#bd3786"
             ],
             [
              0.5555555555555556,
              "#d8576b"
             ],
             [
              0.6666666666666666,
              "#ed7953"
             ],
             [
              0.7777777777777778,
              "#fb9f3a"
             ],
             [
              0.8888888888888888,
              "#fdca26"
             ],
             [
              1,
              "#f0f921"
             ]
            ],
            "type": "contour"
           }
          ],
          "contourcarpet": [
           {
            "colorbar": {
             "outlinewidth": 0,
             "ticks": ""
            },
            "type": "contourcarpet"
           }
          ],
          "heatmap": [
           {
            "colorbar": {
             "outlinewidth": 0,
             "ticks": ""
            },
            "colorscale": [
             [
              0,
              "#0d0887"
             ],
             [
              0.1111111111111111,
              "#46039f"
             ],
             [
              0.2222222222222222,
              "#7201a8"
             ],
             [
              0.3333333333333333,
              "#9c179e"
             ],
             [
              0.4444444444444444,
              "#bd3786"
             ],
             [
              0.5555555555555556,
              "#d8576b"
             ],
             [
              0.6666666666666666,
              "#ed7953"
             ],
             [
              0.7777777777777778,
              "#fb9f3a"
             ],
             [
              0.8888888888888888,
              "#fdca26"
             ],
             [
              1,
              "#f0f921"
             ]
            ],
            "type": "heatmap"
           }
          ],
          "heatmapgl": [
           {
            "colorbar": {
             "outlinewidth": 0,
             "ticks": ""
            },
            "colorscale": [
             [
              0,
              "#0d0887"
             ],
             [
              0.1111111111111111,
              "#46039f"
             ],
             [
              0.2222222222222222,
              "#7201a8"
             ],
             [
              0.3333333333333333,
              "#9c179e"
             ],
             [
              0.4444444444444444,
              "#bd3786"
             ],
             [
              0.5555555555555556,
              "#d8576b"
             ],
             [
              0.6666666666666666,
              "#ed7953"
             ],
             [
              0.7777777777777778,
              "#fb9f3a"
             ],
             [
              0.8888888888888888,
              "#fdca26"
             ],
             [
              1,
              "#f0f921"
             ]
            ],
            "type": "heatmapgl"
           }
          ],
          "histogram": [
           {
            "marker": {
             "pattern": {
              "fillmode": "overlay",
              "size": 10,
              "solidity": 0.2
             }
            },
            "type": "histogram"
           }
          ],
          "histogram2d": [
           {
            "colorbar": {
             "outlinewidth": 0,
             "ticks": ""
            },
            "colorscale": [
             [
              0,
              "#0d0887"
             ],
             [
              0.1111111111111111,
              "#46039f"
             ],
             [
              0.2222222222222222,
              "#7201a8"
             ],
             [
              0.3333333333333333,
              "#9c179e"
             ],
             [
              0.4444444444444444,
              "#bd3786"
             ],
             [
              0.5555555555555556,
              "#d8576b"
             ],
             [
              0.6666666666666666,
              "#ed7953"
             ],
             [
              0.7777777777777778,
              "#fb9f3a"
             ],
             [
              0.8888888888888888,
              "#fdca26"
             ],
             [
              1,
              "#f0f921"
             ]
            ],
            "type": "histogram2d"
           }
          ],
          "histogram2dcontour": [
           {
            "colorbar": {
             "outlinewidth": 0,
             "ticks": ""
            },
            "colorscale": [
             [
              0,
              "#0d0887"
             ],
             [
              0.1111111111111111,
              "#46039f"
             ],
             [
              0.2222222222222222,
              "#7201a8"
             ],
             [
              0.3333333333333333,
              "#9c179e"
             ],
             [
              0.4444444444444444,
              "#bd3786"
             ],
             [
              0.5555555555555556,
              "#d8576b"
             ],
             [
              0.6666666666666666,
              "#ed7953"
             ],
             [
              0.7777777777777778,
              "#fb9f3a"
             ],
             [
              0.8888888888888888,
              "#fdca26"
             ],
             [
              1,
              "#f0f921"
             ]
            ],
            "type": "histogram2dcontour"
           }
          ],
          "mesh3d": [
           {
            "colorbar": {
             "outlinewidth": 0,
             "ticks": ""
            },
            "type": "mesh3d"
           }
          ],
          "parcoords": [
           {
            "line": {
             "colorbar": {
              "outlinewidth": 0,
              "ticks": ""
             }
            },
            "type": "parcoords"
           }
          ],
          "pie": [
           {
            "automargin": true,
            "type": "pie"
           }
          ],
          "scatter": [
           {
            "marker": {
             "colorbar": {
              "outlinewidth": 0,
              "ticks": ""
             }
            },
            "type": "scatter"
           }
          ],
          "scatter3d": [
           {
            "line": {
             "colorbar": {
              "outlinewidth": 0,
              "ticks": ""
             }
            },
            "marker": {
             "colorbar": {
              "outlinewidth": 0,
              "ticks": ""
             }
            },
            "type": "scatter3d"
           }
          ],
          "scattercarpet": [
           {
            "marker": {
             "colorbar": {
              "outlinewidth": 0,
              "ticks": ""
             }
            },
            "type": "scattercarpet"
           }
          ],
          "scattergeo": [
           {
            "marker": {
             "colorbar": {
              "outlinewidth": 0,
              "ticks": ""
             }
            },
            "type": "scattergeo"
           }
          ],
          "scattergl": [
           {
            "marker": {
             "colorbar": {
              "outlinewidth": 0,
              "ticks": ""
             }
            },
            "type": "scattergl"
           }
          ],
          "scattermapbox": [
           {
            "marker": {
             "colorbar": {
              "outlinewidth": 0,
              "ticks": ""
             }
            },
            "type": "scattermapbox"
           }
          ],
          "scatterpolar": [
           {
            "marker": {
             "colorbar": {
              "outlinewidth": 0,
              "ticks": ""
             }
            },
            "type": "scatterpolar"
           }
          ],
          "scatterpolargl": [
           {
            "marker": {
             "colorbar": {
              "outlinewidth": 0,
              "ticks": ""
             }
            },
            "type": "scatterpolargl"
           }
          ],
          "scatterternary": [
           {
            "marker": {
             "colorbar": {
              "outlinewidth": 0,
              "ticks": ""
             }
            },
            "type": "scatterternary"
           }
          ],
          "surface": [
           {
            "colorbar": {
             "outlinewidth": 0,
             "ticks": ""
            },
            "colorscale": [
             [
              0,
              "#0d0887"
             ],
             [
              0.1111111111111111,
              "#46039f"
             ],
             [
              0.2222222222222222,
              "#7201a8"
             ],
             [
              0.3333333333333333,
              "#9c179e"
             ],
             [
              0.4444444444444444,
              "#bd3786"
             ],
             [
              0.5555555555555556,
              "#d8576b"
             ],
             [
              0.6666666666666666,
              "#ed7953"
             ],
             [
              0.7777777777777778,
              "#fb9f3a"
             ],
             [
              0.8888888888888888,
              "#fdca26"
             ],
             [
              1,
              "#f0f921"
             ]
            ],
            "type": "surface"
           }
          ],
          "table": [
           {
            "cells": {
             "fill": {
              "color": "#EBF0F8"
             },
             "line": {
              "color": "white"
             }
            },
            "header": {
             "fill": {
              "color": "#C8D4E3"
             },
             "line": {
              "color": "white"
             }
            },
            "type": "table"
           }
          ]
         },
         "layout": {
          "annotationdefaults": {
           "arrowcolor": "#2a3f5f",
           "arrowhead": 0,
           "arrowwidth": 1
          },
          "autotypenumbers": "strict",
          "coloraxis": {
           "colorbar": {
            "outlinewidth": 0,
            "ticks": ""
           }
          },
          "colorscale": {
           "diverging": [
            [
             0,
             "#8e0152"
            ],
            [
             0.1,
             "#c51b7d"
            ],
            [
             0.2,
             "#de77ae"
            ],
            [
             0.3,
             "#f1b6da"
            ],
            [
             0.4,
             "#fde0ef"
            ],
            [
             0.5,
             "#f7f7f7"
            ],
            [
             0.6,
             "#e6f5d0"
            ],
            [
             0.7,
             "#b8e186"
            ],
            [
             0.8,
             "#7fbc41"
            ],
            [
             0.9,
             "#4d9221"
            ],
            [
             1,
             "#276419"
            ]
           ],
           "sequential": [
            [
             0,
             "#0d0887"
            ],
            [
             0.1111111111111111,
             "#46039f"
            ],
            [
             0.2222222222222222,
             "#7201a8"
            ],
            [
             0.3333333333333333,
             "#9c179e"
            ],
            [
             0.4444444444444444,
             "#bd3786"
            ],
            [
             0.5555555555555556,
             "#d8576b"
            ],
            [
             0.6666666666666666,
             "#ed7953"
            ],
            [
             0.7777777777777778,
             "#fb9f3a"
            ],
            [
             0.8888888888888888,
             "#fdca26"
            ],
            [
             1,
             "#f0f921"
            ]
           ],
           "sequentialminus": [
            [
             0,
             "#0d0887"
            ],
            [
             0.1111111111111111,
             "#46039f"
            ],
            [
             0.2222222222222222,
             "#7201a8"
            ],
            [
             0.3333333333333333,
             "#9c179e"
            ],
            [
             0.4444444444444444,
             "#bd3786"
            ],
            [
             0.5555555555555556,
             "#d8576b"
            ],
            [
             0.6666666666666666,
             "#ed7953"
            ],
            [
             0.7777777777777778,
             "#fb9f3a"
            ],
            [
             0.8888888888888888,
             "#fdca26"
            ],
            [
             1,
             "#f0f921"
            ]
           ]
          },
          "colorway": [
           "#636efa",
           "#EF553B",
           "#00cc96",
           "#ab63fa",
           "#FFA15A",
           "#19d3f3",
           "#FF6692",
           "#B6E880",
           "#FF97FF",
           "#FECB52"
          ],
          "font": {
           "color": "#2a3f5f"
          },
          "geo": {
           "bgcolor": "white",
           "lakecolor": "white",
           "landcolor": "#E5ECF6",
           "showlakes": true,
           "showland": true,
           "subunitcolor": "white"
          },
          "hoverlabel": {
           "align": "left"
          },
          "hovermode": "closest",
          "mapbox": {
           "style": "light"
          },
          "paper_bgcolor": "white",
          "plot_bgcolor": "#E5ECF6",
          "polar": {
           "angularaxis": {
            "gridcolor": "white",
            "linecolor": "white",
            "ticks": ""
           },
           "bgcolor": "#E5ECF6",
           "radialaxis": {
            "gridcolor": "white",
            "linecolor": "white",
            "ticks": ""
           }
          },
          "scene": {
           "xaxis": {
            "backgroundcolor": "#E5ECF6",
            "gridcolor": "white",
            "gridwidth": 2,
            "linecolor": "white",
            "showbackground": true,
            "ticks": "",
            "zerolinecolor": "white"
           },
           "yaxis": {
            "backgroundcolor": "#E5ECF6",
            "gridcolor": "white",
            "gridwidth": 2,
            "linecolor": "white",
            "showbackground": true,
            "ticks": "",
            "zerolinecolor": "white"
           },
           "zaxis": {
            "backgroundcolor": "#E5ECF6",
            "gridcolor": "white",
            "gridwidth": 2,
            "linecolor": "white",
            "showbackground": true,
            "ticks": "",
            "zerolinecolor": "white"
           }
          },
          "shapedefaults": {
           "line": {
            "color": "#2a3f5f"
           }
          },
          "ternary": {
           "aaxis": {
            "gridcolor": "white",
            "linecolor": "white",
            "ticks": ""
           },
           "baxis": {
            "gridcolor": "white",
            "linecolor": "white",
            "ticks": ""
           },
           "bgcolor": "#E5ECF6",
           "caxis": {
            "gridcolor": "white",
            "linecolor": "white",
            "ticks": ""
           }
          },
          "title": {
           "x": 0.05
          },
          "xaxis": {
           "automargin": true,
           "gridcolor": "white",
           "linecolor": "white",
           "ticks": "",
           "title": {
            "standoff": 15
           },
           "zerolinecolor": "white",
           "zerolinewidth": 2
          },
          "yaxis": {
           "automargin": true,
           "gridcolor": "white",
           "linecolor": "white",
           "ticks": "",
           "title": {
            "standoff": 15
           },
           "zerolinecolor": "white",
           "zerolinewidth": 2
          }
         }
        },
        "title": {
         "text": "China GDP Growth Rate"
        },
        "width": 1200,
        "xaxis": {
         "anchor": "y",
         "domain": [
          0,
          0.45
         ]
        },
        "xaxis2": {
         "anchor": "y2",
         "domain": [
          0.55,
          1
         ]
        },
        "xaxis3": {
         "anchor": "y3",
         "domain": [
          0,
          0.45
         ]
        },
        "xaxis4": {
         "anchor": "y4",
         "domain": [
          0.55,
          1
         ]
        },
        "xaxis5": {
         "anchor": "y5",
         "domain": [
          0,
          0.45
         ]
        },
        "xaxis6": {
         "anchor": "y6",
         "domain": [
          0.55,
          1
         ]
        },
        "yaxis": {
         "anchor": "x",
         "domain": [
          0.7777777777777778,
          1
         ]
        },
        "yaxis2": {
         "anchor": "x2",
         "domain": [
          0.7777777777777778,
          1
         ]
        },
        "yaxis3": {
         "anchor": "x3",
         "domain": [
          0.3888888888888889,
          0.6111111111111112
         ]
        },
        "yaxis4": {
         "anchor": "x4",
         "domain": [
          0.3888888888888889,
          0.6111111111111112
         ]
        },
        "yaxis5": {
         "anchor": "x5",
         "domain": [
          0,
          0.22222222222222224
         ]
        },
        "yaxis6": {
         "anchor": "x6",
         "domain": [
          0,
          0.22222222222222224
         ]
        }
       }
      }
     },
     "metadata": {},
     "output_type": "display_data"
    }
   ],
   "source": [
    "fig = make_subplots(rows=3, cols=2, \n",
    "    subplot_titles=(\"GDP\", \"Primary Industry\", \"Secondary Industry\", \"SI: Manufacturing\", \"SI: Construction\", \"Tertiary Industry\")\n",
    ")\n",
    "\n",
    "fig.append_trace(go.Bar(x=df_gdp_pro['DATE'], y= df_gdp_pro['GDP_YoY_New'], name = 'GDP YoY'), row=1, col=1)\n",
    "fig.append_trace(go.Bar(x=df_gdp_pro['DATE'], y= df_gdp_pro['GDP_PI_YoY_New'], name = 'PI GDP YoY'), row=1, col=2)\n",
    "fig.append_trace(go.Bar(x=df_gdp_pro['DATE'], y= df_gdp_pro['GDP_SI_YoY_New'], name = 'SI GDP YoY'), row=2, col=1)\n",
    "fig.append_trace(go.Bar(x=df_gdp_pro['DATE'], y= df_gdp_pro['GDP_SI_MN_YoY_New'], name = 'SI MN GDP YoY'), row=2, col=2)\n",
    "fig.append_trace(go.Bar(x=df_gdp_pro['DATE'], y= df_gdp_pro['GDP_SI_CS_YoY_New'], name = 'SI CS GDP YoY'), row=3, col=1)\n",
    "fig.append_trace(go.Bar(x=df_gdp_pro['DATE'], y= df_gdp_pro['GDP_TI_YoY_New'], name = 'TI GDP YoY'), row=3, col=2)\n",
    "\n",
    "fig.update_layout(height=1500, width=1200, title_text=\"China GDP Growth Rate\")\n",
    "fig.show()"
   ]
  },
  {
   "cell_type": "code",
   "execution_count": 114,
   "metadata": {},
   "outputs": [
    {
     "data": {
      "application/vnd.plotly.v1+json": {
       "config": {
        "plotlyServerURL": "https://plot.ly"
       },
       "data": [
        {
         "name": "Share to GDP Growth: FCE",
         "type": "bar",
         "x": [
          "2015-03-01T00:00:00",
          "2015-06-01T00:00:00",
          "2015-09-01T00:00:00",
          "2015-12-01T00:00:00",
          "2016-03-01T00:00:00",
          "2016-06-01T00:00:00",
          "2016-09-01T00:00:00",
          "2016-12-01T00:00:00",
          "2017-03-01T00:00:00",
          "2017-06-01T00:00:00",
          "2017-09-01T00:00:00",
          "2017-12-01T00:00:00",
          "2018-03-01T00:00:00",
          "2018-06-01T00:00:00",
          "2018-09-01T00:00:00",
          "2018-12-01T00:00:00",
          "2019-03-01T00:00:00",
          "2019-06-01T00:00:00",
          "2019-09-01T00:00:00",
          "2019-12-01T00:00:00",
          "2020-03-01T00:00:00",
          "2020-06-01T00:00:00",
          "2020-09-01T00:00:00",
          "2020-12-01T00:00:00",
          "2021-03-01T00:00:00",
          "2021-06-01T00:00:00",
          "2021-09-01T00:00:00",
          "2021-12-01T00:00:00"
         ],
         "xaxis": "x",
         "y": [
          64.1,
          60.6,
          51.3,
          63.5,
          78.1,
          55.9,
          58.4,
          72,
          76.2,
          49.7,
          60.1,
          42.4,
          68.5,
          68.3,
          62.9,
          57.5,
          66.1,
          52.3,
          59.2,
          57.2,
          58.4,
          -68.4,
          35.5,
          44.8,
          50.7,
          74.1,
          77.5,
          85.3
         ],
         "yaxis": "y"
        },
        {
         "name": "Share to GDP Growth: GCF",
         "type": "bar",
         "x": [
          "2015-03-01T00:00:00",
          "2015-06-01T00:00:00",
          "2015-09-01T00:00:00",
          "2015-12-01T00:00:00",
          "2016-03-01T00:00:00",
          "2016-06-01T00:00:00",
          "2016-09-01T00:00:00",
          "2016-12-01T00:00:00",
          "2017-03-01T00:00:00",
          "2017-06-01T00:00:00",
          "2017-09-01T00:00:00",
          "2017-12-01T00:00:00",
          "2018-03-01T00:00:00",
          "2018-06-01T00:00:00",
          "2018-09-01T00:00:00",
          "2018-12-01T00:00:00",
          "2019-03-01T00:00:00",
          "2019-06-01T00:00:00",
          "2019-09-01T00:00:00",
          "2019-12-01T00:00:00",
          "2020-03-01T00:00:00",
          "2020-06-01T00:00:00",
          "2020-09-01T00:00:00",
          "2020-12-01T00:00:00",
          "2021-03-01T00:00:00",
          "2021-06-01T00:00:00",
          "2021-09-01T00:00:00",
          "2021-12-01T00:00:00"
         ],
         "xaxis": "x",
         "y": [
          16.7,
          47,
          59.1,
          39,
          38.3,
          49.1,
          52.4,
          42.5,
          28.4,
          49.8,
          38.4,
          40.1,
          47.8,
          40.3,
          44.7,
          40.7,
          13.4,
          33.7,
          23.3,
          43,
          24,
          154.4,
          40.5,
          31.5,
          24,
          12.8,
          7.8,
          -11.6
         ],
         "yaxis": "y"
        },
        {
         "name": "Share to GDP Growth: NEX",
         "type": "bar",
         "x": [
          "2015-03-01T00:00:00",
          "2015-06-01T00:00:00",
          "2015-09-01T00:00:00",
          "2015-12-01T00:00:00",
          "2016-03-01T00:00:00",
          "2016-06-01T00:00:00",
          "2016-09-01T00:00:00",
          "2016-12-01T00:00:00",
          "2017-03-01T00:00:00",
          "2017-06-01T00:00:00",
          "2017-09-01T00:00:00",
          "2017-12-01T00:00:00",
          "2018-03-01T00:00:00",
          "2018-06-01T00:00:00",
          "2018-09-01T00:00:00",
          "2018-12-01T00:00:00",
          "2019-03-01T00:00:00",
          "2019-06-01T00:00:00",
          "2019-09-01T00:00:00",
          "2019-12-01T00:00:00",
          "2020-03-01T00:00:00",
          "2020-06-01T00:00:00",
          "2020-09-01T00:00:00",
          "2020-12-01T00:00:00",
          "2021-03-01T00:00:00",
          "2021-06-01T00:00:00",
          "2021-09-01T00:00:00",
          "2021-12-01T00:00:00"
         ],
         "xaxis": "x",
         "y": [
          19.2,
          -7.6,
          -10.4,
          -2.5,
          -16.4,
          -5,
          -10.7,
          -14.5,
          -4.5,
          0.5,
          1.5,
          17.4,
          -16.3,
          -8.5,
          -7.7,
          1.9,
          20.5,
          14,
          17.5,
          -0.2,
          17.5,
          14,
          24,
          23.7,
          25.3,
          13.1,
          14.7,
          26.4
         ],
         "yaxis": "y"
        },
        {
         "name": "Contribution to GDP Growth: FCE",
         "type": "bar",
         "x": [
          "2015-03-01T00:00:00",
          "2015-06-01T00:00:00",
          "2015-09-01T00:00:00",
          "2015-12-01T00:00:00",
          "2016-03-01T00:00:00",
          "2016-06-01T00:00:00",
          "2016-09-01T00:00:00",
          "2016-12-01T00:00:00",
          "2017-03-01T00:00:00",
          "2017-06-01T00:00:00",
          "2017-09-01T00:00:00",
          "2017-12-01T00:00:00",
          "2018-03-01T00:00:00",
          "2018-06-01T00:00:00",
          "2018-09-01T00:00:00",
          "2018-12-01T00:00:00",
          "2019-03-01T00:00:00",
          "2019-06-01T00:00:00",
          "2019-09-01T00:00:00",
          "2019-12-01T00:00:00",
          "2020-03-01T00:00:00",
          "2020-06-01T00:00:00",
          "2020-09-01T00:00:00",
          "2020-12-01T00:00:00",
          "2021-03-01T00:00:00",
          "2021-06-01T00:00:00",
          "2021-09-01T00:00:00",
          "2021-12-01T00:00:00"
         ],
         "xaxis": "x2",
         "y": [
          4.487,
          4.242,
          3.5397,
          4.318,
          5.3889,
          3.8012,
          3.9712,
          4.968,
          5.334,
          3.479,
          4.1469,
          2.8832,
          4.7265,
          4.7127,
          4.2143,
          3.7375,
          4.1643,
          3.138,
          3.4928,
          3.3176,
          -4.0296,
          -2.1204,
          1.704,
          2.8672,
          9.2781,
          5.8539,
          3.7975,
          3.412
         ],
         "yaxis": "y2"
        },
        {
         "name": "Contribution to GDP Growth: GCF",
         "type": "bar",
         "x": [
          "2015-03-01T00:00:00",
          "2015-06-01T00:00:00",
          "2015-09-01T00:00:00",
          "2015-12-01T00:00:00",
          "2016-03-01T00:00:00",
          "2016-06-01T00:00:00",
          "2016-09-01T00:00:00",
          "2016-12-01T00:00:00",
          "2017-03-01T00:00:00",
          "2017-06-01T00:00:00",
          "2017-09-01T00:00:00",
          "2017-12-01T00:00:00",
          "2018-03-01T00:00:00",
          "2018-06-01T00:00:00",
          "2018-09-01T00:00:00",
          "2018-12-01T00:00:00",
          "2019-03-01T00:00:00",
          "2019-06-01T00:00:00",
          "2019-09-01T00:00:00",
          "2019-12-01T00:00:00",
          "2020-03-01T00:00:00",
          "2020-06-01T00:00:00",
          "2020-09-01T00:00:00",
          "2020-12-01T00:00:00",
          "2021-03-01T00:00:00",
          "2021-06-01T00:00:00",
          "2021-09-01T00:00:00",
          "2021-12-01T00:00:00"
         ],
         "xaxis": "x2",
         "y": [
          1.169,
          3.29,
          4.0779,
          2.652,
          2.6427,
          3.3388,
          3.5632,
          2.9325,
          1.988,
          3.486,
          2.6496,
          2.7268,
          3.2982,
          2.7807,
          2.9949,
          2.6455,
          0.8442,
          2.022,
          1.3747,
          2.494,
          -1.656,
          4.7864,
          1.944,
          2.016,
          4.392,
          1.0112,
          0.3822,
          -0.464
         ],
         "yaxis": "y2"
        },
        {
         "name": "Contribution to GDP Growth: NEX",
         "type": "bar",
         "x": [
          "2015-03-01T00:00:00",
          "2015-06-01T00:00:00",
          "2015-09-01T00:00:00",
          "2015-12-01T00:00:00",
          "2016-03-01T00:00:00",
          "2016-06-01T00:00:00",
          "2016-09-01T00:00:00",
          "2016-12-01T00:00:00",
          "2017-03-01T00:00:00",
          "2017-06-01T00:00:00",
          "2017-09-01T00:00:00",
          "2017-12-01T00:00:00",
          "2018-03-01T00:00:00",
          "2018-06-01T00:00:00",
          "2018-09-01T00:00:00",
          "2018-12-01T00:00:00",
          "2019-03-01T00:00:00",
          "2019-06-01T00:00:00",
          "2019-09-01T00:00:00",
          "2019-12-01T00:00:00",
          "2020-03-01T00:00:00",
          "2020-06-01T00:00:00",
          "2020-09-01T00:00:00",
          "2020-12-01T00:00:00",
          "2021-03-01T00:00:00",
          "2021-06-01T00:00:00",
          "2021-09-01T00:00:00",
          "2021-12-01T00:00:00"
         ],
         "xaxis": "x2",
         "y": [
          1.344,
          -0.532,
          -0.7176,
          -0.17,
          -1.1316,
          -0.34,
          -0.7276,
          -1.0005,
          -0.315,
          0.035,
          0.1035,
          1.1832,
          -1.1247,
          -0.5865,
          -0.5159,
          0.1235,
          1.2915,
          0.84,
          1.0325,
          -0.0116,
          -1.2075,
          0.434,
          1.152,
          1.5168,
          4.6299,
          1.0349,
          0.7203,
          1.056
         ],
         "yaxis": "y2"
        }
       ],
       "layout": {
        "barmode": "relative",
        "height": 1000,
        "template": {
         "data": {
          "bar": [
           {
            "error_x": {
             "color": "#2a3f5f"
            },
            "error_y": {
             "color": "#2a3f5f"
            },
            "marker": {
             "line": {
              "color": "#E5ECF6",
              "width": 0.5
             },
             "pattern": {
              "fillmode": "overlay",
              "size": 10,
              "solidity": 0.2
             }
            },
            "type": "bar"
           }
          ],
          "barpolar": [
           {
            "marker": {
             "line": {
              "color": "#E5ECF6",
              "width": 0.5
             },
             "pattern": {
              "fillmode": "overlay",
              "size": 10,
              "solidity": 0.2
             }
            },
            "type": "barpolar"
           }
          ],
          "carpet": [
           {
            "aaxis": {
             "endlinecolor": "#2a3f5f",
             "gridcolor": "white",
             "linecolor": "white",
             "minorgridcolor": "white",
             "startlinecolor": "#2a3f5f"
            },
            "baxis": {
             "endlinecolor": "#2a3f5f",
             "gridcolor": "white",
             "linecolor": "white",
             "minorgridcolor": "white",
             "startlinecolor": "#2a3f5f"
            },
            "type": "carpet"
           }
          ],
          "choropleth": [
           {
            "colorbar": {
             "outlinewidth": 0,
             "ticks": ""
            },
            "type": "choropleth"
           }
          ],
          "contour": [
           {
            "colorbar": {
             "outlinewidth": 0,
             "ticks": ""
            },
            "colorscale": [
             [
              0,
              "#0d0887"
             ],
             [
              0.1111111111111111,
              "#46039f"
             ],
             [
              0.2222222222222222,
              "#7201a8"
             ],
             [
              0.3333333333333333,
              "#9c179e"
             ],
             [
              0.4444444444444444,
              "#bd3786"
             ],
             [
              0.5555555555555556,
              "#d8576b"
             ],
             [
              0.6666666666666666,
              "#ed7953"
             ],
             [
              0.7777777777777778,
              "#fb9f3a"
             ],
             [
              0.8888888888888888,
              "#fdca26"
             ],
             [
              1,
              "#f0f921"
             ]
            ],
            "type": "contour"
           }
          ],
          "contourcarpet": [
           {
            "colorbar": {
             "outlinewidth": 0,
             "ticks": ""
            },
            "type": "contourcarpet"
           }
          ],
          "heatmap": [
           {
            "colorbar": {
             "outlinewidth": 0,
             "ticks": ""
            },
            "colorscale": [
             [
              0,
              "#0d0887"
             ],
             [
              0.1111111111111111,
              "#46039f"
             ],
             [
              0.2222222222222222,
              "#7201a8"
             ],
             [
              0.3333333333333333,
              "#9c179e"
             ],
             [
              0.4444444444444444,
              "#bd3786"
             ],
             [
              0.5555555555555556,
              "#d8576b"
             ],
             [
              0.6666666666666666,
              "#ed7953"
             ],
             [
              0.7777777777777778,
              "#fb9f3a"
             ],
             [
              0.8888888888888888,
              "#fdca26"
             ],
             [
              1,
              "#f0f921"
             ]
            ],
            "type": "heatmap"
           }
          ],
          "heatmapgl": [
           {
            "colorbar": {
             "outlinewidth": 0,
             "ticks": ""
            },
            "colorscale": [
             [
              0,
              "#0d0887"
             ],
             [
              0.1111111111111111,
              "#46039f"
             ],
             [
              0.2222222222222222,
              "#7201a8"
             ],
             [
              0.3333333333333333,
              "#9c179e"
             ],
             [
              0.4444444444444444,
              "#bd3786"
             ],
             [
              0.5555555555555556,
              "#d8576b"
             ],
             [
              0.6666666666666666,
              "#ed7953"
             ],
             [
              0.7777777777777778,
              "#fb9f3a"
             ],
             [
              0.8888888888888888,
              "#fdca26"
             ],
             [
              1,
              "#f0f921"
             ]
            ],
            "type": "heatmapgl"
           }
          ],
          "histogram": [
           {
            "marker": {
             "pattern": {
              "fillmode": "overlay",
              "size": 10,
              "solidity": 0.2
             }
            },
            "type": "histogram"
           }
          ],
          "histogram2d": [
           {
            "colorbar": {
             "outlinewidth": 0,
             "ticks": ""
            },
            "colorscale": [
             [
              0,
              "#0d0887"
             ],
             [
              0.1111111111111111,
              "#46039f"
             ],
             [
              0.2222222222222222,
              "#7201a8"
             ],
             [
              0.3333333333333333,
              "#9c179e"
             ],
             [
              0.4444444444444444,
              "#bd3786"
             ],
             [
              0.5555555555555556,
              "#d8576b"
             ],
             [
              0.6666666666666666,
              "#ed7953"
             ],
             [
              0.7777777777777778,
              "#fb9f3a"
             ],
             [
              0.8888888888888888,
              "#fdca26"
             ],
             [
              1,
              "#f0f921"
             ]
            ],
            "type": "histogram2d"
           }
          ],
          "histogram2dcontour": [
           {
            "colorbar": {
             "outlinewidth": 0,
             "ticks": ""
            },
            "colorscale": [
             [
              0,
              "#0d0887"
             ],
             [
              0.1111111111111111,
              "#46039f"
             ],
             [
              0.2222222222222222,
              "#7201a8"
             ],
             [
              0.3333333333333333,
              "#9c179e"
             ],
             [
              0.4444444444444444,
              "#bd3786"
             ],
             [
              0.5555555555555556,
              "#d8576b"
             ],
             [
              0.6666666666666666,
              "#ed7953"
             ],
             [
              0.7777777777777778,
              "#fb9f3a"
             ],
             [
              0.8888888888888888,
              "#fdca26"
             ],
             [
              1,
              "#f0f921"
             ]
            ],
            "type": "histogram2dcontour"
           }
          ],
          "mesh3d": [
           {
            "colorbar": {
             "outlinewidth": 0,
             "ticks": ""
            },
            "type": "mesh3d"
           }
          ],
          "parcoords": [
           {
            "line": {
             "colorbar": {
              "outlinewidth": 0,
              "ticks": ""
             }
            },
            "type": "parcoords"
           }
          ],
          "pie": [
           {
            "automargin": true,
            "type": "pie"
           }
          ],
          "scatter": [
           {
            "marker": {
             "colorbar": {
              "outlinewidth": 0,
              "ticks": ""
             }
            },
            "type": "scatter"
           }
          ],
          "scatter3d": [
           {
            "line": {
             "colorbar": {
              "outlinewidth": 0,
              "ticks": ""
             }
            },
            "marker": {
             "colorbar": {
              "outlinewidth": 0,
              "ticks": ""
             }
            },
            "type": "scatter3d"
           }
          ],
          "scattercarpet": [
           {
            "marker": {
             "colorbar": {
              "outlinewidth": 0,
              "ticks": ""
             }
            },
            "type": "scattercarpet"
           }
          ],
          "scattergeo": [
           {
            "marker": {
             "colorbar": {
              "outlinewidth": 0,
              "ticks": ""
             }
            },
            "type": "scattergeo"
           }
          ],
          "scattergl": [
           {
            "marker": {
             "colorbar": {
              "outlinewidth": 0,
              "ticks": ""
             }
            },
            "type": "scattergl"
           }
          ],
          "scattermapbox": [
           {
            "marker": {
             "colorbar": {
              "outlinewidth": 0,
              "ticks": ""
             }
            },
            "type": "scattermapbox"
           }
          ],
          "scatterpolar": [
           {
            "marker": {
             "colorbar": {
              "outlinewidth": 0,
              "ticks": ""
             }
            },
            "type": "scatterpolar"
           }
          ],
          "scatterpolargl": [
           {
            "marker": {
             "colorbar": {
              "outlinewidth": 0,
              "ticks": ""
             }
            },
            "type": "scatterpolargl"
           }
          ],
          "scatterternary": [
           {
            "marker": {
             "colorbar": {
              "outlinewidth": 0,
              "ticks": ""
             }
            },
            "type": "scatterternary"
           }
          ],
          "surface": [
           {
            "colorbar": {
             "outlinewidth": 0,
             "ticks": ""
            },
            "colorscale": [
             [
              0,
              "#0d0887"
             ],
             [
              0.1111111111111111,
              "#46039f"
             ],
             [
              0.2222222222222222,
              "#7201a8"
             ],
             [
              0.3333333333333333,
              "#9c179e"
             ],
             [
              0.4444444444444444,
              "#bd3786"
             ],
             [
              0.5555555555555556,
              "#d8576b"
             ],
             [
              0.6666666666666666,
              "#ed7953"
             ],
             [
              0.7777777777777778,
              "#fb9f3a"
             ],
             [
              0.8888888888888888,
              "#fdca26"
             ],
             [
              1,
              "#f0f921"
             ]
            ],
            "type": "surface"
           }
          ],
          "table": [
           {
            "cells": {
             "fill": {
              "color": "#EBF0F8"
             },
             "line": {
              "color": "white"
             }
            },
            "header": {
             "fill": {
              "color": "#C8D4E3"
             },
             "line": {
              "color": "white"
             }
            },
            "type": "table"
           }
          ]
         },
         "layout": {
          "annotationdefaults": {
           "arrowcolor": "#2a3f5f",
           "arrowhead": 0,
           "arrowwidth": 1
          },
          "autotypenumbers": "strict",
          "coloraxis": {
           "colorbar": {
            "outlinewidth": 0,
            "ticks": ""
           }
          },
          "colorscale": {
           "diverging": [
            [
             0,
             "#8e0152"
            ],
            [
             0.1,
             "#c51b7d"
            ],
            [
             0.2,
             "#de77ae"
            ],
            [
             0.3,
             "#f1b6da"
            ],
            [
             0.4,
             "#fde0ef"
            ],
            [
             0.5,
             "#f7f7f7"
            ],
            [
             0.6,
             "#e6f5d0"
            ],
            [
             0.7,
             "#b8e186"
            ],
            [
             0.8,
             "#7fbc41"
            ],
            [
             0.9,
             "#4d9221"
            ],
            [
             1,
             "#276419"
            ]
           ],
           "sequential": [
            [
             0,
             "#0d0887"
            ],
            [
             0.1111111111111111,
             "#46039f"
            ],
            [
             0.2222222222222222,
             "#7201a8"
            ],
            [
             0.3333333333333333,
             "#9c179e"
            ],
            [
             0.4444444444444444,
             "#bd3786"
            ],
            [
             0.5555555555555556,
             "#d8576b"
            ],
            [
             0.6666666666666666,
             "#ed7953"
            ],
            [
             0.7777777777777778,
             "#fb9f3a"
            ],
            [
             0.8888888888888888,
             "#fdca26"
            ],
            [
             1,
             "#f0f921"
            ]
           ],
           "sequentialminus": [
            [
             0,
             "#0d0887"
            ],
            [
             0.1111111111111111,
             "#46039f"
            ],
            [
             0.2222222222222222,
             "#7201a8"
            ],
            [
             0.3333333333333333,
             "#9c179e"
            ],
            [
             0.4444444444444444,
             "#bd3786"
            ],
            [
             0.5555555555555556,
             "#d8576b"
            ],
            [
             0.6666666666666666,
             "#ed7953"
            ],
            [
             0.7777777777777778,
             "#fb9f3a"
            ],
            [
             0.8888888888888888,
             "#fdca26"
            ],
            [
             1,
             "#f0f921"
            ]
           ]
          },
          "colorway": [
           "#636efa",
           "#EF553B",
           "#00cc96",
           "#ab63fa",
           "#FFA15A",
           "#19d3f3",
           "#FF6692",
           "#B6E880",
           "#FF97FF",
           "#FECB52"
          ],
          "font": {
           "color": "#2a3f5f"
          },
          "geo": {
           "bgcolor": "white",
           "lakecolor": "white",
           "landcolor": "#E5ECF6",
           "showlakes": true,
           "showland": true,
           "subunitcolor": "white"
          },
          "hoverlabel": {
           "align": "left"
          },
          "hovermode": "closest",
          "mapbox": {
           "style": "light"
          },
          "paper_bgcolor": "white",
          "plot_bgcolor": "#E5ECF6",
          "polar": {
           "angularaxis": {
            "gridcolor": "white",
            "linecolor": "white",
            "ticks": ""
           },
           "bgcolor": "#E5ECF6",
           "radialaxis": {
            "gridcolor": "white",
            "linecolor": "white",
            "ticks": ""
           }
          },
          "scene": {
           "xaxis": {
            "backgroundcolor": "#E5ECF6",
            "gridcolor": "white",
            "gridwidth": 2,
            "linecolor": "white",
            "showbackground": true,
            "ticks": "",
            "zerolinecolor": "white"
           },
           "yaxis": {
            "backgroundcolor": "#E5ECF6",
            "gridcolor": "white",
            "gridwidth": 2,
            "linecolor": "white",
            "showbackground": true,
            "ticks": "",
            "zerolinecolor": "white"
           },
           "zaxis": {
            "backgroundcolor": "#E5ECF6",
            "gridcolor": "white",
            "gridwidth": 2,
            "linecolor": "white",
            "showbackground": true,
            "ticks": "",
            "zerolinecolor": "white"
           }
          },
          "shapedefaults": {
           "line": {
            "color": "#2a3f5f"
           }
          },
          "ternary": {
           "aaxis": {
            "gridcolor": "white",
            "linecolor": "white",
            "ticks": ""
           },
           "baxis": {
            "gridcolor": "white",
            "linecolor": "white",
            "ticks": ""
           },
           "bgcolor": "#E5ECF6",
           "caxis": {
            "gridcolor": "white",
            "linecolor": "white",
            "ticks": ""
           }
          },
          "title": {
           "x": 0.05
          },
          "xaxis": {
           "automargin": true,
           "gridcolor": "white",
           "linecolor": "white",
           "ticks": "",
           "title": {
            "standoff": 15
           },
           "zerolinecolor": "white",
           "zerolinewidth": 2
          },
          "yaxis": {
           "automargin": true,
           "gridcolor": "white",
           "linecolor": "white",
           "ticks": "",
           "title": {
            "standoff": 15
           },
           "zerolinecolor": "white",
           "zerolinewidth": 2
          }
         }
        },
        "title": {
         "text": "Share and Contribution to GDP Growth"
        },
        "width": 1000,
        "xaxis": {
         "anchor": "y",
         "domain": [
          0,
          1
         ]
        },
        "xaxis2": {
         "anchor": "y2",
         "domain": [
          0,
          1
         ]
        },
        "yaxis": {
         "anchor": "x",
         "domain": [
          0.575,
          1
         ]
        },
        "yaxis2": {
         "anchor": "x2",
         "domain": [
          0,
          0.425
         ]
        }
       }
      }
     },
     "metadata": {},
     "output_type": "display_data"
    }
   ],
   "source": [
    "fig = make_subplots(rows=2, cols=1, shared_yaxes=True)\n",
    "\n",
    "#fig = go.Figure()\n",
    "fig.add_trace(go.Bar(x=df_gdp_exp['DATE'], y=df_gdp_exp['GDP_SH_FCE'], name = 'Share to GDP Growth: FCE'), 1, 1)\n",
    "fig.add_trace(go.Bar(x=df_gdp_exp['DATE'], y=df_gdp_exp['GDP_SH_GCF'], name = 'Share to GDP Growth: GCF'), 1, 1)\n",
    "fig.add_trace(go.Bar(x=df_gdp_exp['DATE'], y=df_gdp_exp['GDP_SH_NEX'], name = 'Share to GDP Growth: NEX'), 1, 1)\n",
    "\n",
    "\n",
    "fig.add_trace(go.Bar(x=df_gdp_exp['DATE'], y=df_gdp_exp['GDP_CO_FCE'], name = 'Contribution to GDP Growth: FCE'), 2, 1)\n",
    "fig.add_trace(go.Bar(x=df_gdp_exp['DATE'], y=df_gdp_exp['GDP_CO_GCF'], name = 'Contribution to GDP Growth: GCF'), 2, 1)\n",
    "fig.add_trace(go.Bar(x=df_gdp_exp['DATE'], y=df_gdp_exp['GDP_CO_NEX'], name = 'Contribution to GDP Growth: NEX'), 2, 1)\n",
    "\n",
    "fig.update_layout(height = 1000, width = 1000, barmode='relative', title_text='Share and Contribution to GDP Growth')\n",
    "fig.show()"
   ]
  },
  {
   "cell_type": "code",
   "execution_count": null,
   "metadata": {},
   "outputs": [],
   "source": []
  }
 ],
 "metadata": {
  "interpreter": {
   "hash": "ce47105fb885a85d9d3f8213868814cf76e53996b0173cb358cd6918d14e4534"
  },
  "kernelspec": {
   "display_name": "Python 3.9.7 ('base')",
   "language": "python",
   "name": "python3"
  },
  "language_info": {
   "codemirror_mode": {
    "name": "ipython",
    "version": 3
   },
   "file_extension": ".py",
   "mimetype": "text/x-python",
   "name": "python",
   "nbconvert_exporter": "python",
   "pygments_lexer": "ipython3",
   "version": "3.9.7"
  },
  "orig_nbformat": 4
 },
 "nbformat": 4,
 "nbformat_minor": 2
}
