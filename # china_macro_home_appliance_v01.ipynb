{
 "cells": [
  {
   "cell_type": "code",
   "execution_count": 1,
   "metadata": {},
   "outputs": [],
   "source": [
    "import pandas as pd\n",
    "import datetime\n",
    "import numpy as np\n",
    "import matplotlib.pyplot as plt\n",
    "import seaborn as sns\n",
    "import plotly.express as px\n",
    "import plotly.graph_objects as go\n",
    "from plotly.subplots import make_subplots\n",
    "from dateutil.parser import parse\n",
    "import matplotlib as mpl\n"
   ]
  },
  {
   "cell_type": "code",
   "execution_count": 2,
   "metadata": {},
   "outputs": [],
   "source": [
    "df_ha = pd.read_excel('# 중국 매크로 데이터.xlsx', sheet_name = '백색')\n",
    "#df_ha.head(30)"
   ]
  },
  {
   "cell_type": "code",
   "execution_count": 3,
   "metadata": {},
   "outputs": [
    {
     "data": {
      "text/html": [
       "<div>\n",
       "<style scoped>\n",
       "    .dataframe tbody tr th:only-of-type {\n",
       "        vertical-align: middle;\n",
       "    }\n",
       "\n",
       "    .dataframe tbody tr th {\n",
       "        vertical-align: top;\n",
       "    }\n",
       "\n",
       "    .dataframe thead th {\n",
       "        text-align: right;\n",
       "    }\n",
       "</style>\n",
       "<table border=\"1\" class=\"dataframe\">\n",
       "  <thead>\n",
       "    <tr style=\"text-align: right;\">\n",
       "      <th></th>\n",
       "      <th>데이터를 업데이트하고 계열을 추가하거나 지우려면 이 링크를 선택하시고 다운로드 새로고침/편집을 클릭하세요</th>\n",
       "      <th>CN: Industrial Production: Air Conditioner</th>\n",
       "      <th>CN: Industrial Production: ytd: Air Conditioner</th>\n",
       "      <th>CN: Industrial Production: Household Washing Machine</th>\n",
       "      <th>CN: Industrial Production: ytd: Household Washing Machine</th>\n",
       "      <th>CN: Industrial Production: Household Refrigerator</th>\n",
       "      <th>CN: Industrial Production: ytd: Household Refrigerator</th>\n",
       "    </tr>\n",
       "  </thead>\n",
       "  <tbody>\n",
       "    <tr>\n",
       "      <td>23</td>\n",
       "      <td>1986-01-01 00:00:00</td>\n",
       "      <td>NaN</td>\n",
       "      <td>NaN</td>\n",
       "      <td>763.2</td>\n",
       "      <td>NaN</td>\n",
       "      <td>136.7</td>\n",
       "      <td>NaN</td>\n",
       "    </tr>\n",
       "    <tr>\n",
       "      <td>24</td>\n",
       "      <td>1986-02-01 00:00:00</td>\n",
       "      <td>NaN</td>\n",
       "      <td>NaN</td>\n",
       "      <td>587.3</td>\n",
       "      <td>NaN</td>\n",
       "      <td>114.3</td>\n",
       "      <td>NaN</td>\n",
       "    </tr>\n",
       "    <tr>\n",
       "      <td>25</td>\n",
       "      <td>1986-03-01 00:00:00</td>\n",
       "      <td>NaN</td>\n",
       "      <td>NaN</td>\n",
       "      <td>774</td>\n",
       "      <td>NaN</td>\n",
       "      <td>148.5</td>\n",
       "      <td>NaN</td>\n",
       "    </tr>\n",
       "    <tr>\n",
       "      <td>26</td>\n",
       "      <td>1986-04-01 00:00:00</td>\n",
       "      <td>NaN</td>\n",
       "      <td>NaN</td>\n",
       "      <td>717.7</td>\n",
       "      <td>NaN</td>\n",
       "      <td>144</td>\n",
       "      <td>NaN</td>\n",
       "    </tr>\n",
       "    <tr>\n",
       "      <td>27</td>\n",
       "      <td>1986-05-01 00:00:00</td>\n",
       "      <td>NaN</td>\n",
       "      <td>NaN</td>\n",
       "      <td>772.6</td>\n",
       "      <td>NaN</td>\n",
       "      <td>149</td>\n",
       "      <td>NaN</td>\n",
       "    </tr>\n",
       "    <tr>\n",
       "      <td>...</td>\n",
       "      <td>...</td>\n",
       "      <td>...</td>\n",
       "      <td>...</td>\n",
       "      <td>...</td>\n",
       "      <td>...</td>\n",
       "      <td>...</td>\n",
       "      <td>...</td>\n",
       "    </tr>\n",
       "    <tr>\n",
       "      <td>443</td>\n",
       "      <td>2021-08-01 00:00:00</td>\n",
       "      <td>14912</td>\n",
       "      <td>152198</td>\n",
       "      <td>6738</td>\n",
       "      <td>55915</td>\n",
       "      <td>7364</td>\n",
       "      <td>59135</td>\n",
       "    </tr>\n",
       "    <tr>\n",
       "      <td>444</td>\n",
       "      <td>2021-09-01 00:00:00</td>\n",
       "      <td>15081</td>\n",
       "      <td>166590</td>\n",
       "      <td>6995</td>\n",
       "      <td>62829</td>\n",
       "      <td>7638</td>\n",
       "      <td>66201</td>\n",
       "    </tr>\n",
       "    <tr>\n",
       "      <td>445</td>\n",
       "      <td>2021-10-01 00:00:00</td>\n",
       "      <td>14549</td>\n",
       "      <td>180924</td>\n",
       "      <td>7668</td>\n",
       "      <td>69685</td>\n",
       "      <td>7636</td>\n",
       "      <td>74122</td>\n",
       "    </tr>\n",
       "    <tr>\n",
       "      <td>446</td>\n",
       "      <td>2021-11-01 00:00:00</td>\n",
       "      <td>16628</td>\n",
       "      <td>197414</td>\n",
       "      <td>8438</td>\n",
       "      <td>78330</td>\n",
       "      <td>8085</td>\n",
       "      <td>82533</td>\n",
       "    </tr>\n",
       "    <tr>\n",
       "      <td>447</td>\n",
       "      <td>2021-12-01 00:00:00</td>\n",
       "      <td>19635</td>\n",
       "      <td>218357</td>\n",
       "      <td>7856</td>\n",
       "      <td>86185</td>\n",
       "      <td>7578</td>\n",
       "      <td>89921</td>\n",
       "    </tr>\n",
       "  </tbody>\n",
       "</table>\n",
       "<p>425 rows × 7 columns</p>\n",
       "</div>"
      ],
      "text/plain": [
       "    데이터를 업데이트하고 계열을 추가하거나 지우려면 이 링크를 선택하시고 다운로드 새로고침/편집을 클릭하세요  \\\n",
       "23                                 1986-01-01 00:00:00           \n",
       "24                                 1986-02-01 00:00:00           \n",
       "25                                 1986-03-01 00:00:00           \n",
       "26                                 1986-04-01 00:00:00           \n",
       "27                                 1986-05-01 00:00:00           \n",
       "..                                                 ...           \n",
       "443                                2021-08-01 00:00:00           \n",
       "444                                2021-09-01 00:00:00           \n",
       "445                                2021-10-01 00:00:00           \n",
       "446                                2021-11-01 00:00:00           \n",
       "447                                2021-12-01 00:00:00           \n",
       "\n",
       "    CN: Industrial Production: Air Conditioner  \\\n",
       "23                                         NaN   \n",
       "24                                         NaN   \n",
       "25                                         NaN   \n",
       "26                                         NaN   \n",
       "27                                         NaN   \n",
       "..                                         ...   \n",
       "443                                      14912   \n",
       "444                                      15081   \n",
       "445                                      14549   \n",
       "446                                      16628   \n",
       "447                                      19635   \n",
       "\n",
       "    CN: Industrial Production: ytd: Air Conditioner  \\\n",
       "23                                              NaN   \n",
       "24                                              NaN   \n",
       "25                                              NaN   \n",
       "26                                              NaN   \n",
       "27                                              NaN   \n",
       "..                                              ...   \n",
       "443                                          152198   \n",
       "444                                          166590   \n",
       "445                                          180924   \n",
       "446                                          197414   \n",
       "447                                          218357   \n",
       "\n",
       "    CN: Industrial Production: Household Washing Machine  \\\n",
       "23                                               763.2     \n",
       "24                                               587.3     \n",
       "25                                                 774     \n",
       "26                                               717.7     \n",
       "27                                               772.6     \n",
       "..                                                 ...     \n",
       "443                                               6738     \n",
       "444                                               6995     \n",
       "445                                               7668     \n",
       "446                                               8438     \n",
       "447                                               7856     \n",
       "\n",
       "    CN: Industrial Production: ytd: Household Washing Machine  \\\n",
       "23                                                 NaN          \n",
       "24                                                 NaN          \n",
       "25                                                 NaN          \n",
       "26                                                 NaN          \n",
       "27                                                 NaN          \n",
       "..                                                 ...          \n",
       "443                                              55915          \n",
       "444                                              62829          \n",
       "445                                              69685          \n",
       "446                                              78330          \n",
       "447                                              86185          \n",
       "\n",
       "    CN: Industrial Production: Household Refrigerator  \\\n",
       "23                                              136.7   \n",
       "24                                              114.3   \n",
       "25                                              148.5   \n",
       "26                                                144   \n",
       "27                                                149   \n",
       "..                                                ...   \n",
       "443                                              7364   \n",
       "444                                              7638   \n",
       "445                                              7636   \n",
       "446                                              8085   \n",
       "447                                              7578   \n",
       "\n",
       "    CN: Industrial Production: ytd: Household Refrigerator  \n",
       "23                                                 NaN      \n",
       "24                                                 NaN      \n",
       "25                                                 NaN      \n",
       "26                                                 NaN      \n",
       "27                                                 NaN      \n",
       "..                                                 ...      \n",
       "443                                              59135      \n",
       "444                                              66201      \n",
       "445                                              74122      \n",
       "446                                              82533      \n",
       "447                                              89921      \n",
       "\n",
       "[425 rows x 7 columns]"
      ]
     },
     "metadata": {},
     "output_type": "display_data"
    }
   ],
   "source": [
    "df_ha = df_ha.iloc[23:]\n",
    "df_ha = df_ha.iloc[:, 0:7]\n",
    "display(df_ha)"
   ]
  },
  {
   "cell_type": "code",
   "execution_count": 4,
   "metadata": {},
   "outputs": [
    {
     "data": {
      "text/html": [
       "<div>\n",
       "<style scoped>\n",
       "    .dataframe tbody tr th:only-of-type {\n",
       "        vertical-align: middle;\n",
       "    }\n",
       "\n",
       "    .dataframe tbody tr th {\n",
       "        vertical-align: top;\n",
       "    }\n",
       "\n",
       "    .dataframe thead th {\n",
       "        text-align: right;\n",
       "    }\n",
       "</style>\n",
       "<table border=\"1\" class=\"dataframe\">\n",
       "  <thead>\n",
       "    <tr style=\"text-align: right;\">\n",
       "      <th></th>\n",
       "      <th>DATE</th>\n",
       "      <th>AIR</th>\n",
       "      <th>AIR_YTD</th>\n",
       "      <th>WM</th>\n",
       "      <th>WM_YTD</th>\n",
       "      <th>RF</th>\n",
       "      <th>RF_YTD</th>\n",
       "    </tr>\n",
       "  </thead>\n",
       "  <tbody>\n",
       "    <tr>\n",
       "      <td>23</td>\n",
       "      <td>1986-01-01 00:00:00</td>\n",
       "      <td>NaN</td>\n",
       "      <td>NaN</td>\n",
       "      <td>763.2</td>\n",
       "      <td>NaN</td>\n",
       "      <td>136.7</td>\n",
       "      <td>NaN</td>\n",
       "    </tr>\n",
       "    <tr>\n",
       "      <td>24</td>\n",
       "      <td>1986-02-01 00:00:00</td>\n",
       "      <td>NaN</td>\n",
       "      <td>NaN</td>\n",
       "      <td>587.3</td>\n",
       "      <td>NaN</td>\n",
       "      <td>114.3</td>\n",
       "      <td>NaN</td>\n",
       "    </tr>\n",
       "    <tr>\n",
       "      <td>25</td>\n",
       "      <td>1986-03-01 00:00:00</td>\n",
       "      <td>NaN</td>\n",
       "      <td>NaN</td>\n",
       "      <td>774</td>\n",
       "      <td>NaN</td>\n",
       "      <td>148.5</td>\n",
       "      <td>NaN</td>\n",
       "    </tr>\n",
       "    <tr>\n",
       "      <td>26</td>\n",
       "      <td>1986-04-01 00:00:00</td>\n",
       "      <td>NaN</td>\n",
       "      <td>NaN</td>\n",
       "      <td>717.7</td>\n",
       "      <td>NaN</td>\n",
       "      <td>144</td>\n",
       "      <td>NaN</td>\n",
       "    </tr>\n",
       "    <tr>\n",
       "      <td>27</td>\n",
       "      <td>1986-05-01 00:00:00</td>\n",
       "      <td>NaN</td>\n",
       "      <td>NaN</td>\n",
       "      <td>772.6</td>\n",
       "      <td>NaN</td>\n",
       "      <td>149</td>\n",
       "      <td>NaN</td>\n",
       "    </tr>\n",
       "    <tr>\n",
       "      <td>28</td>\n",
       "      <td>1986-06-01 00:00:00</td>\n",
       "      <td>NaN</td>\n",
       "      <td>NaN</td>\n",
       "      <td>764.1</td>\n",
       "      <td>NaN</td>\n",
       "      <td>170.3</td>\n",
       "      <td>NaN</td>\n",
       "    </tr>\n",
       "    <tr>\n",
       "      <td>29</td>\n",
       "      <td>1986-07-01 00:00:00</td>\n",
       "      <td>NaN</td>\n",
       "      <td>NaN</td>\n",
       "      <td>711.3</td>\n",
       "      <td>NaN</td>\n",
       "      <td>195.4</td>\n",
       "      <td>NaN</td>\n",
       "    </tr>\n",
       "    <tr>\n",
       "      <td>30</td>\n",
       "      <td>1986-08-01 00:00:00</td>\n",
       "      <td>NaN</td>\n",
       "      <td>NaN</td>\n",
       "      <td>723.4</td>\n",
       "      <td>NaN</td>\n",
       "      <td>200.7</td>\n",
       "      <td>NaN</td>\n",
       "    </tr>\n",
       "    <tr>\n",
       "      <td>31</td>\n",
       "      <td>1986-09-01 00:00:00</td>\n",
       "      <td>NaN</td>\n",
       "      <td>NaN</td>\n",
       "      <td>719.9</td>\n",
       "      <td>NaN</td>\n",
       "      <td>204.3</td>\n",
       "      <td>NaN</td>\n",
       "    </tr>\n",
       "    <tr>\n",
       "      <td>32</td>\n",
       "      <td>1986-10-01 00:00:00</td>\n",
       "      <td>NaN</td>\n",
       "      <td>NaN</td>\n",
       "      <td>780.8</td>\n",
       "      <td>NaN</td>\n",
       "      <td>232.9</td>\n",
       "      <td>NaN</td>\n",
       "    </tr>\n",
       "    <tr>\n",
       "      <td>33</td>\n",
       "      <td>1986-11-01 00:00:00</td>\n",
       "      <td>NaN</td>\n",
       "      <td>NaN</td>\n",
       "      <td>845.6</td>\n",
       "      <td>NaN</td>\n",
       "      <td>267.1</td>\n",
       "      <td>NaN</td>\n",
       "    </tr>\n",
       "    <tr>\n",
       "      <td>34</td>\n",
       "      <td>1986-12-01 00:00:00</td>\n",
       "      <td>NaN</td>\n",
       "      <td>NaN</td>\n",
       "      <td>866.8</td>\n",
       "      <td>NaN</td>\n",
       "      <td>256.7</td>\n",
       "      <td>NaN</td>\n",
       "    </tr>\n",
       "    <tr>\n",
       "      <td>35</td>\n",
       "      <td>1987-01-01 00:00:00</td>\n",
       "      <td>NaN</td>\n",
       "      <td>NaN</td>\n",
       "      <td>788.9</td>\n",
       "      <td>NaN</td>\n",
       "      <td>226.8</td>\n",
       "      <td>NaN</td>\n",
       "    </tr>\n",
       "  </tbody>\n",
       "</table>\n",
       "</div>"
      ],
      "text/plain": [
       "                   DATE  AIR AIR_YTD     WM WM_YTD     RF RF_YTD\n",
       "23  1986-01-01 00:00:00  NaN     NaN  763.2    NaN  136.7    NaN\n",
       "24  1986-02-01 00:00:00  NaN     NaN  587.3    NaN  114.3    NaN\n",
       "25  1986-03-01 00:00:00  NaN     NaN    774    NaN  148.5    NaN\n",
       "26  1986-04-01 00:00:00  NaN     NaN  717.7    NaN    144    NaN\n",
       "27  1986-05-01 00:00:00  NaN     NaN  772.6    NaN    149    NaN\n",
       "28  1986-06-01 00:00:00  NaN     NaN  764.1    NaN  170.3    NaN\n",
       "29  1986-07-01 00:00:00  NaN     NaN  711.3    NaN  195.4    NaN\n",
       "30  1986-08-01 00:00:00  NaN     NaN  723.4    NaN  200.7    NaN\n",
       "31  1986-09-01 00:00:00  NaN     NaN  719.9    NaN  204.3    NaN\n",
       "32  1986-10-01 00:00:00  NaN     NaN  780.8    NaN  232.9    NaN\n",
       "33  1986-11-01 00:00:00  NaN     NaN  845.6    NaN  267.1    NaN\n",
       "34  1986-12-01 00:00:00  NaN     NaN  866.8    NaN  256.7    NaN\n",
       "35  1987-01-01 00:00:00  NaN     NaN  788.9    NaN  226.8    NaN"
      ]
     },
     "execution_count": 4,
     "metadata": {},
     "output_type": "execute_result"
    }
   ],
   "source": [
    "df_ha = df_ha.rename(columns = {'데이터를 업데이트하고 계열을 추가하거나 지우려면 이 링크를 선택하시고 다운로드 새로고침/편집을 클릭하세요': 'DATE'})\n",
    "df_ha = df_ha.rename(columns = {'CN: Industrial Production: Air Conditioner': 'AIR'})\n",
    "df_ha = df_ha.rename(columns = {'CN: Industrial Production: ytd: Air Conditioner': 'AIR_YTD'})\n",
    "df_ha = df_ha.rename(columns = {'CN: Industrial Production: Household Washing Machine': 'WM'})\n",
    "df_ha = df_ha.rename(columns = {'CN: Industrial Production: ytd: Household Washing Machine': 'WM_YTD'})\n",
    "df_ha = df_ha.rename(columns = {'CN: Industrial Production: Household Refrigerator': 'RF'})\n",
    "df_ha = df_ha.rename(columns = {'CN: Industrial Production: ytd: Household Refrigerator': 'RF_YTD'})\n",
    "#df_ha.dropna(how = 'any')\n",
    "df_ha.head(13)"
   ]
  },
  {
   "cell_type": "code",
   "execution_count": 5,
   "metadata": {},
   "outputs": [
    {
     "data": {
      "text/html": [
       "<div>\n",
       "<style scoped>\n",
       "    .dataframe tbody tr th:only-of-type {\n",
       "        vertical-align: middle;\n",
       "    }\n",
       "\n",
       "    .dataframe tbody tr th {\n",
       "        vertical-align: top;\n",
       "    }\n",
       "\n",
       "    .dataframe thead th {\n",
       "        text-align: right;\n",
       "    }\n",
       "</style>\n",
       "<table border=\"1\" class=\"dataframe\">\n",
       "  <thead>\n",
       "    <tr style=\"text-align: right;\">\n",
       "      <th></th>\n",
       "      <th>DATE</th>\n",
       "      <th>AIR</th>\n",
       "      <th>AIR_YTD</th>\n",
       "      <th>WM</th>\n",
       "      <th>WM_YTD</th>\n",
       "      <th>RF</th>\n",
       "      <th>RF_YTD</th>\n",
       "      <th>AIR_New</th>\n",
       "      <th>WM_New</th>\n",
       "      <th>RF_New</th>\n",
       "    </tr>\n",
       "  </thead>\n",
       "  <tbody>\n",
       "    <tr>\n",
       "      <td>435</td>\n",
       "      <td>2020-11-01 00:00:00</td>\n",
       "      <td>17716</td>\n",
       "      <td>189292</td>\n",
       "      <td>8566</td>\n",
       "      <td>72285</td>\n",
       "      <td>8989</td>\n",
       "      <td>82605</td>\n",
       "      <td>17716</td>\n",
       "      <td>8566</td>\n",
       "      <td>8989</td>\n",
       "    </tr>\n",
       "    <tr>\n",
       "      <td>436</td>\n",
       "      <td>2020-12-01 00:00:00</td>\n",
       "      <td>21525</td>\n",
       "      <td>210353</td>\n",
       "      <td>8064</td>\n",
       "      <td>80418.7</td>\n",
       "      <td>7964</td>\n",
       "      <td>90147.1</td>\n",
       "      <td>21525</td>\n",
       "      <td>8064</td>\n",
       "      <td>7964</td>\n",
       "    </tr>\n",
       "    <tr>\n",
       "      <td>437</td>\n",
       "      <td>2021-02-01 00:00:00</td>\n",
       "      <td>NaN</td>\n",
       "      <td>29404</td>\n",
       "      <td>NaN</td>\n",
       "      <td>13135</td>\n",
       "      <td>NaN</td>\n",
       "      <td>12107</td>\n",
       "      <td>29404</td>\n",
       "      <td>13135</td>\n",
       "      <td>12107</td>\n",
       "    </tr>\n",
       "    <tr>\n",
       "      <td>438</td>\n",
       "      <td>2021-03-01 00:00:00</td>\n",
       "      <td>25916</td>\n",
       "      <td>55953</td>\n",
       "      <td>8312</td>\n",
       "      <td>21447</td>\n",
       "      <td>9466</td>\n",
       "      <td>21578</td>\n",
       "      <td>25916</td>\n",
       "      <td>8312</td>\n",
       "      <td>9466</td>\n",
       "    </tr>\n",
       "    <tr>\n",
       "      <td>439</td>\n",
       "      <td>2021-04-01 00:00:00</td>\n",
       "      <td>24210</td>\n",
       "      <td>79396</td>\n",
       "      <td>7720</td>\n",
       "      <td>29167</td>\n",
       "      <td>7729</td>\n",
       "      <td>29449</td>\n",
       "      <td>24210</td>\n",
       "      <td>7720</td>\n",
       "      <td>7729</td>\n",
       "    </tr>\n",
       "    <tr>\n",
       "      <td>440</td>\n",
       "      <td>2021-05-01 00:00:00</td>\n",
       "      <td>22058</td>\n",
       "      <td>101759</td>\n",
       "      <td>7032</td>\n",
       "      <td>36184</td>\n",
       "      <td>7487</td>\n",
       "      <td>37116</td>\n",
       "      <td>22058</td>\n",
       "      <td>7032</td>\n",
       "      <td>7487</td>\n",
       "    </tr>\n",
       "    <tr>\n",
       "      <td>441</td>\n",
       "      <td>2021-06-01 00:00:00</td>\n",
       "      <td>21670</td>\n",
       "      <td>123283</td>\n",
       "      <td>6640</td>\n",
       "      <td>42939</td>\n",
       "      <td>7425</td>\n",
       "      <td>44346</td>\n",
       "      <td>21670</td>\n",
       "      <td>6640</td>\n",
       "      <td>7425</td>\n",
       "    </tr>\n",
       "    <tr>\n",
       "      <td>442</td>\n",
       "      <td>2021-07-01 00:00:00</td>\n",
       "      <td>18018</td>\n",
       "      <td>137686</td>\n",
       "      <td>6238</td>\n",
       "      <td>49177</td>\n",
       "      <td>7410</td>\n",
       "      <td>51773</td>\n",
       "      <td>18018</td>\n",
       "      <td>6238</td>\n",
       "      <td>7410</td>\n",
       "    </tr>\n",
       "    <tr>\n",
       "      <td>443</td>\n",
       "      <td>2021-08-01 00:00:00</td>\n",
       "      <td>14912</td>\n",
       "      <td>152198</td>\n",
       "      <td>6738</td>\n",
       "      <td>55915</td>\n",
       "      <td>7364</td>\n",
       "      <td>59135</td>\n",
       "      <td>14912</td>\n",
       "      <td>6738</td>\n",
       "      <td>7364</td>\n",
       "    </tr>\n",
       "    <tr>\n",
       "      <td>444</td>\n",
       "      <td>2021-09-01 00:00:00</td>\n",
       "      <td>15081</td>\n",
       "      <td>166590</td>\n",
       "      <td>6995</td>\n",
       "      <td>62829</td>\n",
       "      <td>7638</td>\n",
       "      <td>66201</td>\n",
       "      <td>15081</td>\n",
       "      <td>6995</td>\n",
       "      <td>7638</td>\n",
       "    </tr>\n",
       "    <tr>\n",
       "      <td>445</td>\n",
       "      <td>2021-10-01 00:00:00</td>\n",
       "      <td>14549</td>\n",
       "      <td>180924</td>\n",
       "      <td>7668</td>\n",
       "      <td>69685</td>\n",
       "      <td>7636</td>\n",
       "      <td>74122</td>\n",
       "      <td>14549</td>\n",
       "      <td>7668</td>\n",
       "      <td>7636</td>\n",
       "    </tr>\n",
       "    <tr>\n",
       "      <td>446</td>\n",
       "      <td>2021-11-01 00:00:00</td>\n",
       "      <td>16628</td>\n",
       "      <td>197414</td>\n",
       "      <td>8438</td>\n",
       "      <td>78330</td>\n",
       "      <td>8085</td>\n",
       "      <td>82533</td>\n",
       "      <td>16628</td>\n",
       "      <td>8438</td>\n",
       "      <td>8085</td>\n",
       "    </tr>\n",
       "    <tr>\n",
       "      <td>447</td>\n",
       "      <td>2021-12-01 00:00:00</td>\n",
       "      <td>19635</td>\n",
       "      <td>218357</td>\n",
       "      <td>7856</td>\n",
       "      <td>86185</td>\n",
       "      <td>7578</td>\n",
       "      <td>89921</td>\n",
       "      <td>19635</td>\n",
       "      <td>7856</td>\n",
       "      <td>7578</td>\n",
       "    </tr>\n",
       "  </tbody>\n",
       "</table>\n",
       "</div>"
      ],
      "text/plain": [
       "                    DATE    AIR AIR_YTD    WM   WM_YTD    RF   RF_YTD AIR_New  \\\n",
       "435  2020-11-01 00:00:00  17716  189292  8566    72285  8989    82605   17716   \n",
       "436  2020-12-01 00:00:00  21525  210353  8064  80418.7  7964  90147.1   21525   \n",
       "437  2021-02-01 00:00:00    NaN   29404   NaN    13135   NaN    12107   29404   \n",
       "438  2021-03-01 00:00:00  25916   55953  8312    21447  9466    21578   25916   \n",
       "439  2021-04-01 00:00:00  24210   79396  7720    29167  7729    29449   24210   \n",
       "440  2021-05-01 00:00:00  22058  101759  7032    36184  7487    37116   22058   \n",
       "441  2021-06-01 00:00:00  21670  123283  6640    42939  7425    44346   21670   \n",
       "442  2021-07-01 00:00:00  18018  137686  6238    49177  7410    51773   18018   \n",
       "443  2021-08-01 00:00:00  14912  152198  6738    55915  7364    59135   14912   \n",
       "444  2021-09-01 00:00:00  15081  166590  6995    62829  7638    66201   15081   \n",
       "445  2021-10-01 00:00:00  14549  180924  7668    69685  7636    74122   14549   \n",
       "446  2021-11-01 00:00:00  16628  197414  8438    78330  8085    82533   16628   \n",
       "447  2021-12-01 00:00:00  19635  218357  7856    86185  7578    89921   19635   \n",
       "\n",
       "    WM_New RF_New  \n",
       "435   8566   8989  \n",
       "436   8064   7964  \n",
       "437  13135  12107  \n",
       "438   8312   9466  \n",
       "439   7720   7729  \n",
       "440   7032   7487  \n",
       "441   6640   7425  \n",
       "442   6238   7410  \n",
       "443   6738   7364  \n",
       "444   6995   7638  \n",
       "445   7668   7636  \n",
       "446   8438   8085  \n",
       "447   7856   7578  "
      ]
     },
     "execution_count": 5,
     "metadata": {},
     "output_type": "execute_result"
    }
   ],
   "source": [
    "df_ha['AIR_New'] = np.where(pd.notnull(df_ha['AIR']) == True, df_ha['AIR'], df_ha['AIR_YTD'])\n",
    "df_ha['WM_New'] = np.where(pd.notnull(df_ha['WM']) == True, df_ha['WM'], df_ha['WM_YTD'])\n",
    "df_ha['RF_New'] = np.where(pd.notnull(df_ha['RF']) == True, df_ha['RF'], df_ha['RF_YTD'])\n",
    "df_ha.tail(13)"
   ]
  },
  {
   "cell_type": "code",
   "execution_count": 6,
   "metadata": {},
   "outputs": [
    {
     "data": {
      "text/html": [
       "<div>\n",
       "<style scoped>\n",
       "    .dataframe tbody tr th:only-of-type {\n",
       "        vertical-align: middle;\n",
       "    }\n",
       "\n",
       "    .dataframe tbody tr th {\n",
       "        vertical-align: top;\n",
       "    }\n",
       "\n",
       "    .dataframe thead th {\n",
       "        text-align: right;\n",
       "    }\n",
       "</style>\n",
       "<table border=\"1\" class=\"dataframe\">\n",
       "  <thead>\n",
       "    <tr style=\"text-align: right;\">\n",
       "      <th></th>\n",
       "      <th>DATE</th>\n",
       "      <th>AIR_New</th>\n",
       "      <th>WM_New</th>\n",
       "      <th>RF_New</th>\n",
       "    </tr>\n",
       "  </thead>\n",
       "  <tbody>\n",
       "    <tr>\n",
       "      <td>443</td>\n",
       "      <td>2021-08-01 00:00:00</td>\n",
       "      <td>14912</td>\n",
       "      <td>6738</td>\n",
       "      <td>7364</td>\n",
       "    </tr>\n",
       "    <tr>\n",
       "      <td>444</td>\n",
       "      <td>2021-09-01 00:00:00</td>\n",
       "      <td>15081</td>\n",
       "      <td>6995</td>\n",
       "      <td>7638</td>\n",
       "    </tr>\n",
       "    <tr>\n",
       "      <td>445</td>\n",
       "      <td>2021-10-01 00:00:00</td>\n",
       "      <td>14549</td>\n",
       "      <td>7668</td>\n",
       "      <td>7636</td>\n",
       "    </tr>\n",
       "    <tr>\n",
       "      <td>446</td>\n",
       "      <td>2021-11-01 00:00:00</td>\n",
       "      <td>16628</td>\n",
       "      <td>8438</td>\n",
       "      <td>8085</td>\n",
       "    </tr>\n",
       "    <tr>\n",
       "      <td>447</td>\n",
       "      <td>2021-12-01 00:00:00</td>\n",
       "      <td>19635</td>\n",
       "      <td>7856</td>\n",
       "      <td>7578</td>\n",
       "    </tr>\n",
       "  </tbody>\n",
       "</table>\n",
       "</div>"
      ],
      "text/plain": [
       "                    DATE AIR_New WM_New RF_New\n",
       "443  2021-08-01 00:00:00   14912   6738   7364\n",
       "444  2021-09-01 00:00:00   15081   6995   7638\n",
       "445  2021-10-01 00:00:00   14549   7668   7636\n",
       "446  2021-11-01 00:00:00   16628   8438   8085\n",
       "447  2021-12-01 00:00:00   19635   7856   7578"
      ]
     },
     "execution_count": 6,
     "metadata": {},
     "output_type": "execute_result"
    }
   ],
   "source": [
    "df_ha = df_ha[['DATE','AIR_New', \"WM_New\", \"RF_New\"]]\n",
    "df_ha.tail()"
   ]
  },
  {
   "cell_type": "code",
   "execution_count": 7,
   "metadata": {},
   "outputs": [
    {
     "data": {
      "text/html": [
       "<div>\n",
       "<style scoped>\n",
       "    .dataframe tbody tr th:only-of-type {\n",
       "        vertical-align: middle;\n",
       "    }\n",
       "\n",
       "    .dataframe tbody tr th {\n",
       "        vertical-align: top;\n",
       "    }\n",
       "\n",
       "    .dataframe thead th {\n",
       "        text-align: right;\n",
       "    }\n",
       "</style>\n",
       "<table border=\"1\" class=\"dataframe\">\n",
       "  <thead>\n",
       "    <tr style=\"text-align: right;\">\n",
       "      <th></th>\n",
       "      <th>AIR_New</th>\n",
       "      <th>WM_New</th>\n",
       "      <th>RF_New</th>\n",
       "    </tr>\n",
       "    <tr>\n",
       "      <th>DATE</th>\n",
       "      <th></th>\n",
       "      <th></th>\n",
       "      <th></th>\n",
       "    </tr>\n",
       "  </thead>\n",
       "  <tbody>\n",
       "    <tr>\n",
       "      <td>1986-01-01</td>\n",
       "      <td>NaN</td>\n",
       "      <td>763.2</td>\n",
       "      <td>136.7</td>\n",
       "    </tr>\n",
       "    <tr>\n",
       "      <td>1986-02-01</td>\n",
       "      <td>NaN</td>\n",
       "      <td>587.3</td>\n",
       "      <td>114.3</td>\n",
       "    </tr>\n",
       "    <tr>\n",
       "      <td>1986-03-01</td>\n",
       "      <td>NaN</td>\n",
       "      <td>774</td>\n",
       "      <td>148.5</td>\n",
       "    </tr>\n",
       "    <tr>\n",
       "      <td>1986-04-01</td>\n",
       "      <td>NaN</td>\n",
       "      <td>717.7</td>\n",
       "      <td>144</td>\n",
       "    </tr>\n",
       "    <tr>\n",
       "      <td>1986-05-01</td>\n",
       "      <td>NaN</td>\n",
       "      <td>772.6</td>\n",
       "      <td>149</td>\n",
       "    </tr>\n",
       "  </tbody>\n",
       "</table>\n",
       "</div>"
      ],
      "text/plain": [
       "           AIR_New WM_New RF_New\n",
       "DATE                            \n",
       "1986-01-01     NaN  763.2  136.7\n",
       "1986-02-01     NaN  587.3  114.3\n",
       "1986-03-01     NaN    774  148.5\n",
       "1986-04-01     NaN  717.7    144\n",
       "1986-05-01     NaN  772.6    149"
      ]
     },
     "execution_count": 7,
     "metadata": {},
     "output_type": "execute_result"
    }
   ],
   "source": [
    "df_ha = df_ha.set_index(\"DATE\")\n",
    "df_ha.head()"
   ]
  },
  {
   "cell_type": "code",
   "execution_count": 8,
   "metadata": {},
   "outputs": [
    {
     "data": {
      "text/plain": [
       "DatetimeIndex(['2016-01-01', '2017-01-01', '2018-01-01', '2019-01-01',\n",
       "               '2020-01-01', '2021-01-01', '2022-01-01'],\n",
       "              dtype='datetime64[ns]', freq='AS-JAN')"
      ]
     },
     "execution_count": 8,
     "metadata": {},
     "output_type": "execute_result"
    }
   ],
   "source": [
    "index = pd.date_range(\"2016-01-01\", \"2022-01-01\", freq=\"YS\")\n",
    "index"
   ]
  },
  {
   "cell_type": "code",
   "execution_count": 9,
   "metadata": {},
   "outputs": [
    {
     "data": {
      "text/html": [
       "<div>\n",
       "<style scoped>\n",
       "    .dataframe tbody tr th:only-of-type {\n",
       "        vertical-align: middle;\n",
       "    }\n",
       "\n",
       "    .dataframe tbody tr th {\n",
       "        vertical-align: top;\n",
       "    }\n",
       "\n",
       "    .dataframe thead th {\n",
       "        text-align: right;\n",
       "    }\n",
       "</style>\n",
       "<table border=\"1\" class=\"dataframe\">\n",
       "  <thead>\n",
       "    <tr style=\"text-align: right;\">\n",
       "      <th></th>\n",
       "      <th>data</th>\n",
       "    </tr>\n",
       "  </thead>\n",
       "  <tbody>\n",
       "    <tr>\n",
       "      <td>2016-01-01</td>\n",
       "      <td>NaN</td>\n",
       "    </tr>\n",
       "    <tr>\n",
       "      <td>2017-01-01</td>\n",
       "      <td>NaN</td>\n",
       "    </tr>\n",
       "    <tr>\n",
       "      <td>2018-01-01</td>\n",
       "      <td>NaN</td>\n",
       "    </tr>\n",
       "    <tr>\n",
       "      <td>2019-01-01</td>\n",
       "      <td>NaN</td>\n",
       "    </tr>\n",
       "    <tr>\n",
       "      <td>2020-01-01</td>\n",
       "      <td>NaN</td>\n",
       "    </tr>\n",
       "    <tr>\n",
       "      <td>2021-01-01</td>\n",
       "      <td>NaN</td>\n",
       "    </tr>\n",
       "    <tr>\n",
       "      <td>2022-01-01</td>\n",
       "      <td>NaN</td>\n",
       "    </tr>\n",
       "  </tbody>\n",
       "</table>\n",
       "</div>"
      ],
      "text/plain": [
       "           data\n",
       "2016-01-01  NaN\n",
       "2017-01-01  NaN\n",
       "2018-01-01  NaN\n",
       "2019-01-01  NaN\n",
       "2020-01-01  NaN\n",
       "2021-01-01  NaN\n",
       "2022-01-01  NaN"
      ]
     },
     "execution_count": 9,
     "metadata": {},
     "output_type": "execute_result"
    }
   ],
   "source": [
    "empty = pd.DataFrame(index=index, columns=[\"data\"])\n",
    "empty"
   ]
  },
  {
   "cell_type": "code",
   "execution_count": 10,
   "metadata": {},
   "outputs": [
    {
     "data": {
      "text/html": [
       "<div>\n",
       "<style scoped>\n",
       "    .dataframe tbody tr th:only-of-type {\n",
       "        vertical-align: middle;\n",
       "    }\n",
       "\n",
       "    .dataframe tbody tr th {\n",
       "        vertical-align: top;\n",
       "    }\n",
       "\n",
       "    .dataframe thead th {\n",
       "        text-align: right;\n",
       "    }\n",
       "</style>\n",
       "<table border=\"1\" class=\"dataframe\">\n",
       "  <thead>\n",
       "    <tr style=\"text-align: right;\">\n",
       "      <th></th>\n",
       "      <th>AIR_New</th>\n",
       "      <th>WM_New</th>\n",
       "      <th>RF_New</th>\n",
       "      <th>data</th>\n",
       "    </tr>\n",
       "  </thead>\n",
       "  <tbody>\n",
       "    <tr>\n",
       "      <td>2019-08-01</td>\n",
       "      <td>14332</td>\n",
       "      <td>6782</td>\n",
       "      <td>7017</td>\n",
       "      <td>NaN</td>\n",
       "    </tr>\n",
       "    <tr>\n",
       "      <td>2019-09-01</td>\n",
       "      <td>17839</td>\n",
       "      <td>7205</td>\n",
       "      <td>7367</td>\n",
       "      <td>NaN</td>\n",
       "    </tr>\n",
       "    <tr>\n",
       "      <td>2019-10-01</td>\n",
       "      <td>13322</td>\n",
       "      <td>7615</td>\n",
       "      <td>7046</td>\n",
       "      <td>NaN</td>\n",
       "    </tr>\n",
       "    <tr>\n",
       "      <td>2019-11-01</td>\n",
       "      <td>15455</td>\n",
       "      <td>7209</td>\n",
       "      <td>7222</td>\n",
       "      <td>NaN</td>\n",
       "    </tr>\n",
       "    <tr>\n",
       "      <td>2019-12-01</td>\n",
       "      <td>20349</td>\n",
       "      <td>7265</td>\n",
       "      <td>6902</td>\n",
       "      <td>NaN</td>\n",
       "    </tr>\n",
       "    <tr>\n",
       "      <td>2020-01-01</td>\n",
       "      <td>NaN</td>\n",
       "      <td>NaN</td>\n",
       "      <td>NaN</td>\n",
       "      <td>NaN</td>\n",
       "    </tr>\n",
       "    <tr>\n",
       "      <td>2020-02-01</td>\n",
       "      <td>16285</td>\n",
       "      <td>7757</td>\n",
       "      <td>6670</td>\n",
       "      <td>NaN</td>\n",
       "    </tr>\n",
       "    <tr>\n",
       "      <td>2020-03-01</td>\n",
       "      <td>19403</td>\n",
       "      <td>6400</td>\n",
       "      <td>7266</td>\n",
       "      <td>NaN</td>\n",
       "    </tr>\n",
       "    <tr>\n",
       "      <td>2020-04-01</td>\n",
       "      <td>19159</td>\n",
       "      <td>5557</td>\n",
       "      <td>7015</td>\n",
       "      <td>NaN</td>\n",
       "    </tr>\n",
       "    <tr>\n",
       "      <td>2020-05-01</td>\n",
       "      <td>19428</td>\n",
       "      <td>6083</td>\n",
       "      <td>7767</td>\n",
       "      <td>NaN</td>\n",
       "    </tr>\n",
       "    <tr>\n",
       "      <td>2020-06-01</td>\n",
       "      <td>24903</td>\n",
       "      <td>6555</td>\n",
       "      <td>8874</td>\n",
       "      <td>NaN</td>\n",
       "    </tr>\n",
       "    <tr>\n",
       "      <td>2020-07-01</td>\n",
       "      <td>18512</td>\n",
       "      <td>6862</td>\n",
       "      <td>9147</td>\n",
       "      <td>NaN</td>\n",
       "    </tr>\n",
       "    <tr>\n",
       "      <td>2020-08-01</td>\n",
       "      <td>15330</td>\n",
       "      <td>7492</td>\n",
       "      <td>9085</td>\n",
       "      <td>NaN</td>\n",
       "    </tr>\n",
       "    <tr>\n",
       "      <td>2020-09-01</td>\n",
       "      <td>17141</td>\n",
       "      <td>7992</td>\n",
       "      <td>9358</td>\n",
       "      <td>NaN</td>\n",
       "    </tr>\n",
       "    <tr>\n",
       "      <td>2020-10-01</td>\n",
       "      <td>14489</td>\n",
       "      <td>8406</td>\n",
       "      <td>8796</td>\n",
       "      <td>NaN</td>\n",
       "    </tr>\n",
       "    <tr>\n",
       "      <td>2020-11-01</td>\n",
       "      <td>17716</td>\n",
       "      <td>8566</td>\n",
       "      <td>8989</td>\n",
       "      <td>NaN</td>\n",
       "    </tr>\n",
       "    <tr>\n",
       "      <td>2020-12-01</td>\n",
       "      <td>21525</td>\n",
       "      <td>8064</td>\n",
       "      <td>7964</td>\n",
       "      <td>NaN</td>\n",
       "    </tr>\n",
       "    <tr>\n",
       "      <td>2021-01-01</td>\n",
       "      <td>NaN</td>\n",
       "      <td>NaN</td>\n",
       "      <td>NaN</td>\n",
       "      <td>NaN</td>\n",
       "    </tr>\n",
       "    <tr>\n",
       "      <td>2021-02-01</td>\n",
       "      <td>29404</td>\n",
       "      <td>13135</td>\n",
       "      <td>12107</td>\n",
       "      <td>NaN</td>\n",
       "    </tr>\n",
       "    <tr>\n",
       "      <td>2021-03-01</td>\n",
       "      <td>25916</td>\n",
       "      <td>8312</td>\n",
       "      <td>9466</td>\n",
       "      <td>NaN</td>\n",
       "    </tr>\n",
       "    <tr>\n",
       "      <td>2021-04-01</td>\n",
       "      <td>24210</td>\n",
       "      <td>7720</td>\n",
       "      <td>7729</td>\n",
       "      <td>NaN</td>\n",
       "    </tr>\n",
       "    <tr>\n",
       "      <td>2021-05-01</td>\n",
       "      <td>22058</td>\n",
       "      <td>7032</td>\n",
       "      <td>7487</td>\n",
       "      <td>NaN</td>\n",
       "    </tr>\n",
       "    <tr>\n",
       "      <td>2021-06-01</td>\n",
       "      <td>21670</td>\n",
       "      <td>6640</td>\n",
       "      <td>7425</td>\n",
       "      <td>NaN</td>\n",
       "    </tr>\n",
       "    <tr>\n",
       "      <td>2021-07-01</td>\n",
       "      <td>18018</td>\n",
       "      <td>6238</td>\n",
       "      <td>7410</td>\n",
       "      <td>NaN</td>\n",
       "    </tr>\n",
       "    <tr>\n",
       "      <td>2021-08-01</td>\n",
       "      <td>14912</td>\n",
       "      <td>6738</td>\n",
       "      <td>7364</td>\n",
       "      <td>NaN</td>\n",
       "    </tr>\n",
       "    <tr>\n",
       "      <td>2021-09-01</td>\n",
       "      <td>15081</td>\n",
       "      <td>6995</td>\n",
       "      <td>7638</td>\n",
       "      <td>NaN</td>\n",
       "    </tr>\n",
       "    <tr>\n",
       "      <td>2021-10-01</td>\n",
       "      <td>14549</td>\n",
       "      <td>7668</td>\n",
       "      <td>7636</td>\n",
       "      <td>NaN</td>\n",
       "    </tr>\n",
       "    <tr>\n",
       "      <td>2021-11-01</td>\n",
       "      <td>16628</td>\n",
       "      <td>8438</td>\n",
       "      <td>8085</td>\n",
       "      <td>NaN</td>\n",
       "    </tr>\n",
       "    <tr>\n",
       "      <td>2021-12-01</td>\n",
       "      <td>19635</td>\n",
       "      <td>7856</td>\n",
       "      <td>7578</td>\n",
       "      <td>NaN</td>\n",
       "    </tr>\n",
       "    <tr>\n",
       "      <td>2022-01-01</td>\n",
       "      <td>NaN</td>\n",
       "      <td>NaN</td>\n",
       "      <td>NaN</td>\n",
       "      <td>NaN</td>\n",
       "    </tr>\n",
       "  </tbody>\n",
       "</table>\n",
       "</div>"
      ],
      "text/plain": [
       "           AIR_New WM_New RF_New data\n",
       "2019-08-01   14332   6782   7017  NaN\n",
       "2019-09-01   17839   7205   7367  NaN\n",
       "2019-10-01   13322   7615   7046  NaN\n",
       "2019-11-01   15455   7209   7222  NaN\n",
       "2019-12-01   20349   7265   6902  NaN\n",
       "2020-01-01     NaN    NaN    NaN  NaN\n",
       "2020-02-01   16285   7757   6670  NaN\n",
       "2020-03-01   19403   6400   7266  NaN\n",
       "2020-04-01   19159   5557   7015  NaN\n",
       "2020-05-01   19428   6083   7767  NaN\n",
       "2020-06-01   24903   6555   8874  NaN\n",
       "2020-07-01   18512   6862   9147  NaN\n",
       "2020-08-01   15330   7492   9085  NaN\n",
       "2020-09-01   17141   7992   9358  NaN\n",
       "2020-10-01   14489   8406   8796  NaN\n",
       "2020-11-01   17716   8566   8989  NaN\n",
       "2020-12-01   21525   8064   7964  NaN\n",
       "2021-01-01     NaN    NaN    NaN  NaN\n",
       "2021-02-01   29404  13135  12107  NaN\n",
       "2021-03-01   25916   8312   9466  NaN\n",
       "2021-04-01   24210   7720   7729  NaN\n",
       "2021-05-01   22058   7032   7487  NaN\n",
       "2021-06-01   21670   6640   7425  NaN\n",
       "2021-07-01   18018   6238   7410  NaN\n",
       "2021-08-01   14912   6738   7364  NaN\n",
       "2021-09-01   15081   6995   7638  NaN\n",
       "2021-10-01   14549   7668   7636  NaN\n",
       "2021-11-01   16628   8438   8085  NaN\n",
       "2021-12-01   19635   7856   7578  NaN\n",
       "2022-01-01     NaN    NaN    NaN  NaN"
      ]
     },
     "execution_count": 10,
     "metadata": {},
     "output_type": "execute_result"
    }
   ],
   "source": [
    "new_data = pd.concat([df_ha, empty], axis = 1, sort = False)\n",
    "new_data.tail(30)"
   ]
  },
  {
   "cell_type": "code",
   "execution_count": 11,
   "metadata": {},
   "outputs": [
    {
     "name": "stderr",
     "output_type": "stream",
     "text": [
      "C:\\Users\\pc\\Anaconda3\\lib\\site-packages\\pandas\\core\\frame.py:7123: FutureWarning: Sorting because non-concatenation axis is not aligned. A future version\n",
      "of pandas will change to not sort by default.\n",
      "\n",
      "To accept the future behavior, pass 'sort=False'.\n",
      "\n",
      "To retain the current behavior and silence the warning, pass 'sort=True'.\n",
      "\n",
      "  sort=sort,\n"
     ]
    }
   ],
   "source": [
    "new_data = df_ha.append(empty).sort_index()\n",
    "\n",
    "for year in range(2016,2022):\n",
    "    tmp = new_data.copy().loc[str(year)]\n",
    "    jan_idx = tmp[:2].index[0]\n",
    "    jan_val= (tmp[:2].values[-1]*31) / (31+28)\n",
    "    tmp.loc[jan_idx] = jan_val\n",
    "    \n",
    "    feb_idx = tmp[:2].index[-1]\n",
    "    feb_val = (tmp[:2].values[-1]*28) / (31+28)\n",
    "    tmp.loc[feb_idx] = feb_val\n",
    "    \n",
    "    if \"new_tmp\" not in locals(): new_tmp = tmp\n",
    "    else: new_tmp = new_tmp.append(tmp)"
   ]
  },
  {
   "cell_type": "code",
   "execution_count": 12,
   "metadata": {},
   "outputs": [
    {
     "data": {
      "application/vnd.plotly.v1+json": {
       "config": {
        "plotlyServerURL": "https://plot.ly"
       },
       "data": [
        {
         "hovertemplate": "index=%{x}<br>AIR_New=%{y}<extra></extra>",
         "legendgroup": "",
         "line": {
          "color": "#636efa",
          "dash": "solid"
         },
         "marker": {
          "symbol": "circle"
         },
         "mode": "lines",
         "name": "",
         "orientation": "v",
         "showlegend": false,
         "type": "scatter",
         "x": [
          "2016-01-01T00:00:00",
          "2016-02-01T00:00:00",
          "2016-03-01T00:00:00",
          "2016-04-01T00:00:00",
          "2016-05-01T00:00:00",
          "2016-06-01T00:00:00",
          "2016-07-01T00:00:00",
          "2016-08-01T00:00:00",
          "2016-09-01T00:00:00",
          "2016-10-01T00:00:00",
          "2016-11-01T00:00:00",
          "2016-12-01T00:00:00",
          "2017-01-01T00:00:00",
          "2017-02-01T00:00:00",
          "2017-03-01T00:00:00",
          "2017-04-01T00:00:00",
          "2017-05-01T00:00:00",
          "2017-06-01T00:00:00",
          "2017-07-01T00:00:00",
          "2017-08-01T00:00:00",
          "2017-09-01T00:00:00",
          "2017-10-01T00:00:00",
          "2017-11-01T00:00:00",
          "2017-12-01T00:00:00",
          "2018-01-01T00:00:00",
          "2018-02-01T00:00:00",
          "2018-03-01T00:00:00",
          "2018-04-01T00:00:00",
          "2018-05-01T00:00:00",
          "2018-06-01T00:00:00",
          "2018-07-01T00:00:00",
          "2018-08-01T00:00:00",
          "2018-09-01T00:00:00",
          "2018-10-01T00:00:00",
          "2018-11-01T00:00:00",
          "2018-12-01T00:00:00",
          "2019-01-01T00:00:00",
          "2019-02-01T00:00:00",
          "2019-03-01T00:00:00",
          "2019-04-01T00:00:00",
          "2019-05-01T00:00:00",
          "2019-06-01T00:00:00",
          "2019-07-01T00:00:00",
          "2019-08-01T00:00:00",
          "2019-09-01T00:00:00",
          "2019-10-01T00:00:00",
          "2019-11-01T00:00:00",
          "2019-12-01T00:00:00",
          "2020-01-01T00:00:00",
          "2020-02-01T00:00:00",
          "2020-03-01T00:00:00",
          "2020-04-01T00:00:00",
          "2020-05-01T00:00:00",
          "2020-06-01T00:00:00",
          "2020-07-01T00:00:00",
          "2020-08-01T00:00:00",
          "2020-09-01T00:00:00",
          "2020-10-01T00:00:00",
          "2020-11-01T00:00:00",
          "2020-12-01T00:00:00",
          "2021-01-01T00:00:00",
          "2021-02-01T00:00:00",
          "2021-03-01T00:00:00",
          "2021-04-01T00:00:00",
          "2021-05-01T00:00:00",
          "2021-06-01T00:00:00",
          "2021-07-01T00:00:00",
          "2021-08-01T00:00:00",
          "2021-09-01T00:00:00",
          "2021-10-01T00:00:00",
          "2021-11-01T00:00:00",
          "2021-12-01T00:00:00"
         ],
         "xaxis": "x",
         "y": [
          11056.49152542373,
          9986.50847457627,
          16391,
          15829,
          14323,
          16569,
          13265,
          12061,
          12351,
          11613,
          11950,
          14622,
          12879.186440677966,
          11632.813559322034,
          18875,
          19502,
          18706,
          19175,
          16654,
          14628,
          15254,
          13473,
          14601,
          15742,
          14723.949152542373,
          13299.050847457627,
          20190,
          21432,
          21344,
          20798,
          17188,
          14753,
          16083,
          13568,
          15198,
          18320,
          14651.440677966102,
          13233.559322033898,
          24069,
          23636,
          21912,
          21331,
          16861,
          14332,
          17839,
          13322,
          15455,
          20349,
          8556.525423728814,
          7728.474576271186,
          19403,
          19159,
          19428,
          24903,
          18512,
          15330,
          17141,
          14489,
          17716,
          21525,
          15449.559322033898,
          13954.440677966102,
          25916,
          24210,
          22058,
          21670,
          18018,
          14912,
          15081,
          14549,
          16628,
          19635
         ],
         "yaxis": "y"
        }
       ],
       "layout": {
        "legend": {
         "tracegroupgap": 0
        },
        "margin": {
         "t": 60
        },
        "template": {
         "data": {
          "bar": [
           {
            "error_x": {
             "color": "#2a3f5f"
            },
            "error_y": {
             "color": "#2a3f5f"
            },
            "marker": {
             "line": {
              "color": "#E5ECF6",
              "width": 0.5
             },
             "pattern": {
              "fillmode": "overlay",
              "size": 10,
              "solidity": 0.2
             }
            },
            "type": "bar"
           }
          ],
          "barpolar": [
           {
            "marker": {
             "line": {
              "color": "#E5ECF6",
              "width": 0.5
             },
             "pattern": {
              "fillmode": "overlay",
              "size": 10,
              "solidity": 0.2
             }
            },
            "type": "barpolar"
           }
          ],
          "carpet": [
           {
            "aaxis": {
             "endlinecolor": "#2a3f5f",
             "gridcolor": "white",
             "linecolor": "white",
             "minorgridcolor": "white",
             "startlinecolor": "#2a3f5f"
            },
            "baxis": {
             "endlinecolor": "#2a3f5f",
             "gridcolor": "white",
             "linecolor": "white",
             "minorgridcolor": "white",
             "startlinecolor": "#2a3f5f"
            },
            "type": "carpet"
           }
          ],
          "choropleth": [
           {
            "colorbar": {
             "outlinewidth": 0,
             "ticks": ""
            },
            "type": "choropleth"
           }
          ],
          "contour": [
           {
            "colorbar": {
             "outlinewidth": 0,
             "ticks": ""
            },
            "colorscale": [
             [
              0,
              "#0d0887"
             ],
             [
              0.1111111111111111,
              "#46039f"
             ],
             [
              0.2222222222222222,
              "#7201a8"
             ],
             [
              0.3333333333333333,
              "#9c179e"
             ],
             [
              0.4444444444444444,
              "#bd3786"
             ],
             [
              0.5555555555555556,
              "#d8576b"
             ],
             [
              0.6666666666666666,
              "#ed7953"
             ],
             [
              0.7777777777777778,
              "#fb9f3a"
             ],
             [
              0.8888888888888888,
              "#fdca26"
             ],
             [
              1,
              "#f0f921"
             ]
            ],
            "type": "contour"
           }
          ],
          "contourcarpet": [
           {
            "colorbar": {
             "outlinewidth": 0,
             "ticks": ""
            },
            "type": "contourcarpet"
           }
          ],
          "heatmap": [
           {
            "colorbar": {
             "outlinewidth": 0,
             "ticks": ""
            },
            "colorscale": [
             [
              0,
              "#0d0887"
             ],
             [
              0.1111111111111111,
              "#46039f"
             ],
             [
              0.2222222222222222,
              "#7201a8"
             ],
             [
              0.3333333333333333,
              "#9c179e"
             ],
             [
              0.4444444444444444,
              "#bd3786"
             ],
             [
              0.5555555555555556,
              "#d8576b"
             ],
             [
              0.6666666666666666,
              "#ed7953"
             ],
             [
              0.7777777777777778,
              "#fb9f3a"
             ],
             [
              0.8888888888888888,
              "#fdca26"
             ],
             [
              1,
              "#f0f921"
             ]
            ],
            "type": "heatmap"
           }
          ],
          "heatmapgl": [
           {
            "colorbar": {
             "outlinewidth": 0,
             "ticks": ""
            },
            "colorscale": [
             [
              0,
              "#0d0887"
             ],
             [
              0.1111111111111111,
              "#46039f"
             ],
             [
              0.2222222222222222,
              "#7201a8"
             ],
             [
              0.3333333333333333,
              "#9c179e"
             ],
             [
              0.4444444444444444,
              "#bd3786"
             ],
             [
              0.5555555555555556,
              "#d8576b"
             ],
             [
              0.6666666666666666,
              "#ed7953"
             ],
             [
              0.7777777777777778,
              "#fb9f3a"
             ],
             [
              0.8888888888888888,
              "#fdca26"
             ],
             [
              1,
              "#f0f921"
             ]
            ],
            "type": "heatmapgl"
           }
          ],
          "histogram": [
           {
            "marker": {
             "pattern": {
              "fillmode": "overlay",
              "size": 10,
              "solidity": 0.2
             }
            },
            "type": "histogram"
           }
          ],
          "histogram2d": [
           {
            "colorbar": {
             "outlinewidth": 0,
             "ticks": ""
            },
            "colorscale": [
             [
              0,
              "#0d0887"
             ],
             [
              0.1111111111111111,
              "#46039f"
             ],
             [
              0.2222222222222222,
              "#7201a8"
             ],
             [
              0.3333333333333333,
              "#9c179e"
             ],
             [
              0.4444444444444444,
              "#bd3786"
             ],
             [
              0.5555555555555556,
              "#d8576b"
             ],
             [
              0.6666666666666666,
              "#ed7953"
             ],
             [
              0.7777777777777778,
              "#fb9f3a"
             ],
             [
              0.8888888888888888,
              "#fdca26"
             ],
             [
              1,
              "#f0f921"
             ]
            ],
            "type": "histogram2d"
           }
          ],
          "histogram2dcontour": [
           {
            "colorbar": {
             "outlinewidth": 0,
             "ticks": ""
            },
            "colorscale": [
             [
              0,
              "#0d0887"
             ],
             [
              0.1111111111111111,
              "#46039f"
             ],
             [
              0.2222222222222222,
              "#7201a8"
             ],
             [
              0.3333333333333333,
              "#9c179e"
             ],
             [
              0.4444444444444444,
              "#bd3786"
             ],
             [
              0.5555555555555556,
              "#d8576b"
             ],
             [
              0.6666666666666666,
              "#ed7953"
             ],
             [
              0.7777777777777778,
              "#fb9f3a"
             ],
             [
              0.8888888888888888,
              "#fdca26"
             ],
             [
              1,
              "#f0f921"
             ]
            ],
            "type": "histogram2dcontour"
           }
          ],
          "mesh3d": [
           {
            "colorbar": {
             "outlinewidth": 0,
             "ticks": ""
            },
            "type": "mesh3d"
           }
          ],
          "parcoords": [
           {
            "line": {
             "colorbar": {
              "outlinewidth": 0,
              "ticks": ""
             }
            },
            "type": "parcoords"
           }
          ],
          "pie": [
           {
            "automargin": true,
            "type": "pie"
           }
          ],
          "scatter": [
           {
            "marker": {
             "colorbar": {
              "outlinewidth": 0,
              "ticks": ""
             }
            },
            "type": "scatter"
           }
          ],
          "scatter3d": [
           {
            "line": {
             "colorbar": {
              "outlinewidth": 0,
              "ticks": ""
             }
            },
            "marker": {
             "colorbar": {
              "outlinewidth": 0,
              "ticks": ""
             }
            },
            "type": "scatter3d"
           }
          ],
          "scattercarpet": [
           {
            "marker": {
             "colorbar": {
              "outlinewidth": 0,
              "ticks": ""
             }
            },
            "type": "scattercarpet"
           }
          ],
          "scattergeo": [
           {
            "marker": {
             "colorbar": {
              "outlinewidth": 0,
              "ticks": ""
             }
            },
            "type": "scattergeo"
           }
          ],
          "scattergl": [
           {
            "marker": {
             "colorbar": {
              "outlinewidth": 0,
              "ticks": ""
             }
            },
            "type": "scattergl"
           }
          ],
          "scattermapbox": [
           {
            "marker": {
             "colorbar": {
              "outlinewidth": 0,
              "ticks": ""
             }
            },
            "type": "scattermapbox"
           }
          ],
          "scatterpolar": [
           {
            "marker": {
             "colorbar": {
              "outlinewidth": 0,
              "ticks": ""
             }
            },
            "type": "scatterpolar"
           }
          ],
          "scatterpolargl": [
           {
            "marker": {
             "colorbar": {
              "outlinewidth": 0,
              "ticks": ""
             }
            },
            "type": "scatterpolargl"
           }
          ],
          "scatterternary": [
           {
            "marker": {
             "colorbar": {
              "outlinewidth": 0,
              "ticks": ""
             }
            },
            "type": "scatterternary"
           }
          ],
          "surface": [
           {
            "colorbar": {
             "outlinewidth": 0,
             "ticks": ""
            },
            "colorscale": [
             [
              0,
              "#0d0887"
             ],
             [
              0.1111111111111111,
              "#46039f"
             ],
             [
              0.2222222222222222,
              "#7201a8"
             ],
             [
              0.3333333333333333,
              "#9c179e"
             ],
             [
              0.4444444444444444,
              "#bd3786"
             ],
             [
              0.5555555555555556,
              "#d8576b"
             ],
             [
              0.6666666666666666,
              "#ed7953"
             ],
             [
              0.7777777777777778,
              "#fb9f3a"
             ],
             [
              0.8888888888888888,
              "#fdca26"
             ],
             [
              1,
              "#f0f921"
             ]
            ],
            "type": "surface"
           }
          ],
          "table": [
           {
            "cells": {
             "fill": {
              "color": "#EBF0F8"
             },
             "line": {
              "color": "white"
             }
            },
            "header": {
             "fill": {
              "color": "#C8D4E3"
             },
             "line": {
              "color": "white"
             }
            },
            "type": "table"
           }
          ]
         },
         "layout": {
          "annotationdefaults": {
           "arrowcolor": "#2a3f5f",
           "arrowhead": 0,
           "arrowwidth": 1
          },
          "autotypenumbers": "strict",
          "coloraxis": {
           "colorbar": {
            "outlinewidth": 0,
            "ticks": ""
           }
          },
          "colorscale": {
           "diverging": [
            [
             0,
             "#8e0152"
            ],
            [
             0.1,
             "#c51b7d"
            ],
            [
             0.2,
             "#de77ae"
            ],
            [
             0.3,
             "#f1b6da"
            ],
            [
             0.4,
             "#fde0ef"
            ],
            [
             0.5,
             "#f7f7f7"
            ],
            [
             0.6,
             "#e6f5d0"
            ],
            [
             0.7,
             "#b8e186"
            ],
            [
             0.8,
             "#7fbc41"
            ],
            [
             0.9,
             "#4d9221"
            ],
            [
             1,
             "#276419"
            ]
           ],
           "sequential": [
            [
             0,
             "#0d0887"
            ],
            [
             0.1111111111111111,
             "#46039f"
            ],
            [
             0.2222222222222222,
             "#7201a8"
            ],
            [
             0.3333333333333333,
             "#9c179e"
            ],
            [
             0.4444444444444444,
             "#bd3786"
            ],
            [
             0.5555555555555556,
             "#d8576b"
            ],
            [
             0.6666666666666666,
             "#ed7953"
            ],
            [
             0.7777777777777778,
             "#fb9f3a"
            ],
            [
             0.8888888888888888,
             "#fdca26"
            ],
            [
             1,
             "#f0f921"
            ]
           ],
           "sequentialminus": [
            [
             0,
             "#0d0887"
            ],
            [
             0.1111111111111111,
             "#46039f"
            ],
            [
             0.2222222222222222,
             "#7201a8"
            ],
            [
             0.3333333333333333,
             "#9c179e"
            ],
            [
             0.4444444444444444,
             "#bd3786"
            ],
            [
             0.5555555555555556,
             "#d8576b"
            ],
            [
             0.6666666666666666,
             "#ed7953"
            ],
            [
             0.7777777777777778,
             "#fb9f3a"
            ],
            [
             0.8888888888888888,
             "#fdca26"
            ],
            [
             1,
             "#f0f921"
            ]
           ]
          },
          "colorway": [
           "#636efa",
           "#EF553B",
           "#00cc96",
           "#ab63fa",
           "#FFA15A",
           "#19d3f3",
           "#FF6692",
           "#B6E880",
           "#FF97FF",
           "#FECB52"
          ],
          "font": {
           "color": "#2a3f5f"
          },
          "geo": {
           "bgcolor": "white",
           "lakecolor": "white",
           "landcolor": "#E5ECF6",
           "showlakes": true,
           "showland": true,
           "subunitcolor": "white"
          },
          "hoverlabel": {
           "align": "left"
          },
          "hovermode": "closest",
          "mapbox": {
           "style": "light"
          },
          "paper_bgcolor": "white",
          "plot_bgcolor": "#E5ECF6",
          "polar": {
           "angularaxis": {
            "gridcolor": "white",
            "linecolor": "white",
            "ticks": ""
           },
           "bgcolor": "#E5ECF6",
           "radialaxis": {
            "gridcolor": "white",
            "linecolor": "white",
            "ticks": ""
           }
          },
          "scene": {
           "xaxis": {
            "backgroundcolor": "#E5ECF6",
            "gridcolor": "white",
            "gridwidth": 2,
            "linecolor": "white",
            "showbackground": true,
            "ticks": "",
            "zerolinecolor": "white"
           },
           "yaxis": {
            "backgroundcolor": "#E5ECF6",
            "gridcolor": "white",
            "gridwidth": 2,
            "linecolor": "white",
            "showbackground": true,
            "ticks": "",
            "zerolinecolor": "white"
           },
           "zaxis": {
            "backgroundcolor": "#E5ECF6",
            "gridcolor": "white",
            "gridwidth": 2,
            "linecolor": "white",
            "showbackground": true,
            "ticks": "",
            "zerolinecolor": "white"
           }
          },
          "shapedefaults": {
           "line": {
            "color": "#2a3f5f"
           }
          },
          "ternary": {
           "aaxis": {
            "gridcolor": "white",
            "linecolor": "white",
            "ticks": ""
           },
           "baxis": {
            "gridcolor": "white",
            "linecolor": "white",
            "ticks": ""
           },
           "bgcolor": "#E5ECF6",
           "caxis": {
            "gridcolor": "white",
            "linecolor": "white",
            "ticks": ""
           }
          },
          "title": {
           "x": 0.05
          },
          "xaxis": {
           "automargin": true,
           "gridcolor": "white",
           "linecolor": "white",
           "ticks": "",
           "title": {
            "standoff": 15
           },
           "zerolinecolor": "white",
           "zerolinewidth": 2
          },
          "yaxis": {
           "automargin": true,
           "gridcolor": "white",
           "linecolor": "white",
           "ticks": "",
           "title": {
            "standoff": 15
           },
           "zerolinecolor": "white",
           "zerolinewidth": 2
          }
         }
        },
        "title": {
         "text": "Production of Air Conditioner in China"
        },
        "xaxis": {
         "anchor": "y",
         "domain": [
          0,
          1
         ],
         "title": {
          "text": "Date"
         }
        },
        "yaxis": {
         "anchor": "x",
         "domain": [
          0,
          1
         ],
         "title": {
          "text": "Unit (thousand)"
         }
        }
       }
      }
     },
     "metadata": {},
     "output_type": "display_data"
    }
   ],
   "source": [
    "fig = px.line(new_tmp, y = 'AIR_New')\n",
    "fig.update_layout(title='Production of Air Conditioner in China',\n",
    "                   xaxis_title='Date',\n",
    "                   yaxis_title='Unit (thousand)')\n",
    "fig.show()"
   ]
  },
  {
   "cell_type": "code",
   "execution_count": 13,
   "metadata": {},
   "outputs": [
    {
     "data": {
      "text/html": [
       "<div>\n",
       "<style scoped>\n",
       "    .dataframe tbody tr th:only-of-type {\n",
       "        vertical-align: middle;\n",
       "    }\n",
       "\n",
       "    .dataframe tbody tr th {\n",
       "        vertical-align: top;\n",
       "    }\n",
       "\n",
       "    .dataframe thead th {\n",
       "        text-align: right;\n",
       "    }\n",
       "</style>\n",
       "<table border=\"1\" class=\"dataframe\">\n",
       "  <thead>\n",
       "    <tr style=\"text-align: right;\">\n",
       "      <th></th>\n",
       "      <th>AIR_New</th>\n",
       "      <th>RF_New</th>\n",
       "      <th>WM_New</th>\n",
       "      <th>data</th>\n",
       "    </tr>\n",
       "    <tr>\n",
       "      <th>DATE</th>\n",
       "      <th></th>\n",
       "      <th></th>\n",
       "      <th></th>\n",
       "      <th></th>\n",
       "    </tr>\n",
       "  </thead>\n",
       "  <tbody>\n",
       "    <tr>\n",
       "      <td>2016-01-01</td>\n",
       "      <td>11056.5</td>\n",
       "      <td>6224.69</td>\n",
       "      <td>5882.12</td>\n",
       "      <td>NaN</td>\n",
       "    </tr>\n",
       "    <tr>\n",
       "      <td>2016-02-01</td>\n",
       "      <td>9986.51</td>\n",
       "      <td>5622.31</td>\n",
       "      <td>5312.88</td>\n",
       "      <td>NaN</td>\n",
       "    </tr>\n",
       "    <tr>\n",
       "      <td>2016-03-01</td>\n",
       "      <td>16391</td>\n",
       "      <td>8671</td>\n",
       "      <td>7270</td>\n",
       "      <td>NaN</td>\n",
       "    </tr>\n",
       "    <tr>\n",
       "      <td>2016-04-01</td>\n",
       "      <td>15829</td>\n",
       "      <td>8733</td>\n",
       "      <td>6071</td>\n",
       "      <td>NaN</td>\n",
       "    </tr>\n",
       "    <tr>\n",
       "      <td>2016-05-01</td>\n",
       "      <td>14323</td>\n",
       "      <td>8552</td>\n",
       "      <td>5854</td>\n",
       "      <td>NaN</td>\n",
       "    </tr>\n",
       "    <tr>\n",
       "      <td>...</td>\n",
       "      <td>...</td>\n",
       "      <td>...</td>\n",
       "      <td>...</td>\n",
       "      <td>...</td>\n",
       "    </tr>\n",
       "    <tr>\n",
       "      <td>2021-08-01</td>\n",
       "      <td>14912</td>\n",
       "      <td>7364</td>\n",
       "      <td>6738</td>\n",
       "      <td>NaN</td>\n",
       "    </tr>\n",
       "    <tr>\n",
       "      <td>2021-09-01</td>\n",
       "      <td>15081</td>\n",
       "      <td>7638</td>\n",
       "      <td>6995</td>\n",
       "      <td>NaN</td>\n",
       "    </tr>\n",
       "    <tr>\n",
       "      <td>2021-10-01</td>\n",
       "      <td>14549</td>\n",
       "      <td>7636</td>\n",
       "      <td>7668</td>\n",
       "      <td>NaN</td>\n",
       "    </tr>\n",
       "    <tr>\n",
       "      <td>2021-11-01</td>\n",
       "      <td>16628</td>\n",
       "      <td>8085</td>\n",
       "      <td>8438</td>\n",
       "      <td>NaN</td>\n",
       "    </tr>\n",
       "    <tr>\n",
       "      <td>2021-12-01</td>\n",
       "      <td>19635</td>\n",
       "      <td>7578</td>\n",
       "      <td>7856</td>\n",
       "      <td>NaN</td>\n",
       "    </tr>\n",
       "  </tbody>\n",
       "</table>\n",
       "<p>72 rows × 4 columns</p>\n",
       "</div>"
      ],
      "text/plain": [
       "            AIR_New   RF_New   WM_New data\n",
       "DATE                                      \n",
       "2016-01-01  11056.5  6224.69  5882.12  NaN\n",
       "2016-02-01  9986.51  5622.31  5312.88  NaN\n",
       "2016-03-01    16391     8671     7270  NaN\n",
       "2016-04-01    15829     8733     6071  NaN\n",
       "2016-05-01    14323     8552     5854  NaN\n",
       "...             ...      ...      ...  ...\n",
       "2021-08-01    14912     7364     6738  NaN\n",
       "2021-09-01    15081     7638     6995  NaN\n",
       "2021-10-01    14549     7636     7668  NaN\n",
       "2021-11-01    16628     8085     8438  NaN\n",
       "2021-12-01    19635     7578     7856  NaN\n",
       "\n",
       "[72 rows x 4 columns]"
      ]
     },
     "execution_count": 13,
     "metadata": {},
     "output_type": "execute_result"
    }
   ],
   "source": [
    "new_tmp.index.name = \"DATE\"\n",
    "new_tmp"
   ]
  },
  {
   "cell_type": "code",
   "execution_count": 14,
   "metadata": {},
   "outputs": [
    {
     "data": {
      "text/html": [
       "<div>\n",
       "<style scoped>\n",
       "    .dataframe tbody tr th:only-of-type {\n",
       "        vertical-align: middle;\n",
       "    }\n",
       "\n",
       "    .dataframe tbody tr th {\n",
       "        vertical-align: top;\n",
       "    }\n",
       "\n",
       "    .dataframe thead th {\n",
       "        text-align: right;\n",
       "    }\n",
       "</style>\n",
       "<table border=\"1\" class=\"dataframe\">\n",
       "  <thead>\n",
       "    <tr style=\"text-align: right;\">\n",
       "      <th></th>\n",
       "      <th>DATE</th>\n",
       "      <th>AIR_New</th>\n",
       "      <th>RF_New</th>\n",
       "      <th>WM_New</th>\n",
       "      <th>data</th>\n",
       "    </tr>\n",
       "  </thead>\n",
       "  <tbody>\n",
       "    <tr>\n",
       "      <td>0</td>\n",
       "      <td>2016-01-01</td>\n",
       "      <td>11056.5</td>\n",
       "      <td>6224.69</td>\n",
       "      <td>5882.12</td>\n",
       "      <td>NaN</td>\n",
       "    </tr>\n",
       "    <tr>\n",
       "      <td>1</td>\n",
       "      <td>2016-02-01</td>\n",
       "      <td>9986.51</td>\n",
       "      <td>5622.31</td>\n",
       "      <td>5312.88</td>\n",
       "      <td>NaN</td>\n",
       "    </tr>\n",
       "    <tr>\n",
       "      <td>2</td>\n",
       "      <td>2016-03-01</td>\n",
       "      <td>16391</td>\n",
       "      <td>8671</td>\n",
       "      <td>7270</td>\n",
       "      <td>NaN</td>\n",
       "    </tr>\n",
       "    <tr>\n",
       "      <td>3</td>\n",
       "      <td>2016-04-01</td>\n",
       "      <td>15829</td>\n",
       "      <td>8733</td>\n",
       "      <td>6071</td>\n",
       "      <td>NaN</td>\n",
       "    </tr>\n",
       "    <tr>\n",
       "      <td>4</td>\n",
       "      <td>2016-05-01</td>\n",
       "      <td>14323</td>\n",
       "      <td>8552</td>\n",
       "      <td>5854</td>\n",
       "      <td>NaN</td>\n",
       "    </tr>\n",
       "    <tr>\n",
       "      <td>...</td>\n",
       "      <td>...</td>\n",
       "      <td>...</td>\n",
       "      <td>...</td>\n",
       "      <td>...</td>\n",
       "      <td>...</td>\n",
       "    </tr>\n",
       "    <tr>\n",
       "      <td>67</td>\n",
       "      <td>2021-08-01</td>\n",
       "      <td>14912</td>\n",
       "      <td>7364</td>\n",
       "      <td>6738</td>\n",
       "      <td>NaN</td>\n",
       "    </tr>\n",
       "    <tr>\n",
       "      <td>68</td>\n",
       "      <td>2021-09-01</td>\n",
       "      <td>15081</td>\n",
       "      <td>7638</td>\n",
       "      <td>6995</td>\n",
       "      <td>NaN</td>\n",
       "    </tr>\n",
       "    <tr>\n",
       "      <td>69</td>\n",
       "      <td>2021-10-01</td>\n",
       "      <td>14549</td>\n",
       "      <td>7636</td>\n",
       "      <td>7668</td>\n",
       "      <td>NaN</td>\n",
       "    </tr>\n",
       "    <tr>\n",
       "      <td>70</td>\n",
       "      <td>2021-11-01</td>\n",
       "      <td>16628</td>\n",
       "      <td>8085</td>\n",
       "      <td>8438</td>\n",
       "      <td>NaN</td>\n",
       "    </tr>\n",
       "    <tr>\n",
       "      <td>71</td>\n",
       "      <td>2021-12-01</td>\n",
       "      <td>19635</td>\n",
       "      <td>7578</td>\n",
       "      <td>7856</td>\n",
       "      <td>NaN</td>\n",
       "    </tr>\n",
       "  </tbody>\n",
       "</table>\n",
       "<p>72 rows × 5 columns</p>\n",
       "</div>"
      ],
      "text/plain": [
       "         DATE  AIR_New   RF_New   WM_New data\n",
       "0  2016-01-01  11056.5  6224.69  5882.12  NaN\n",
       "1  2016-02-01  9986.51  5622.31  5312.88  NaN\n",
       "2  2016-03-01    16391     8671     7270  NaN\n",
       "3  2016-04-01    15829     8733     6071  NaN\n",
       "4  2016-05-01    14323     8552     5854  NaN\n",
       "..        ...      ...      ...      ...  ...\n",
       "67 2021-08-01    14912     7364     6738  NaN\n",
       "68 2021-09-01    15081     7638     6995  NaN\n",
       "69 2021-10-01    14549     7636     7668  NaN\n",
       "70 2021-11-01    16628     8085     8438  NaN\n",
       "71 2021-12-01    19635     7578     7856  NaN\n",
       "\n",
       "[72 rows x 5 columns]"
      ]
     },
     "execution_count": 14,
     "metadata": {},
     "output_type": "execute_result"
    }
   ],
   "source": [
    "new_tmp.reset_index(drop=False)"
   ]
  },
  {
   "cell_type": "code",
   "execution_count": 15,
   "metadata": {},
   "outputs": [
    {
     "data": {
      "text/html": [
       "<div>\n",
       "<style scoped>\n",
       "    .dataframe tbody tr th:only-of-type {\n",
       "        vertical-align: middle;\n",
       "    }\n",
       "\n",
       "    .dataframe tbody tr th {\n",
       "        vertical-align: top;\n",
       "    }\n",
       "\n",
       "    .dataframe thead th {\n",
       "        text-align: right;\n",
       "    }\n",
       "</style>\n",
       "<table border=\"1\" class=\"dataframe\">\n",
       "  <thead>\n",
       "    <tr style=\"text-align: right;\">\n",
       "      <th></th>\n",
       "      <th>AIR_New</th>\n",
       "      <th>RF_New</th>\n",
       "      <th>WM_New</th>\n",
       "    </tr>\n",
       "    <tr>\n",
       "      <th>DATE</th>\n",
       "      <th></th>\n",
       "      <th></th>\n",
       "      <th></th>\n",
       "    </tr>\n",
       "  </thead>\n",
       "  <tbody>\n",
       "    <tr>\n",
       "      <td>2016-01-01</td>\n",
       "      <td>11056.5</td>\n",
       "      <td>6224.69</td>\n",
       "      <td>5882.12</td>\n",
       "    </tr>\n",
       "    <tr>\n",
       "      <td>2016-02-01</td>\n",
       "      <td>9986.51</td>\n",
       "      <td>5622.31</td>\n",
       "      <td>5312.88</td>\n",
       "    </tr>\n",
       "    <tr>\n",
       "      <td>2016-03-01</td>\n",
       "      <td>16391</td>\n",
       "      <td>8671</td>\n",
       "      <td>7270</td>\n",
       "    </tr>\n",
       "    <tr>\n",
       "      <td>2016-04-01</td>\n",
       "      <td>15829</td>\n",
       "      <td>8733</td>\n",
       "      <td>6071</td>\n",
       "    </tr>\n",
       "    <tr>\n",
       "      <td>2016-05-01</td>\n",
       "      <td>14323</td>\n",
       "      <td>8552</td>\n",
       "      <td>5854</td>\n",
       "    </tr>\n",
       "  </tbody>\n",
       "</table>\n",
       "</div>"
      ],
      "text/plain": [
       "            AIR_New   RF_New   WM_New\n",
       "DATE                                 \n",
       "2016-01-01  11056.5  6224.69  5882.12\n",
       "2016-02-01  9986.51  5622.31  5312.88\n",
       "2016-03-01    16391     8671     7270\n",
       "2016-04-01    15829     8733     6071\n",
       "2016-05-01    14323     8552     5854"
      ]
     },
     "execution_count": 15,
     "metadata": {},
     "output_type": "execute_result"
    }
   ],
   "source": [
    "del new_tmp['data']\n",
    "new_tmp.head()"
   ]
  },
  {
   "cell_type": "code",
   "execution_count": 16,
   "metadata": {},
   "outputs": [
    {
     "data": {
      "text/html": [
       "<div>\n",
       "<style scoped>\n",
       "    .dataframe tbody tr th:only-of-type {\n",
       "        vertical-align: middle;\n",
       "    }\n",
       "\n",
       "    .dataframe tbody tr th {\n",
       "        vertical-align: top;\n",
       "    }\n",
       "\n",
       "    .dataframe thead th {\n",
       "        text-align: right;\n",
       "    }\n",
       "</style>\n",
       "<table border=\"1\" class=\"dataframe\">\n",
       "  <thead>\n",
       "    <tr style=\"text-align: right;\">\n",
       "      <th></th>\n",
       "      <th>DATE</th>\n",
       "      <th>AIR_New</th>\n",
       "      <th>RF_New</th>\n",
       "      <th>WM_New</th>\n",
       "      <th>year</th>\n",
       "      <th>month</th>\n",
       "    </tr>\n",
       "  </thead>\n",
       "  <tbody>\n",
       "    <tr>\n",
       "      <td>59</td>\n",
       "      <td>2020-12-01</td>\n",
       "      <td>21525</td>\n",
       "      <td>7964</td>\n",
       "      <td>8064</td>\n",
       "      <td>2020</td>\n",
       "      <td>12</td>\n",
       "    </tr>\n",
       "    <tr>\n",
       "      <td>60</td>\n",
       "      <td>2021-01-01</td>\n",
       "      <td>15449.6</td>\n",
       "      <td>6361.31</td>\n",
       "      <td>6901.44</td>\n",
       "      <td>2021</td>\n",
       "      <td>01</td>\n",
       "    </tr>\n",
       "    <tr>\n",
       "      <td>61</td>\n",
       "      <td>2021-02-01</td>\n",
       "      <td>13954.4</td>\n",
       "      <td>5745.69</td>\n",
       "      <td>6233.56</td>\n",
       "      <td>2021</td>\n",
       "      <td>02</td>\n",
       "    </tr>\n",
       "    <tr>\n",
       "      <td>62</td>\n",
       "      <td>2021-03-01</td>\n",
       "      <td>25916</td>\n",
       "      <td>9466</td>\n",
       "      <td>8312</td>\n",
       "      <td>2021</td>\n",
       "      <td>03</td>\n",
       "    </tr>\n",
       "    <tr>\n",
       "      <td>63</td>\n",
       "      <td>2021-04-01</td>\n",
       "      <td>24210</td>\n",
       "      <td>7729</td>\n",
       "      <td>7720</td>\n",
       "      <td>2021</td>\n",
       "      <td>04</td>\n",
       "    </tr>\n",
       "    <tr>\n",
       "      <td>64</td>\n",
       "      <td>2021-05-01</td>\n",
       "      <td>22058</td>\n",
       "      <td>7487</td>\n",
       "      <td>7032</td>\n",
       "      <td>2021</td>\n",
       "      <td>05</td>\n",
       "    </tr>\n",
       "    <tr>\n",
       "      <td>65</td>\n",
       "      <td>2021-06-01</td>\n",
       "      <td>21670</td>\n",
       "      <td>7425</td>\n",
       "      <td>6640</td>\n",
       "      <td>2021</td>\n",
       "      <td>06</td>\n",
       "    </tr>\n",
       "    <tr>\n",
       "      <td>66</td>\n",
       "      <td>2021-07-01</td>\n",
       "      <td>18018</td>\n",
       "      <td>7410</td>\n",
       "      <td>6238</td>\n",
       "      <td>2021</td>\n",
       "      <td>07</td>\n",
       "    </tr>\n",
       "    <tr>\n",
       "      <td>67</td>\n",
       "      <td>2021-08-01</td>\n",
       "      <td>14912</td>\n",
       "      <td>7364</td>\n",
       "      <td>6738</td>\n",
       "      <td>2021</td>\n",
       "      <td>08</td>\n",
       "    </tr>\n",
       "    <tr>\n",
       "      <td>68</td>\n",
       "      <td>2021-09-01</td>\n",
       "      <td>15081</td>\n",
       "      <td>7638</td>\n",
       "      <td>6995</td>\n",
       "      <td>2021</td>\n",
       "      <td>09</td>\n",
       "    </tr>\n",
       "    <tr>\n",
       "      <td>69</td>\n",
       "      <td>2021-10-01</td>\n",
       "      <td>14549</td>\n",
       "      <td>7636</td>\n",
       "      <td>7668</td>\n",
       "      <td>2021</td>\n",
       "      <td>10</td>\n",
       "    </tr>\n",
       "    <tr>\n",
       "      <td>70</td>\n",
       "      <td>2021-11-01</td>\n",
       "      <td>16628</td>\n",
       "      <td>8085</td>\n",
       "      <td>8438</td>\n",
       "      <td>2021</td>\n",
       "      <td>11</td>\n",
       "    </tr>\n",
       "    <tr>\n",
       "      <td>71</td>\n",
       "      <td>2021-12-01</td>\n",
       "      <td>19635</td>\n",
       "      <td>7578</td>\n",
       "      <td>7856</td>\n",
       "      <td>2021</td>\n",
       "      <td>12</td>\n",
       "    </tr>\n",
       "  </tbody>\n",
       "</table>\n",
       "</div>"
      ],
      "text/plain": [
       "         DATE  AIR_New   RF_New   WM_New  year month\n",
       "59 2020-12-01    21525     7964     8064  2020    12\n",
       "60 2021-01-01  15449.6  6361.31  6901.44  2021    01\n",
       "61 2021-02-01  13954.4  5745.69  6233.56  2021    02\n",
       "62 2021-03-01    25916     9466     8312  2021    03\n",
       "63 2021-04-01    24210     7729     7720  2021    04\n",
       "64 2021-05-01    22058     7487     7032  2021    05\n",
       "65 2021-06-01    21670     7425     6640  2021    06\n",
       "66 2021-07-01    18018     7410     6238  2021    07\n",
       "67 2021-08-01    14912     7364     6738  2021    08\n",
       "68 2021-09-01    15081     7638     6995  2021    09\n",
       "69 2021-10-01    14549     7636     7668  2021    10\n",
       "70 2021-11-01    16628     8085     8438  2021    11\n",
       "71 2021-12-01    19635     7578     7856  2021    12"
      ]
     },
     "execution_count": 16,
     "metadata": {},
     "output_type": "execute_result"
    }
   ],
   "source": [
    "new_tmp.reset_index(inplace = True)\n",
    "\n",
    "new_tmp['year'] = [d.year for d in new_tmp.DATE]\n",
    "##df_ha['month'] = [d.strftime('%b') for d in df_ha.DATE]\n",
    "new_tmp['month'] = new_tmp['DATE'].dt.strftime('%m')\n",
    "years = new_tmp['year'].unique()\n",
    "new_tmp.tail(13)"
   ]
  },
  {
   "cell_type": "code",
   "execution_count": 17,
   "metadata": {},
   "outputs": [
    {
     "data": {
      "application/vnd.plotly.v1+json": {
       "config": {
        "plotlyServerURL": "https://plot.ly"
       },
       "data": [
        {
         "hovertemplate": "year=2016<br>month=%{x}<br>AIR_New=%{y}<extra></extra>",
         "legendgroup": "2016",
         "line": {
          "color": "#636efa",
          "dash": "solid"
         },
         "marker": {
          "symbol": "circle"
         },
         "mode": "lines",
         "name": "2016",
         "orientation": "v",
         "showlegend": true,
         "type": "scatter",
         "x": [
          "01",
          "02",
          "03",
          "04",
          "05",
          "06",
          "07",
          "08",
          "09",
          "10",
          "11",
          "12"
         ],
         "xaxis": "x",
         "y": [
          11056.49152542373,
          9986.50847457627,
          16391,
          15829,
          14323,
          16569,
          13265,
          12061,
          12351,
          11613,
          11950,
          14622
         ],
         "yaxis": "y"
        },
        {
         "hovertemplate": "year=2017<br>month=%{x}<br>AIR_New=%{y}<extra></extra>",
         "legendgroup": "2017",
         "line": {
          "color": "#EF553B",
          "dash": "solid"
         },
         "marker": {
          "symbol": "circle"
         },
         "mode": "lines",
         "name": "2017",
         "orientation": "v",
         "showlegend": true,
         "type": "scatter",
         "x": [
          "01",
          "02",
          "03",
          "04",
          "05",
          "06",
          "07",
          "08",
          "09",
          "10",
          "11",
          "12"
         ],
         "xaxis": "x",
         "y": [
          12879.186440677966,
          11632.813559322034,
          18875,
          19502,
          18706,
          19175,
          16654,
          14628,
          15254,
          13473,
          14601,
          15742
         ],
         "yaxis": "y"
        },
        {
         "hovertemplate": "year=2018<br>month=%{x}<br>AIR_New=%{y}<extra></extra>",
         "legendgroup": "2018",
         "line": {
          "color": "#00cc96",
          "dash": "solid"
         },
         "marker": {
          "symbol": "circle"
         },
         "mode": "lines",
         "name": "2018",
         "orientation": "v",
         "showlegend": true,
         "type": "scatter",
         "x": [
          "01",
          "02",
          "03",
          "04",
          "05",
          "06",
          "07",
          "08",
          "09",
          "10",
          "11",
          "12"
         ],
         "xaxis": "x",
         "y": [
          14723.949152542373,
          13299.050847457627,
          20190,
          21432,
          21344,
          20798,
          17188,
          14753,
          16083,
          13568,
          15198,
          18320
         ],
         "yaxis": "y"
        },
        {
         "hovertemplate": "year=2019<br>month=%{x}<br>AIR_New=%{y}<extra></extra>",
         "legendgroup": "2019",
         "line": {
          "color": "#ab63fa",
          "dash": "solid"
         },
         "marker": {
          "symbol": "circle"
         },
         "mode": "lines",
         "name": "2019",
         "orientation": "v",
         "showlegend": true,
         "type": "scatter",
         "x": [
          "01",
          "02",
          "03",
          "04",
          "05",
          "06",
          "07",
          "08",
          "09",
          "10",
          "11",
          "12"
         ],
         "xaxis": "x",
         "y": [
          14651.440677966102,
          13233.559322033898,
          24069,
          23636,
          21912,
          21331,
          16861,
          14332,
          17839,
          13322,
          15455,
          20349
         ],
         "yaxis": "y"
        },
        {
         "hovertemplate": "year=2020<br>month=%{x}<br>AIR_New=%{y}<extra></extra>",
         "legendgroup": "2020",
         "line": {
          "color": "#FFA15A",
          "dash": "solid"
         },
         "marker": {
          "symbol": "circle"
         },
         "mode": "lines",
         "name": "2020",
         "orientation": "v",
         "showlegend": true,
         "type": "scatter",
         "x": [
          "01",
          "02",
          "03",
          "04",
          "05",
          "06",
          "07",
          "08",
          "09",
          "10",
          "11",
          "12"
         ],
         "xaxis": "x",
         "y": [
          8556.525423728814,
          7728.474576271186,
          19403,
          19159,
          19428,
          24903,
          18512,
          15330,
          17141,
          14489,
          17716,
          21525
         ],
         "yaxis": "y"
        },
        {
         "hovertemplate": "year=2021<br>month=%{x}<br>AIR_New=%{y}<extra></extra>",
         "legendgroup": "2021",
         "line": {
          "color": "#19d3f3",
          "dash": "solid"
         },
         "marker": {
          "symbol": "circle"
         },
         "mode": "lines",
         "name": "2021",
         "orientation": "v",
         "showlegend": true,
         "type": "scatter",
         "x": [
          "01",
          "02",
          "03",
          "04",
          "05",
          "06",
          "07",
          "08",
          "09",
          "10",
          "11",
          "12"
         ],
         "xaxis": "x",
         "y": [
          15449.559322033898,
          13954.440677966102,
          25916,
          24210,
          22058,
          21670,
          18018,
          14912,
          15081,
          14549,
          16628,
          19635
         ],
         "yaxis": "y"
        }
       ],
       "layout": {
        "legend": {
         "title": {
          "text": "year"
         },
         "tracegroupgap": 0
        },
        "margin": {
         "t": 60
        },
        "template": {
         "data": {
          "bar": [
           {
            "error_x": {
             "color": "#2a3f5f"
            },
            "error_y": {
             "color": "#2a3f5f"
            },
            "marker": {
             "line": {
              "color": "#E5ECF6",
              "width": 0.5
             },
             "pattern": {
              "fillmode": "overlay",
              "size": 10,
              "solidity": 0.2
             }
            },
            "type": "bar"
           }
          ],
          "barpolar": [
           {
            "marker": {
             "line": {
              "color": "#E5ECF6",
              "width": 0.5
             },
             "pattern": {
              "fillmode": "overlay",
              "size": 10,
              "solidity": 0.2
             }
            },
            "type": "barpolar"
           }
          ],
          "carpet": [
           {
            "aaxis": {
             "endlinecolor": "#2a3f5f",
             "gridcolor": "white",
             "linecolor": "white",
             "minorgridcolor": "white",
             "startlinecolor": "#2a3f5f"
            },
            "baxis": {
             "endlinecolor": "#2a3f5f",
             "gridcolor": "white",
             "linecolor": "white",
             "minorgridcolor": "white",
             "startlinecolor": "#2a3f5f"
            },
            "type": "carpet"
           }
          ],
          "choropleth": [
           {
            "colorbar": {
             "outlinewidth": 0,
             "ticks": ""
            },
            "type": "choropleth"
           }
          ],
          "contour": [
           {
            "colorbar": {
             "outlinewidth": 0,
             "ticks": ""
            },
            "colorscale": [
             [
              0,
              "#0d0887"
             ],
             [
              0.1111111111111111,
              "#46039f"
             ],
             [
              0.2222222222222222,
              "#7201a8"
             ],
             [
              0.3333333333333333,
              "#9c179e"
             ],
             [
              0.4444444444444444,
              "#bd3786"
             ],
             [
              0.5555555555555556,
              "#d8576b"
             ],
             [
              0.6666666666666666,
              "#ed7953"
             ],
             [
              0.7777777777777778,
              "#fb9f3a"
             ],
             [
              0.8888888888888888,
              "#fdca26"
             ],
             [
              1,
              "#f0f921"
             ]
            ],
            "type": "contour"
           }
          ],
          "contourcarpet": [
           {
            "colorbar": {
             "outlinewidth": 0,
             "ticks": ""
            },
            "type": "contourcarpet"
           }
          ],
          "heatmap": [
           {
            "colorbar": {
             "outlinewidth": 0,
             "ticks": ""
            },
            "colorscale": [
             [
              0,
              "#0d0887"
             ],
             [
              0.1111111111111111,
              "#46039f"
             ],
             [
              0.2222222222222222,
              "#7201a8"
             ],
             [
              0.3333333333333333,
              "#9c179e"
             ],
             [
              0.4444444444444444,
              "#bd3786"
             ],
             [
              0.5555555555555556,
              "#d8576b"
             ],
             [
              0.6666666666666666,
              "#ed7953"
             ],
             [
              0.7777777777777778,
              "#fb9f3a"
             ],
             [
              0.8888888888888888,
              "#fdca26"
             ],
             [
              1,
              "#f0f921"
             ]
            ],
            "type": "heatmap"
           }
          ],
          "heatmapgl": [
           {
            "colorbar": {
             "outlinewidth": 0,
             "ticks": ""
            },
            "colorscale": [
             [
              0,
              "#0d0887"
             ],
             [
              0.1111111111111111,
              "#46039f"
             ],
             [
              0.2222222222222222,
              "#7201a8"
             ],
             [
              0.3333333333333333,
              "#9c179e"
             ],
             [
              0.4444444444444444,
              "#bd3786"
             ],
             [
              0.5555555555555556,
              "#d8576b"
             ],
             [
              0.6666666666666666,
              "#ed7953"
             ],
             [
              0.7777777777777778,
              "#fb9f3a"
             ],
             [
              0.8888888888888888,
              "#fdca26"
             ],
             [
              1,
              "#f0f921"
             ]
            ],
            "type": "heatmapgl"
           }
          ],
          "histogram": [
           {
            "marker": {
             "pattern": {
              "fillmode": "overlay",
              "size": 10,
              "solidity": 0.2
             }
            },
            "type": "histogram"
           }
          ],
          "histogram2d": [
           {
            "colorbar": {
             "outlinewidth": 0,
             "ticks": ""
            },
            "colorscale": [
             [
              0,
              "#0d0887"
             ],
             [
              0.1111111111111111,
              "#46039f"
             ],
             [
              0.2222222222222222,
              "#7201a8"
             ],
             [
              0.3333333333333333,
              "#9c179e"
             ],
             [
              0.4444444444444444,
              "#bd3786"
             ],
             [
              0.5555555555555556,
              "#d8576b"
             ],
             [
              0.6666666666666666,
              "#ed7953"
             ],
             [
              0.7777777777777778,
              "#fb9f3a"
             ],
             [
              0.8888888888888888,
              "#fdca26"
             ],
             [
              1,
              "#f0f921"
             ]
            ],
            "type": "histogram2d"
           }
          ],
          "histogram2dcontour": [
           {
            "colorbar": {
             "outlinewidth": 0,
             "ticks": ""
            },
            "colorscale": [
             [
              0,
              "#0d0887"
             ],
             [
              0.1111111111111111,
              "#46039f"
             ],
             [
              0.2222222222222222,
              "#7201a8"
             ],
             [
              0.3333333333333333,
              "#9c179e"
             ],
             [
              0.4444444444444444,
              "#bd3786"
             ],
             [
              0.5555555555555556,
              "#d8576b"
             ],
             [
              0.6666666666666666,
              "#ed7953"
             ],
             [
              0.7777777777777778,
              "#fb9f3a"
             ],
             [
              0.8888888888888888,
              "#fdca26"
             ],
             [
              1,
              "#f0f921"
             ]
            ],
            "type": "histogram2dcontour"
           }
          ],
          "mesh3d": [
           {
            "colorbar": {
             "outlinewidth": 0,
             "ticks": ""
            },
            "type": "mesh3d"
           }
          ],
          "parcoords": [
           {
            "line": {
             "colorbar": {
              "outlinewidth": 0,
              "ticks": ""
             }
            },
            "type": "parcoords"
           }
          ],
          "pie": [
           {
            "automargin": true,
            "type": "pie"
           }
          ],
          "scatter": [
           {
            "marker": {
             "colorbar": {
              "outlinewidth": 0,
              "ticks": ""
             }
            },
            "type": "scatter"
           }
          ],
          "scatter3d": [
           {
            "line": {
             "colorbar": {
              "outlinewidth": 0,
              "ticks": ""
             }
            },
            "marker": {
             "colorbar": {
              "outlinewidth": 0,
              "ticks": ""
             }
            },
            "type": "scatter3d"
           }
          ],
          "scattercarpet": [
           {
            "marker": {
             "colorbar": {
              "outlinewidth": 0,
              "ticks": ""
             }
            },
            "type": "scattercarpet"
           }
          ],
          "scattergeo": [
           {
            "marker": {
             "colorbar": {
              "outlinewidth": 0,
              "ticks": ""
             }
            },
            "type": "scattergeo"
           }
          ],
          "scattergl": [
           {
            "marker": {
             "colorbar": {
              "outlinewidth": 0,
              "ticks": ""
             }
            },
            "type": "scattergl"
           }
          ],
          "scattermapbox": [
           {
            "marker": {
             "colorbar": {
              "outlinewidth": 0,
              "ticks": ""
             }
            },
            "type": "scattermapbox"
           }
          ],
          "scatterpolar": [
           {
            "marker": {
             "colorbar": {
              "outlinewidth": 0,
              "ticks": ""
             }
            },
            "type": "scatterpolar"
           }
          ],
          "scatterpolargl": [
           {
            "marker": {
             "colorbar": {
              "outlinewidth": 0,
              "ticks": ""
             }
            },
            "type": "scatterpolargl"
           }
          ],
          "scatterternary": [
           {
            "marker": {
             "colorbar": {
              "outlinewidth": 0,
              "ticks": ""
             }
            },
            "type": "scatterternary"
           }
          ],
          "surface": [
           {
            "colorbar": {
             "outlinewidth": 0,
             "ticks": ""
            },
            "colorscale": [
             [
              0,
              "#0d0887"
             ],
             [
              0.1111111111111111,
              "#46039f"
             ],
             [
              0.2222222222222222,
              "#7201a8"
             ],
             [
              0.3333333333333333,
              "#9c179e"
             ],
             [
              0.4444444444444444,
              "#bd3786"
             ],
             [
              0.5555555555555556,
              "#d8576b"
             ],
             [
              0.6666666666666666,
              "#ed7953"
             ],
             [
              0.7777777777777778,
              "#fb9f3a"
             ],
             [
              0.8888888888888888,
              "#fdca26"
             ],
             [
              1,
              "#f0f921"
             ]
            ],
            "type": "surface"
           }
          ],
          "table": [
           {
            "cells": {
             "fill": {
              "color": "#EBF0F8"
             },
             "line": {
              "color": "white"
             }
            },
            "header": {
             "fill": {
              "color": "#C8D4E3"
             },
             "line": {
              "color": "white"
             }
            },
            "type": "table"
           }
          ]
         },
         "layout": {
          "annotationdefaults": {
           "arrowcolor": "#2a3f5f",
           "arrowhead": 0,
           "arrowwidth": 1
          },
          "autotypenumbers": "strict",
          "coloraxis": {
           "colorbar": {
            "outlinewidth": 0,
            "ticks": ""
           }
          },
          "colorscale": {
           "diverging": [
            [
             0,
             "#8e0152"
            ],
            [
             0.1,
             "#c51b7d"
            ],
            [
             0.2,
             "#de77ae"
            ],
            [
             0.3,
             "#f1b6da"
            ],
            [
             0.4,
             "#fde0ef"
            ],
            [
             0.5,
             "#f7f7f7"
            ],
            [
             0.6,
             "#e6f5d0"
            ],
            [
             0.7,
             "#b8e186"
            ],
            [
             0.8,
             "#7fbc41"
            ],
            [
             0.9,
             "#4d9221"
            ],
            [
             1,
             "#276419"
            ]
           ],
           "sequential": [
            [
             0,
             "#0d0887"
            ],
            [
             0.1111111111111111,
             "#46039f"
            ],
            [
             0.2222222222222222,
             "#7201a8"
            ],
            [
             0.3333333333333333,
             "#9c179e"
            ],
            [
             0.4444444444444444,
             "#bd3786"
            ],
            [
             0.5555555555555556,
             "#d8576b"
            ],
            [
             0.6666666666666666,
             "#ed7953"
            ],
            [
             0.7777777777777778,
             "#fb9f3a"
            ],
            [
             0.8888888888888888,
             "#fdca26"
            ],
            [
             1,
             "#f0f921"
            ]
           ],
           "sequentialminus": [
            [
             0,
             "#0d0887"
            ],
            [
             0.1111111111111111,
             "#46039f"
            ],
            [
             0.2222222222222222,
             "#7201a8"
            ],
            [
             0.3333333333333333,
             "#9c179e"
            ],
            [
             0.4444444444444444,
             "#bd3786"
            ],
            [
             0.5555555555555556,
             "#d8576b"
            ],
            [
             0.6666666666666666,
             "#ed7953"
            ],
            [
             0.7777777777777778,
             "#fb9f3a"
            ],
            [
             0.8888888888888888,
             "#fdca26"
            ],
            [
             1,
             "#f0f921"
            ]
           ]
          },
          "colorway": [
           "#636efa",
           "#EF553B",
           "#00cc96",
           "#ab63fa",
           "#FFA15A",
           "#19d3f3",
           "#FF6692",
           "#B6E880",
           "#FF97FF",
           "#FECB52"
          ],
          "font": {
           "color": "#2a3f5f"
          },
          "geo": {
           "bgcolor": "white",
           "lakecolor": "white",
           "landcolor": "#E5ECF6",
           "showlakes": true,
           "showland": true,
           "subunitcolor": "white"
          },
          "hoverlabel": {
           "align": "left"
          },
          "hovermode": "closest",
          "mapbox": {
           "style": "light"
          },
          "paper_bgcolor": "white",
          "plot_bgcolor": "#E5ECF6",
          "polar": {
           "angularaxis": {
            "gridcolor": "white",
            "linecolor": "white",
            "ticks": ""
           },
           "bgcolor": "#E5ECF6",
           "radialaxis": {
            "gridcolor": "white",
            "linecolor": "white",
            "ticks": ""
           }
          },
          "scene": {
           "xaxis": {
            "backgroundcolor": "#E5ECF6",
            "gridcolor": "white",
            "gridwidth": 2,
            "linecolor": "white",
            "showbackground": true,
            "ticks": "",
            "zerolinecolor": "white"
           },
           "yaxis": {
            "backgroundcolor": "#E5ECF6",
            "gridcolor": "white",
            "gridwidth": 2,
            "linecolor": "white",
            "showbackground": true,
            "ticks": "",
            "zerolinecolor": "white"
           },
           "zaxis": {
            "backgroundcolor": "#E5ECF6",
            "gridcolor": "white",
            "gridwidth": 2,
            "linecolor": "white",
            "showbackground": true,
            "ticks": "",
            "zerolinecolor": "white"
           }
          },
          "shapedefaults": {
           "line": {
            "color": "#2a3f5f"
           }
          },
          "ternary": {
           "aaxis": {
            "gridcolor": "white",
            "linecolor": "white",
            "ticks": ""
           },
           "baxis": {
            "gridcolor": "white",
            "linecolor": "white",
            "ticks": ""
           },
           "bgcolor": "#E5ECF6",
           "caxis": {
            "gridcolor": "white",
            "linecolor": "white",
            "ticks": ""
           }
          },
          "title": {
           "x": 0.05
          },
          "xaxis": {
           "automargin": true,
           "gridcolor": "white",
           "linecolor": "white",
           "ticks": "",
           "title": {
            "standoff": 15
           },
           "zerolinecolor": "white",
           "zerolinewidth": 2
          },
          "yaxis": {
           "automargin": true,
           "gridcolor": "white",
           "linecolor": "white",
           "ticks": "",
           "title": {
            "standoff": 15
           },
           "zerolinecolor": "white",
           "zerolinewidth": 2
          }
         }
        },
        "xaxis": {
         "anchor": "y",
         "domain": [
          0,
          1
         ],
         "title": {
          "text": "month"
         }
        },
        "yaxis": {
         "anchor": "x",
         "domain": [
          0,
          1
         ],
         "title": {
          "text": "AIR_New"
         }
        }
       }
      }
     },
     "metadata": {},
     "output_type": "display_data"
    }
   ],
   "source": [
    "fig = px.line(new_tmp, x='month', y='AIR_New', color='year')\n",
    "fig.show()"
   ]
  },
  {
   "cell_type": "code",
   "execution_count": 19,
   "metadata": {},
   "outputs": [
    {
     "data": {
      "text/html": [
       "<div>\n",
       "<style scoped>\n",
       "    .dataframe tbody tr th:only-of-type {\n",
       "        vertical-align: middle;\n",
       "    }\n",
       "\n",
       "    .dataframe tbody tr th {\n",
       "        vertical-align: top;\n",
       "    }\n",
       "\n",
       "    .dataframe thead th {\n",
       "        text-align: right;\n",
       "    }\n",
       "</style>\n",
       "<table border=\"1\" class=\"dataframe\">\n",
       "  <thead>\n",
       "    <tr style=\"text-align: right;\">\n",
       "      <th>month</th>\n",
       "      <th>01</th>\n",
       "      <th>02</th>\n",
       "      <th>03</th>\n",
       "      <th>04</th>\n",
       "      <th>05</th>\n",
       "      <th>06</th>\n",
       "      <th>07</th>\n",
       "      <th>08</th>\n",
       "      <th>09</th>\n",
       "      <th>10</th>\n",
       "      <th>11</th>\n",
       "      <th>12</th>\n",
       "    </tr>\n",
       "    <tr>\n",
       "      <th>year</th>\n",
       "      <th></th>\n",
       "      <th></th>\n",
       "      <th></th>\n",
       "      <th></th>\n",
       "      <th></th>\n",
       "      <th></th>\n",
       "      <th></th>\n",
       "      <th></th>\n",
       "      <th></th>\n",
       "      <th></th>\n",
       "      <th></th>\n",
       "      <th></th>\n",
       "    </tr>\n",
       "  </thead>\n",
       "  <tbody>\n",
       "    <tr>\n",
       "      <td>2016</td>\n",
       "      <td>11056.491525</td>\n",
       "      <td>9986.508475</td>\n",
       "      <td>16391.0</td>\n",
       "      <td>15829.0</td>\n",
       "      <td>14323.0</td>\n",
       "      <td>16569.0</td>\n",
       "      <td>13265.0</td>\n",
       "      <td>12061.0</td>\n",
       "      <td>12351.0</td>\n",
       "      <td>11613.0</td>\n",
       "      <td>11950.0</td>\n",
       "      <td>14622.0</td>\n",
       "    </tr>\n",
       "    <tr>\n",
       "      <td>2017</td>\n",
       "      <td>12879.186441</td>\n",
       "      <td>11632.813559</td>\n",
       "      <td>18875.0</td>\n",
       "      <td>19502.0</td>\n",
       "      <td>18706.0</td>\n",
       "      <td>19175.0</td>\n",
       "      <td>16654.0</td>\n",
       "      <td>14628.0</td>\n",
       "      <td>15254.0</td>\n",
       "      <td>13473.0</td>\n",
       "      <td>14601.0</td>\n",
       "      <td>15742.0</td>\n",
       "    </tr>\n",
       "    <tr>\n",
       "      <td>2018</td>\n",
       "      <td>14723.949153</td>\n",
       "      <td>13299.050847</td>\n",
       "      <td>20190.0</td>\n",
       "      <td>21432.0</td>\n",
       "      <td>21344.0</td>\n",
       "      <td>20798.0</td>\n",
       "      <td>17188.0</td>\n",
       "      <td>14753.0</td>\n",
       "      <td>16083.0</td>\n",
       "      <td>13568.0</td>\n",
       "      <td>15198.0</td>\n",
       "      <td>18320.0</td>\n",
       "    </tr>\n",
       "    <tr>\n",
       "      <td>2019</td>\n",
       "      <td>14651.440678</td>\n",
       "      <td>13233.559322</td>\n",
       "      <td>24069.0</td>\n",
       "      <td>23636.0</td>\n",
       "      <td>21912.0</td>\n",
       "      <td>21331.0</td>\n",
       "      <td>16861.0</td>\n",
       "      <td>14332.0</td>\n",
       "      <td>17839.0</td>\n",
       "      <td>13322.0</td>\n",
       "      <td>15455.0</td>\n",
       "      <td>20349.0</td>\n",
       "    </tr>\n",
       "    <tr>\n",
       "      <td>2020</td>\n",
       "      <td>8556.525424</td>\n",
       "      <td>7728.474576</td>\n",
       "      <td>19403.0</td>\n",
       "      <td>19159.0</td>\n",
       "      <td>19428.0</td>\n",
       "      <td>24903.0</td>\n",
       "      <td>18512.0</td>\n",
       "      <td>15330.0</td>\n",
       "      <td>17141.0</td>\n",
       "      <td>14489.0</td>\n",
       "      <td>17716.0</td>\n",
       "      <td>21525.0</td>\n",
       "    </tr>\n",
       "    <tr>\n",
       "      <td>2021</td>\n",
       "      <td>15449.559322</td>\n",
       "      <td>13954.440678</td>\n",
       "      <td>25916.0</td>\n",
       "      <td>24210.0</td>\n",
       "      <td>22058.0</td>\n",
       "      <td>21670.0</td>\n",
       "      <td>18018.0</td>\n",
       "      <td>14912.0</td>\n",
       "      <td>15081.0</td>\n",
       "      <td>14549.0</td>\n",
       "      <td>16628.0</td>\n",
       "      <td>19635.0</td>\n",
       "    </tr>\n",
       "  </tbody>\n",
       "</table>\n",
       "</div>"
      ],
      "text/plain": [
       "month            01            02       03       04       05       06  \\\n",
       "year                                                                    \n",
       "2016   11056.491525   9986.508475  16391.0  15829.0  14323.0  16569.0   \n",
       "2017   12879.186441  11632.813559  18875.0  19502.0  18706.0  19175.0   \n",
       "2018   14723.949153  13299.050847  20190.0  21432.0  21344.0  20798.0   \n",
       "2019   14651.440678  13233.559322  24069.0  23636.0  21912.0  21331.0   \n",
       "2020    8556.525424   7728.474576  19403.0  19159.0  19428.0  24903.0   \n",
       "2021   15449.559322  13954.440678  25916.0  24210.0  22058.0  21670.0   \n",
       "\n",
       "month       07       08       09       10       11       12  \n",
       "year                                                         \n",
       "2016   13265.0  12061.0  12351.0  11613.0  11950.0  14622.0  \n",
       "2017   16654.0  14628.0  15254.0  13473.0  14601.0  15742.0  \n",
       "2018   17188.0  14753.0  16083.0  13568.0  15198.0  18320.0  \n",
       "2019   16861.0  14332.0  17839.0  13322.0  15455.0  20349.0  \n",
       "2020   18512.0  15330.0  17141.0  14489.0  17716.0  21525.0  \n",
       "2021   18018.0  14912.0  15081.0  14549.0  16628.0  19635.0  "
      ]
     },
     "execution_count": 19,
     "metadata": {},
     "output_type": "execute_result"
    }
   ],
   "source": [
    "df_ha_air = new_tmp.pivot_table('AIR_New', 'year','month', aggfunc=np.sum)\n",
    "df_ha_air"
   ]
  },
  {
   "cell_type": "code",
   "execution_count": null,
   "metadata": {},
   "outputs": [],
   "source": []
  }
 ],
 "metadata": {
  "interpreter": {
   "hash": "6cb7802b8a24d27d83146ff99a4950f6d20687e85d7335fb9006265914123dc9"
  },
  "kernelspec": {
   "display_name": "Python 3.8.1 32-bit",
   "language": "python",
   "name": "python3"
  },
  "language_info": {
   "codemirror_mode": {
    "name": "ipython",
    "version": 3
   },
   "file_extension": ".py",
   "mimetype": "text/x-python",
   "name": "python",
   "nbconvert_exporter": "python",
   "pygments_lexer": "ipython3",
   "version": "3.7.4"
  },
  "orig_nbformat": 4
 },
 "nbformat": 4,
 "nbformat_minor": 2
}
